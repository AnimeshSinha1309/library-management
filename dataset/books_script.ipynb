{
 "cells": [
  {
   "cell_type": "markdown",
   "metadata": {},
   "source": [
    "# Fetch books using google api"
   ]
  },
  {
   "cell_type": "code",
   "execution_count": 173,
   "metadata": {},
   "outputs": [],
   "source": [
    "import requests\n",
    "import json\n",
    "import os"
   ]
  },
  {
   "cell_type": "code",
   "execution_count": 84,
   "metadata": {},
   "outputs": [
    {
     "data": {
      "text/plain": [
       "['Business & Investing',\n",
       " 'Crafts & Hobbies',\n",
       " 'Art, Music & Photography',\n",
       " 'Home & Garden',\n",
       " 'True Crime',\n",
       " 'History',\n",
       " 'Computers & Technology',\n",
       " 'Travel',\n",
       " 'Kids',\n",
       " 'Biographies & Memoirs',\n",
       " 'Horror',\n",
       " 'Biology',\n",
       " 'Comics & Graphics Novels']"
      ]
     },
     "execution_count": 84,
     "metadata": {},
     "output_type": "execute_result"
    }
   ],
   "source": [
    "api = 'https://www.googleapis.com/books/v1/volumes'\n",
    "base_folder = './topics'\n",
    "os.listdir(base_folder)"
   ]
  },
  {
   "cell_type": "code",
   "execution_count": 175,
   "metadata": {},
   "outputs": [],
   "source": [
    "dir = 'Sports & Outdoors'\n",
    "folder = base_folder + '/' + dir\n",
    "if dir not in os.listdir(base_folder):\n",
    "    os.mkdir(folder) \n",
    "catg = ['BasketBall','Camping','Football','Golf','Hockey','Olympics','Soccer','Martial Arts','Boating','Baseball']"
   ]
  },
  {
   "cell_type": "code",
   "execution_count": 24,
   "metadata": {},
   "outputs": [],
   "source": [
    "def fetch(subject, file, q=0, folder=folder, loop=3):\n",
    "    arr = []\n",
    "    api = 'https://www.googleapis.com/books/v1/volumes'\n",
    "    for l in range(loop):\n",
    "        if not q:\n",
    "            url = api + '?q=subject:' + subject + '&langRestrict=en&startIndex=' + str(l * 40) + '&maxResults=40'\n",
    "        else:\n",
    "            url = api + '?q=' + subject + '&langRestrict=en&startIndex=' + str(l * 40) + '&maxResults=40'\n",
    "        res = requests.get(url).json()\n",
    "        if not res['totalItems']:\n",
    "            break\n",
    "        arr += res['items']\n",
    "        if len(res['items']) < 40:\n",
    "            break\n",
    "    if len(arr):\n",
    "        print(len(arr))\n",
    "        with open(folder + '/' + file + '.json', 'w') as f:\n",
    "            json.dump(arr, f)"
   ]
  },
  {
   "cell_type": "code",
   "execution_count": 245,
   "metadata": {},
   "outputs": [
    {
     "ename": "IndexError",
     "evalue": "list index out of range",
     "output_type": "error",
     "traceback": [
      "\u001b[0;31m------------------------------------------------------------------------\u001b[0m",
      "\u001b[0;31mIndexError\u001b[0m                             Traceback (most recent call last)",
      "\u001b[0;32m<ipython-input-245-8f8f3e9834e8>\u001b[0m in \u001b[0;36m<module>\u001b[0;34m\u001b[0m\n\u001b[0;32m----> 1\u001b[0;31m \u001b[0mfile\u001b[0m \u001b[0;34m=\u001b[0m \u001b[0mcatg\u001b[0m\u001b[0;34m[\u001b[0m\u001b[0;36m10\u001b[0m\u001b[0;34m]\u001b[0m\u001b[0;34m\u001b[0m\u001b[0;34m\u001b[0m\u001b[0m\n\u001b[0m\u001b[1;32m      2\u001b[0m \u001b[0mprint\u001b[0m\u001b[0;34m(\u001b[0m\u001b[0mfile\u001b[0m\u001b[0;34m)\u001b[0m\u001b[0;34m\u001b[0m\u001b[0;34m\u001b[0m\u001b[0m\n\u001b[1;32m      3\u001b[0m \u001b[0msubject\u001b[0m \u001b[0;34m=\u001b[0m \u001b[0mfile\u001b[0m\u001b[0;34m\u001b[0m\u001b[0;34m\u001b[0m\u001b[0m\n",
      "\u001b[0;31mIndexError\u001b[0m: list index out of range"
     ]
    }
   ],
   "source": [
    "file = catg[9]\n",
    "print(file)\n",
    "subject = file"
   ]
  },
  {
   "cell_type": "code",
   "execution_count": 240,
   "metadata": {
    "scrolled": true
   },
   "outputs": [
    {
     "name": "stdout",
     "output_type": "stream",
     "text": [
      "3139\n",
      "title:Encyclopedia of Major League Baseball Clubs\n",
      "category: ['Baseball teams']\n",
      "\n",
      "title:Baseball\n",
      "category: ['Social Science']\n",
      "description: In Baseball: The People's Game, Dorothy Seymour Mills and Harold Seymour produce an authoritative, multi-volume chronicle of America's national pastime. The first two volumes of this study -The Early \n",
      "\n",
      "title:Baseball\n",
      "category: ['Sports & Recreation']\n",
      "description: A succinct history of baseball, newly revised and updated\n",
      "\n",
      "title:Baseball\n",
      "category: ['Social Science']\n",
      "description: Now available in paperback, Harold Seymour and Dorothy Seymour Mills' Baseball: The Early Years recounts the true story of how baseball came into being and how it developed into a highly organized bus\n",
      "\n",
      "title:Baseball\n",
      "category: ['Juvenile Nonfiction']\n",
      "description: Presents the mathematical concepts involved with the sport of baseball.\n",
      "\n",
      "title:Baseball Economics\n",
      "category: ['Business & Economics']\n",
      "description: Addresses problems confronting the baseball industry, especially those which surfaced during the 1994-95 negotiations between owners and players. Contains section on the product market, the labor mark\n",
      "\n",
      "title:The Book\n",
      "category: ['Sports & Recreation']\n",
      "description: Written by three esteemed baseball statisticians, The Bookcontinues where the legendary Bill James’s Baseball Abstractsand Palmer and Thorn’s The Hidden Game of Baseballleft off more than twenty years\n",
      "\n",
      "title:Teaching Statistics Using Baseball\n",
      "category: ['Education']\n",
      "description: Albert (mathematics and statistics, Bowling Green State U.) developed this textbook to teach statistics in a way that will be familiar and interesting to students, particularly those satisfying their \n",
      "\n",
      "title:Baseball Math\n",
      "category: ['Education']\n",
      "description: Educational resource for teachers, parents and kids!\n",
      "\n",
      "title:Sunday Baseball\n",
      "category: ['History']\n",
      "description: Playing baseball on Sunday was a divisive issue in the late nineteenth and early twentieth centuries. On one side of the argument were the owners, who wanted to take in more money, and working people,\n",
      "\n",
      "title:The Baseball Coaching Bible\n",
      "category: ['Education']\n",
      "description: Covers all aspects of coaching baseball including creating effective practive sessions, motivating players, and building a successful program.\n",
      "\n",
      "title:Baseball\n",
      "category: ['Sports & Recreation']\n",
      "description: A history of baseball in America provides in a second edition the author's commentary on the sport in the 1990s, from the influence of Latino players and the building of retroparks to the race for new\n",
      "\n",
      "title:Women in Baseball\n",
      "category: ['Sports & Recreation']\n",
      "description: In fact, not until 1952 was there a rule barring women from being professional players.\n",
      "\n",
      "title:The Ultimate Guide to Weight Training for Baseball & Softball (Enhanced Edition)\n",
      "\n",
      "title:A History of Australian Baseball\n",
      "category: ['Sports & Recreation']\n",
      "description: Through extensive interviews and archival research, Joe Clark has uncovered the engaging details of Australian baseball’s unique, and often turbulent, 125-year history, and for the first time the dyna\n",
      "\n",
      "title:Reel Baseball\n",
      "category: ['Sports & Recreation']\n",
      "description: Not only are movies and baseball two of America’s favorite pastimes, they are integral parts of our culture. Small wonder that the two frequently merge in Hollywood’s use of baseball themes, jargon, a\n",
      "\n",
      "title:Jerome Holtzman on Baseball\n",
      "category: ['Sports & Recreation']\n",
      "description: Sportswriter Jerome Holtzman has been around the game of baseball for more than 60 years. During that span he has met and worked alongside most of the greatest writers American sports has ever known. \n",
      "\n",
      "title:Baseball in Chillicothe\n",
      "category: ['History']\n",
      "description: The Chillicothe Paints play baseball the way it was meant to be played--talented young men chasing their dreams to play pro ball before sell-out crowds in small town America. A charter member of the F\n",
      "\n",
      "title:Baseball and the American Dream\n",
      "category: ['Social Science']\n",
      "description: One particular American sport arguably surpasses all others in reflecting U.S. society: the national pastime -- baseball. Roger Angell has suggested, \"Baseball seems to have been invented solely for t\n",
      "\n",
      "title:Baseball\n",
      "category: ['Juvenile Nonfiction']\n",
      "description: Discusses the origins and evolution of the game of baseball, as well as memorable events and key personalities in the game's history.\n",
      "\n",
      "title:Baseball and Softball Fields\n",
      "category: ['Architecture']\n",
      "description: Create the flawless playing field your team and its fans deserve. This book covers it all, from stadium and field design to fences and drainage to amenities for spectators. In practical, non-technical\n",
      "\n",
      "title:Baseball Hall of Shame 4\n",
      "category: ['Sports & Recreation']\n",
      "description: The Baseball Hall of Shame 4 contains more than 100 absurd, offbeat and hysterically funny stories proving that on the playing field and in the ballpark, truth is indeed stranger than fiction.\n",
      "\n",
      "title:Baseball in Richmond\n",
      "category: ['History']\n",
      "description: From Daddy Boschen's first professional baseball \"shoe shop team\" to our current Richmond Braves, from the ballyards of the old fairgrounds of Monroe Park to the Diamond on the Boulevard, baseball in \n",
      "\n",
      "title:The Cooperstown Symposium on Baseball and American Culture, 2001\n",
      "category: ['Sports & Recreation']\n",
      "description: This is an anthology of 23 papers that were presented at the Thirteenth Cooperstown Symposium on Baseball and American Culture, held June 6–8, 2001, and co-sponsored by the State University of New Yor\n",
      "\n",
      "title:Baseball in San Diego\n",
      "category: ['History']\n",
      "description: Baseball in San Diego: From the Plaza to the Padres, takes the reader on a seven-decade journey from Horton Plaza, the site of San Diego's first base ball game in 1871, to lower Broadway and the futur\n",
      "\n",
      "title:Baseball in April and Other Stories\n",
      "category: ['Juvenile Fiction']\n",
      "description: In this unique collection of short stories, the small events of daily life reveal big themes-love and friendship, youth and growing up, success and failure.Calling on his own experiences of growing up\n",
      "\n",
      "title:Obsessed With...Baseball\n",
      "category: ['Games & Activities']\n",
      "description: Includes multiple choice questions about baseball. Embedded in the book is a special computerized quiz module that lets you compete against yourself or a friend.\n",
      "\n",
      "title:Baseball/Literature/Culture\n",
      "category: ['Sports & Recreation']\n",
      "description: Since 1995, the Indiana State University Conference on Baseball in Literature and American Culture has provided a venue for scholars to present their research on baseball as literary subject matter an\n",
      "\n",
      "title:Fantasy Baseball and Mathematics\n",
      "category: ['Education']\n",
      "description: \"The innovative math program based on real-life sports statistics\" -- cover.\n",
      "\n",
      "title:Baseball at Ball State\n",
      "category: ['History']\n",
      "description: In 2002, Ball State pitcher Bryan Bullington became the No.1 selection, in the Major League Baseball draft, elevating the Cardinals' baseball, program into the national limelight. But Ball State baseb\n",
      "\n",
      "title:Baseball in Nashville\n",
      "category: ['History']\n",
      "description: Nashville's first professional baseball team was organized in 1885, but the city's baseball roots can be traced to 1862, as Union soldiers camped along the Cumberland River taught the Northern game to\n",
      "\n",
      "title:Dino-Baseball\n",
      "category: ['Juvenile Fiction']\n",
      "description: Meat-eating dinosaurs face plant-eating dinosaurs in a baseball game.\n",
      "\n",
      "title:Moneyball: The Art of Winning an Unfair Game\n",
      "category: ['Sports & Recreation']\n",
      "description: \"This delightfully written, lesson-laden book deserves a place of its own in the Baseball Hall of Fame.\" —Forbes Moneyball is a quest for the secret of success in baseball. In a narrative full of fabu\n",
      "\n",
      "title:International Symposium on Safety in Baseball/Softball\n",
      "category: ['Sports & Recreation']\n",
      "\n",
      "title:Baseball/Literature/Culture\n",
      "category: ['Sports & Recreation']\n",
      "description: The Conference on Baseball in Literature and American Culture has consistently produced a strong body of scholarship since its inception in 1995. Essays presented at the 2006 and 2007 conferences are \n",
      "\n",
      "title:Black Baseball Out of Season\n",
      "category: ['Sports & Recreation']\n",
      "description: This book tells the story of the thousands of anonymous black professional baseball players whose talents were played out in the undiscovered world of the Negro leagues during the first half of the tw\n",
      "\n",
      "title:Baseball in Fort Worth\n",
      "category: ['History']\n",
      "description: In 2003, over 160,000 fans watched professional baseball in downtown Fort Worth's near north side. Baseball, which had been played in this north side area since 1911, had returned after a near 40-year\n",
      "\n",
      "title:Baseball Hacks\n",
      "category: ['Games & Activities']\n",
      "description: This guide shows fantasy baseball fanatics--and those who love the game--how to get data, process it, and use it to truly understand baseball.\n",
      "\n",
      "title:The Ultimate Minor League Baseball Road Trip\n",
      "\n",
      "title:Baseball in Minnesota\n",
      "category: ['History']\n",
      "description: From the early days of town ball to the latest seasons of the Twins and Saints, Stew Thornley offers the ultimate history of the Great American Pastime in the North Star State.\n",
      "\n"
     ]
    }
   ],
   "source": [
    "# url = 'https://www.googleapis.com/books/v1/volumes?q=subject:' +subject + '&langRestrict=en&maxResults=40'\n",
    "url = 'https://www.googleapis.com/books/v1/volumes?q=' +subject + '&langRestrict=en&maxResults=40'\n",
    "res = requests.get(url).json()\n",
    "print(res['totalItems'])\n",
    "if res['totalItems']:\n",
    "    res = res['items']\n",
    "    for i in range(0, min(40, len(res))):\n",
    "        print('title:' + res[i]['volumeInfo']['title'])\n",
    "        if 'categories' in res[i]['volumeInfo']:\n",
    "            print('category: ' + str(res[i]['volumeInfo']['categories']))\n",
    "        if 'description' in res[i]['volumeInfo']:\n",
    "            print('description: ' + res[i]['volumeInfo']['description'][:200])\n",
    "        print()"
   ]
  },
  {
   "cell_type": "markdown",
   "metadata": {},
   "source": [
    "## Fetch Function"
   ]
  },
  {
   "cell_type": "code",
   "execution_count": 187,
   "metadata": {},
   "outputs": [
    {
     "name": "stdout",
     "output_type": "stream",
     "text": [
      "120\n"
     ]
    }
   ],
   "source": [
    "fetch(subject, file, q=0, loop=3)"
   ]
  },
  {
   "cell_type": "markdown",
   "metadata": {},
   "source": [
    "## Fetching Manually"
   ]
  },
  {
   "cell_type": "code",
   "execution_count": 241,
   "metadata": {},
   "outputs": [
    {
     "data": {
      "text/plain": [
       "40"
      ]
     },
     "execution_count": 241,
     "metadata": {},
     "output_type": "execute_result"
    }
   ],
   "source": [
    "arr = []\n",
    "# url = api + '?q=subject:' + subject + '&langRestrict=en&startIndex=0&maxResults=40'\n",
    "url = api + '?q=' + subject + '&langRestrict=en&startIndex=0&maxResults=40'\n",
    "res = requests.get(url).json()\n",
    "arr += res['items']\n",
    "len(arr)"
   ]
  },
  {
   "cell_type": "code",
   "execution_count": 242,
   "metadata": {},
   "outputs": [
    {
     "data": {
      "text/plain": [
       "80"
      ]
     },
     "execution_count": 242,
     "metadata": {},
     "output_type": "execute_result"
    }
   ],
   "source": [
    "# url = api + '?q=subject:' + subject + '&langRestrict=en&startIndex=40&maxResults=40'\n",
    "url = api + '?q=' + subject + '&langRestrict=en&startIndex=40&maxResults=40'\n",
    "res = requests.get(url).json()\n",
    "arr += res['items']\n",
    "len(arr)"
   ]
  },
  {
   "cell_type": "code",
   "execution_count": 243,
   "metadata": {},
   "outputs": [
    {
     "data": {
      "text/plain": [
       "120"
      ]
     },
     "execution_count": 243,
     "metadata": {},
     "output_type": "execute_result"
    }
   ],
   "source": [
    "# url = api + '?q=subject:' + subject + '&langRestrict=en&startIndex=80&maxResults=40'\n",
    "url = api + '?q=' + subject + '&langRestrict=en&startIndex=80&maxResults=40'\n",
    "res = requests.get(url).json()\n",
    "arr += res['items']\n",
    "len(arr)"
   ]
  },
  {
   "cell_type": "code",
   "execution_count": 244,
   "metadata": {},
   "outputs": [],
   "source": [
    "with open(folder + '/' + file + '.json', 'w') as f:\n",
    "    json.dump(arr, f)"
   ]
  },
  {
   "cell_type": "markdown",
   "metadata": {},
   "source": [
    "# Json to CSV"
   ]
  },
  {
   "cell_type": "code",
   "execution_count": 7,
   "metadata": {},
   "outputs": [],
   "source": [
    "import os\n",
    "import json\n",
    "import csv\n",
    "\n",
    "base_folder = './topics'\n",
    "book_list = []\n",
    "\n",
    "label = 0\n",
    "\n",
    "for folder in os.listdir(base_folder):\n",
    "    folder_path = os.path.join(base_folder, folder)\n",
    "    for file in os.listdir(folder_path):\n",
    "        file_path = os.path.join(folder_path, file)\n",
    "        with open(file_path) as f:\n",
    "            books = json.load(f)\n",
    "            for book in books:\n",
    "                book = book['volumeInfo']\n",
    "                title = book['title'] if 'title' in book else \"\"\n",
    "                description = book['description'] if 'description' in book else \"\"\n",
    "                if 'authors' in book:\n",
    "                    authors = ''\n",
    "                    for author in book['authors']:\n",
    "                        authors += author + \", \"\n",
    "                    authors = authors.strip(', ')\n",
    "                else:\n",
    "                    authors = ''\n",
    "                text = title + \" \" + authors + \" \" + description\n",
    "                text = text.strip(' ')\n",
    "                book_list.append({'label': label, 'category': folder + ' ' + file.split('.')[0], 'text': text })\n",
    "        label += 1\n",
    "\n",
    "with open('book_dataset.csv', 'w') as f:\n",
    "    w = csv.DictWriter(f, book_list[0].keys())\n",
    "    w.writeheader()\n",
    "    w.writerows(book_list)"
   ]
  },
  {
   "cell_type": "code",
   "execution_count": null,
   "metadata": {},
   "outputs": [],
   "source": []
  }
 ],
 "metadata": {
  "kernelspec": {
   "display_name": "Python 3",
   "language": "python",
   "name": "python3"
  },
  "language_info": {
   "codemirror_mode": {
    "name": "ipython",
    "version": 3
   },
   "file_extension": ".py",
   "mimetype": "text/x-python",
   "name": "python",
   "nbconvert_exporter": "python",
   "pygments_lexer": "ipython3",
   "version": "3.6.9"
  }
 },
 "nbformat": 4,
 "nbformat_minor": 4
}
