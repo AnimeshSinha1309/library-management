{
 "cells": [
  {
   "cell_type": "markdown",
   "metadata": {},
   "source": [
    "# Libraries"
   ]
  },
  {
   "cell_type": "code",
   "execution_count": 118,
   "metadata": {
    "collapsed": true
   },
   "outputs": [
    {
     "name": "stdout",
     "output_type": "stream",
     "text": [
      "\u001b[31mERROR: tensorflow 2.1.0 has requirement gast==0.2.2, but you'll have gast 0.3.3 which is incompatible.\u001b[0m\n",
      "\u001b[31mERROR: tensorflow 2.1.0 has requirement tensorboard<2.2.0,>=2.1.0, but you'll have tensorboard 2.3.0 which is incompatible.\u001b[0m\n",
      "\u001b[31mERROR: tensorflow 2.1.0 has requirement tensorflow-estimator<2.2.0,>=2.1.0rc0, but you'll have tensorflow-estimator 2.3.0 which is incompatible.\u001b[0m\n",
      "\u001b[33mWARNING: You are using pip version 20.1.1; however, version 20.2 is available.\n",
      "You should consider upgrading via the '/opt/conda/bin/python3.7 -m pip install --upgrade pip' command.\u001b[0m\n",
      "\u001b[33mWARNING: You are using pip version 20.1.1; however, version 20.2 is available.\n",
      "You should consider upgrading via the '/opt/conda/bin/python3.7 -m pip install --upgrade pip' command.\u001b[0m\n",
      "\u001b[31mERROR: tensorflow-probability 0.10.1 has requirement gast>=0.3.2, but you'll have gast 0.2.2 which is incompatible.\u001b[0m\n",
      "\u001b[31mERROR: tensorflow-gpu 2.3.0 has requirement gast==0.3.3, but you'll have gast 0.2.2 which is incompatible.\u001b[0m\n",
      "\u001b[31mERROR: tensorflow-gpu 2.3.0 has requirement tensorboard<3,>=2.3.0, but you'll have tensorboard 2.1.1 which is incompatible.\u001b[0m\n",
      "\u001b[31mERROR: tensorflow-gpu 2.3.0 has requirement tensorflow-estimator<2.4.0,>=2.3.0, but you'll have tensorflow-estimator 2.1.0 which is incompatible.\u001b[0m\n",
      "\u001b[31mERROR: jupyterlab-git 0.10.0 has requirement nbdime<2.0.0,>=1.1.0, but you'll have nbdime 2.0.0 which is incompatible.\u001b[0m\n",
      "\u001b[31mERROR: dask-ml 1.5.0 has requirement scikit-learn>=0.23, but you'll have scikit-learn 0.21.3 which is incompatible.\u001b[0m\n",
      "\u001b[33mWARNING: You are using pip version 20.1.1; however, version 20.2 is available.\n",
      "You should consider upgrading via the '/opt/conda/bin/python3.7 -m pip install --upgrade pip' command.\u001b[0m\n",
      "\u001b[31mERROR: jupyterlab-git 0.10.0 has requirement nbdime<2.0.0,>=1.1.0, but you'll have nbdime 2.0.0 which is incompatible.\u001b[0m\n",
      "\u001b[31mERROR: dask-ml 1.5.0 has requirement scikit-learn>=0.23, but you'll have scikit-learn 0.21.3 which is incompatible.\u001b[0m\n",
      "\u001b[31mERROR: bokeh 2.1.1 has requirement tornado>=5.1, but you'll have tornado 5.0 which is incompatible.\u001b[0m\n",
      "\u001b[33mWARNING: You are using pip version 20.1.1; however, version 20.2 is available.\n",
      "You should consider upgrading via the '/opt/conda/bin/python3.7 -m pip install --upgrade pip' command.\u001b[0m\n"
     ]
    }
   ],
   "source": [
    "!pip install -q \"tensorflow_gpu>=2.0.0\"\n",
    "!pip install -q transformers\n",
    "!pip install -q ktrain \n",
    "!pip3 install -q tornado==5"
   ]
  },
  {
   "cell_type": "code",
   "execution_count": 120,
   "metadata": {},
   "outputs": [],
   "source": [
    "import eli5\n",
    "import ktrain\n",
    "import pandas as pd\n",
    "import seaborn as sns\n",
    "from ktrain import text\n",
    "from matplotlib import pyplot as plt\n",
    "from sklearn.model_selection import train_test_split"
   ]
  },
  {
   "cell_type": "markdown",
   "metadata": {},
   "source": [
    "# Dataset"
   ]
  },
  {
   "cell_type": "code",
   "execution_count": 170,
   "metadata": {},
   "outputs": [],
   "source": [
    "input_path = '../input/books-data.csv'"
   ]
  },
  {
   "cell_type": "code",
   "execution_count": 171,
   "metadata": {},
   "outputs": [],
   "source": [
    "input = pd.read_csv(input_path)"
   ]
  },
  {
   "cell_type": "code",
   "execution_count": null,
   "metadata": {},
   "outputs": [],
   "source": [
    "input = input.drop_duplicates(subset=['isbn'])"
   ]
  },
  {
   "cell_type": "code",
   "execution_count": 173,
   "metadata": {},
   "outputs": [],
   "source": [
    "input = input.fillna(\" \")"
   ]
  },
  {
   "cell_type": "code",
   "execution_count": 174,
   "metadata": {},
   "outputs": [
    {
     "data": {
      "text/plain": [
       "6951"
      ]
     },
     "execution_count": 174,
     "metadata": {},
     "output_type": "execute_result"
    }
   ],
   "source": [
    "len(input)"
   ]
  },
  {
   "cell_type": "code",
   "execution_count": 175,
   "metadata": {},
   "outputs": [
    {
     "data": {
      "text/html": [
       "<div>\n",
       "<style scoped>\n",
       "    .dataframe tbody tr th:only-of-type {\n",
       "        vertical-align: middle;\n",
       "    }\n",
       "\n",
       "    .dataframe tbody tr th {\n",
       "        vertical-align: top;\n",
       "    }\n",
       "\n",
       "    .dataframe thead th {\n",
       "        text-align: right;\n",
       "    }\n",
       "</style>\n",
       "<table border=\"1\" class=\"dataframe\">\n",
       "  <thead>\n",
       "    <tr style=\"text-align: right;\">\n",
       "      <th></th>\n",
       "      <th>Unnamed: 0</th>\n",
       "      <th>title</th>\n",
       "      <th>category</th>\n",
       "      <th>description</th>\n",
       "      <th>author</th>\n",
       "      <th>rating</th>\n",
       "      <th>gbooks-link</th>\n",
       "      <th>info-link</th>\n",
       "      <th>volume-link</th>\n",
       "      <th>isbn</th>\n",
       "      <th>image</th>\n",
       "      <th>tag</th>\n",
       "    </tr>\n",
       "  </thead>\n",
       "  <tbody>\n",
       "    <tr>\n",
       "      <th>0</th>\n",
       "      <td>0</td>\n",
       "      <td>Quantum Physics</td>\n",
       "      <td>Science</td>\n",
       "      <td>\"In question &amp; answer format, discusses the hi...</td>\n",
       "      <td>Michael Raymer</td>\n",
       "      <td>-1.0</td>\n",
       "      <td></td>\n",
       "      <td>http://books.google.com/books?id=XSbVDgAAQBAJ&amp;...</td>\n",
       "      <td>https://books.google.com/books/about/Quantum_P...</td>\n",
       "      <td>9.78019e+12</td>\n",
       "      <td>http://books.google.com/books/content?id=XSbVD...</td>\n",
       "      <td>quantum;physics</td>\n",
       "    </tr>\n",
       "    <tr>\n",
       "      <th>1</th>\n",
       "      <td>1</td>\n",
       "      <td>An Introduction to Quantum Physics</td>\n",
       "      <td>Science</td>\n",
       "      <td>This modern textbook offers an introduction to...</td>\n",
       "      <td>Stefanos Trachanas</td>\n",
       "      <td>-1.0</td>\n",
       "      <td></td>\n",
       "      <td>http://books.google.com/books?id=G49FDwAAQBAJ&amp;...</td>\n",
       "      <td>https://books.google.com/books/about/An_Introd...</td>\n",
       "      <td>9.78353e+12</td>\n",
       "      <td>http://books.google.com/books/content?id=G49FD...</td>\n",
       "      <td>quantum;physics</td>\n",
       "    </tr>\n",
       "    <tr>\n",
       "      <th>2</th>\n",
       "      <td>2</td>\n",
       "      <td>Quantum Physics in One Dimension</td>\n",
       "      <td>Literary Criticism</td>\n",
       "      <td>This volume presents in a pedagogical yet comp...</td>\n",
       "      <td>Thierry Giamarchi</td>\n",
       "      <td>-1.0</td>\n",
       "      <td></td>\n",
       "      <td>http://books.google.com/books?id=1MwTDAAAQBAJ&amp;...</td>\n",
       "      <td>https://books.google.com/books/about/Quantum_P...</td>\n",
       "      <td>9.7802e+12</td>\n",
       "      <td>http://books.google.com/books/content?id=1MwTD...</td>\n",
       "      <td>quantum;physics</td>\n",
       "    </tr>\n",
       "    <tr>\n",
       "      <th>3</th>\n",
       "      <td>3</td>\n",
       "      <td>Compendium of Quantum Physics</td>\n",
       "      <td>Science</td>\n",
       "      <td>With contributions by leading quantum physicis...</td>\n",
       "      <td>Daniel Greenberger;Klaus Hentschel;Friedel Wei...</td>\n",
       "      <td>-1.0</td>\n",
       "      <td></td>\n",
       "      <td>https://play.google.com/store/books/details?id...</td>\n",
       "      <td>https://play.google.com/store/books/details?id...</td>\n",
       "      <td>9.78354e+12</td>\n",
       "      <td>http://books.google.com/books/content?id=ekyAV...</td>\n",
       "      <td>quantum;physics</td>\n",
       "    </tr>\n",
       "    <tr>\n",
       "      <th>4</th>\n",
       "      <td>4</td>\n",
       "      <td>Quantum Physics and Theology</td>\n",
       "      <td>Religion</td>\n",
       "      <td>Three decades ago, federal policymakers - Repu...</td>\n",
       "      <td>J. C. Polkinghorne</td>\n",
       "      <td>5.0</td>\n",
       "      <td></td>\n",
       "      <td>https://play.google.com/store/books/details?id...</td>\n",
       "      <td>https://play.google.com/store/books/details?id...</td>\n",
       "      <td>9.7803e+12</td>\n",
       "      <td>http://books.google.com/books/content?id=13fzs...</td>\n",
       "      <td>quantum;physics</td>\n",
       "    </tr>\n",
       "    <tr>\n",
       "      <th>5</th>\n",
       "      <td>5</td>\n",
       "      <td>Quantum Physics in Minutes</td>\n",
       "      <td>Science</td>\n",
       "      <td>Quantum physics is the most fundamental -- but...</td>\n",
       "      <td>Gemma Lavender</td>\n",
       "      <td>-1.0</td>\n",
       "      <td></td>\n",
       "      <td>https://play.google.com/store/books/details?id...</td>\n",
       "      <td>https://play.google.com/store/books/details?id...</td>\n",
       "      <td>9.78168e+12</td>\n",
       "      <td>http://books.google.com/books/content?id=kiEmD...</td>\n",
       "      <td>quantum;physics</td>\n",
       "    </tr>\n",
       "    <tr>\n",
       "      <th>6</th>\n",
       "      <td>6</td>\n",
       "      <td>Quantum Physics for Beginners</td>\n",
       "      <td>Science</td>\n",
       "      <td>The textbook covers the background theory of v...</td>\n",
       "      <td>Zbigniew Ficek</td>\n",
       "      <td>-1.0</td>\n",
       "      <td></td>\n",
       "      <td>https://play.google.com/store/books/details?id...</td>\n",
       "      <td>https://play.google.com/store/books/details?id...</td>\n",
       "      <td>9.78114e+12</td>\n",
       "      <td>http://books.google.com/books/content?id=kFKzD...</td>\n",
       "      <td>quantum;physics</td>\n",
       "    </tr>\n",
       "    <tr>\n",
       "      <th>7</th>\n",
       "      <td>7</td>\n",
       "      <td>Quantum Physics</td>\n",
       "      <td>Science</td>\n",
       "      <td>This brilliantly innovative textbook is intend...</td>\n",
       "      <td>John S. Townsend</td>\n",
       "      <td>-1.0</td>\n",
       "      <td></td>\n",
       "      <td>http://books.google.com/books?id=7PxAAQAAIAAJ&amp;...</td>\n",
       "      <td>https://books.google.com/books/about/Quantum_P...</td>\n",
       "      <td></td>\n",
       "      <td>http://books.google.com/books/content?id=7PxAA...</td>\n",
       "      <td>quantum;physics</td>\n",
       "    </tr>\n",
       "    <tr>\n",
       "      <th>8</th>\n",
       "      <td>8</td>\n",
       "      <td>An Introduction to a Realistic Quantum Physics</td>\n",
       "      <td>Science</td>\n",
       "      <td>Dr. Preparata (d. 2000), a professor at an uns...</td>\n",
       "      <td>Giuliano Preparata</td>\n",
       "      <td>4.0</td>\n",
       "      <td></td>\n",
       "      <td>http://books.google.com/books?id=tzYC0KAJot4C&amp;...</td>\n",
       "      <td>https://books.google.com/books/about/An_Introd...</td>\n",
       "      <td>9.78981e+12</td>\n",
       "      <td>http://books.google.com/books/content?id=tzYC0...</td>\n",
       "      <td>quantum;physics</td>\n",
       "    </tr>\n",
       "    <tr>\n",
       "      <th>9</th>\n",
       "      <td>9</td>\n",
       "      <td>Quantum Physics</td>\n",
       "      <td>Science</td>\n",
       "      <td>This textbook is intended to accompany a two-s...</td>\n",
       "      <td>A.I Lvovsky</td>\n",
       "      <td>-1.0</td>\n",
       "      <td></td>\n",
       "      <td>https://play.google.com/store/books/details?id...</td>\n",
       "      <td>https://play.google.com/store/books/details?id...</td>\n",
       "      <td>9.78366e+12</td>\n",
       "      <td>http://books.google.com/books/content?id=NZZaD...</td>\n",
       "      <td>quantum;physics</td>\n",
       "    </tr>\n",
       "  </tbody>\n",
       "</table>\n",
       "</div>"
      ],
      "text/plain": [
       "   Unnamed: 0                                           title  \\\n",
       "0           0                                 Quantum Physics   \n",
       "1           1              An Introduction to Quantum Physics   \n",
       "2           2                Quantum Physics in One Dimension   \n",
       "3           3                   Compendium of Quantum Physics   \n",
       "4           4                    Quantum Physics and Theology   \n",
       "5           5                      Quantum Physics in Minutes   \n",
       "6           6                   Quantum Physics for Beginners   \n",
       "7           7                                 Quantum Physics   \n",
       "8           8  An Introduction to a Realistic Quantum Physics   \n",
       "9           9                                 Quantum Physics   \n",
       "\n",
       "             category                                        description  \\\n",
       "0             Science  \"In question & answer format, discusses the hi...   \n",
       "1             Science  This modern textbook offers an introduction to...   \n",
       "2  Literary Criticism  This volume presents in a pedagogical yet comp...   \n",
       "3             Science  With contributions by leading quantum physicis...   \n",
       "4            Religion  Three decades ago, federal policymakers - Repu...   \n",
       "5             Science  Quantum physics is the most fundamental -- but...   \n",
       "6             Science  The textbook covers the background theory of v...   \n",
       "7             Science  This brilliantly innovative textbook is intend...   \n",
       "8             Science  Dr. Preparata (d. 2000), a professor at an uns...   \n",
       "9             Science  This textbook is intended to accompany a two-s...   \n",
       "\n",
       "                                              author  rating gbooks-link  \\\n",
       "0                                     Michael Raymer    -1.0               \n",
       "1                                 Stefanos Trachanas    -1.0               \n",
       "2                                  Thierry Giamarchi    -1.0               \n",
       "3  Daniel Greenberger;Klaus Hentschel;Friedel Wei...    -1.0               \n",
       "4                                 J. C. Polkinghorne     5.0               \n",
       "5                                     Gemma Lavender    -1.0               \n",
       "6                                     Zbigniew Ficek    -1.0               \n",
       "7                                   John S. Townsend    -1.0               \n",
       "8                                 Giuliano Preparata     4.0               \n",
       "9                                        A.I Lvovsky    -1.0               \n",
       "\n",
       "                                           info-link  \\\n",
       "0  http://books.google.com/books?id=XSbVDgAAQBAJ&...   \n",
       "1  http://books.google.com/books?id=G49FDwAAQBAJ&...   \n",
       "2  http://books.google.com/books?id=1MwTDAAAQBAJ&...   \n",
       "3  https://play.google.com/store/books/details?id...   \n",
       "4  https://play.google.com/store/books/details?id...   \n",
       "5  https://play.google.com/store/books/details?id...   \n",
       "6  https://play.google.com/store/books/details?id...   \n",
       "7  http://books.google.com/books?id=7PxAAQAAIAAJ&...   \n",
       "8  http://books.google.com/books?id=tzYC0KAJot4C&...   \n",
       "9  https://play.google.com/store/books/details?id...   \n",
       "\n",
       "                                         volume-link         isbn  \\\n",
       "0  https://books.google.com/books/about/Quantum_P...  9.78019e+12   \n",
       "1  https://books.google.com/books/about/An_Introd...  9.78353e+12   \n",
       "2  https://books.google.com/books/about/Quantum_P...   9.7802e+12   \n",
       "3  https://play.google.com/store/books/details?id...  9.78354e+12   \n",
       "4  https://play.google.com/store/books/details?id...   9.7803e+12   \n",
       "5  https://play.google.com/store/books/details?id...  9.78168e+12   \n",
       "6  https://play.google.com/store/books/details?id...  9.78114e+12   \n",
       "7  https://books.google.com/books/about/Quantum_P...                \n",
       "8  https://books.google.com/books/about/An_Introd...  9.78981e+12   \n",
       "9  https://play.google.com/store/books/details?id...  9.78366e+12   \n",
       "\n",
       "                                               image              tag  \n",
       "0  http://books.google.com/books/content?id=XSbVD...  quantum;physics  \n",
       "1  http://books.google.com/books/content?id=G49FD...  quantum;physics  \n",
       "2  http://books.google.com/books/content?id=1MwTD...  quantum;physics  \n",
       "3  http://books.google.com/books/content?id=ekyAV...  quantum;physics  \n",
       "4  http://books.google.com/books/content?id=13fzs...  quantum;physics  \n",
       "5  http://books.google.com/books/content?id=kiEmD...  quantum;physics  \n",
       "6  http://books.google.com/books/content?id=kFKzD...  quantum;physics  \n",
       "7  http://books.google.com/books/content?id=7PxAA...  quantum;physics  \n",
       "8  http://books.google.com/books/content?id=tzYC0...  quantum;physics  \n",
       "9  http://books.google.com/books/content?id=NZZaD...  quantum;physics  "
      ]
     },
     "execution_count": 175,
     "metadata": {},
     "output_type": "execute_result"
    }
   ],
   "source": [
    "input.head(10)"
   ]
  },
  {
   "cell_type": "code",
   "execution_count": 176,
   "metadata": {},
   "outputs": [],
   "source": [
    "input['text'] = input.title + \" \" + input.author + \" \" + input.description"
   ]
  },
  {
   "cell_type": "code",
   "execution_count": 177,
   "metadata": {},
   "outputs": [
    {
     "data": {
      "text/html": [
       "<div>\n",
       "<style scoped>\n",
       "    .dataframe tbody tr th:only-of-type {\n",
       "        vertical-align: middle;\n",
       "    }\n",
       "\n",
       "    .dataframe tbody tr th {\n",
       "        vertical-align: top;\n",
       "    }\n",
       "\n",
       "    .dataframe thead th {\n",
       "        text-align: right;\n",
       "    }\n",
       "</style>\n",
       "<table border=\"1\" class=\"dataframe\">\n",
       "  <thead>\n",
       "    <tr style=\"text-align: right;\">\n",
       "      <th></th>\n",
       "      <th>Unnamed: 0</th>\n",
       "      <th>title</th>\n",
       "      <th>category</th>\n",
       "      <th>description</th>\n",
       "      <th>author</th>\n",
       "      <th>rating</th>\n",
       "      <th>gbooks-link</th>\n",
       "      <th>info-link</th>\n",
       "      <th>volume-link</th>\n",
       "      <th>isbn</th>\n",
       "      <th>image</th>\n",
       "      <th>tag</th>\n",
       "      <th>text</th>\n",
       "    </tr>\n",
       "  </thead>\n",
       "  <tbody>\n",
       "  </tbody>\n",
       "</table>\n",
       "</div>"
      ],
      "text/plain": [
       "Empty DataFrame\n",
       "Columns: [Unnamed: 0, title, category, description, author, rating, gbooks-link, info-link, volume-link, isbn, image, tag, text]\n",
       "Index: []"
      ]
     },
     "execution_count": 177,
     "metadata": {},
     "output_type": "execute_result"
    }
   ],
   "source": [
    "input[input['text'].isnull()]"
   ]
  },
  {
   "cell_type": "code",
   "execution_count": 178,
   "metadata": {},
   "outputs": [
    {
     "data": {
      "text/html": [
       "<div>\n",
       "<style scoped>\n",
       "    .dataframe tbody tr th:only-of-type {\n",
       "        vertical-align: middle;\n",
       "    }\n",
       "\n",
       "    .dataframe tbody tr th {\n",
       "        vertical-align: top;\n",
       "    }\n",
       "\n",
       "    .dataframe thead th {\n",
       "        text-align: right;\n",
       "    }\n",
       "</style>\n",
       "<table border=\"1\" class=\"dataframe\">\n",
       "  <thead>\n",
       "    <tr style=\"text-align: right;\">\n",
       "      <th></th>\n",
       "      <th>Unnamed: 0</th>\n",
       "      <th>title</th>\n",
       "      <th>category</th>\n",
       "      <th>description</th>\n",
       "      <th>author</th>\n",
       "      <th>rating</th>\n",
       "      <th>gbooks-link</th>\n",
       "      <th>info-link</th>\n",
       "      <th>volume-link</th>\n",
       "      <th>isbn</th>\n",
       "      <th>image</th>\n",
       "      <th>tag</th>\n",
       "      <th>text</th>\n",
       "    </tr>\n",
       "  </thead>\n",
       "  <tbody>\n",
       "    <tr>\n",
       "      <th>0</th>\n",
       "      <td>0</td>\n",
       "      <td>Quantum Physics</td>\n",
       "      <td>Science</td>\n",
       "      <td>\"In question &amp; answer format, discusses the hi...</td>\n",
       "      <td>Michael Raymer</td>\n",
       "      <td>-1.0</td>\n",
       "      <td></td>\n",
       "      <td>http://books.google.com/books?id=XSbVDgAAQBAJ&amp;...</td>\n",
       "      <td>https://books.google.com/books/about/Quantum_P...</td>\n",
       "      <td>9.78019e+12</td>\n",
       "      <td>http://books.google.com/books/content?id=XSbVD...</td>\n",
       "      <td>quantum;physics</td>\n",
       "      <td>Quantum Physics Michael Raymer \"In question &amp; ...</td>\n",
       "    </tr>\n",
       "    <tr>\n",
       "      <th>1</th>\n",
       "      <td>1</td>\n",
       "      <td>An Introduction to Quantum Physics</td>\n",
       "      <td>Science</td>\n",
       "      <td>This modern textbook offers an introduction to...</td>\n",
       "      <td>Stefanos Trachanas</td>\n",
       "      <td>-1.0</td>\n",
       "      <td></td>\n",
       "      <td>http://books.google.com/books?id=G49FDwAAQBAJ&amp;...</td>\n",
       "      <td>https://books.google.com/books/about/An_Introd...</td>\n",
       "      <td>9.78353e+12</td>\n",
       "      <td>http://books.google.com/books/content?id=G49FD...</td>\n",
       "      <td>quantum;physics</td>\n",
       "      <td>An Introduction to Quantum Physics Stefanos Tr...</td>\n",
       "    </tr>\n",
       "    <tr>\n",
       "      <th>2</th>\n",
       "      <td>2</td>\n",
       "      <td>Quantum Physics in One Dimension</td>\n",
       "      <td>Literary Criticism</td>\n",
       "      <td>This volume presents in a pedagogical yet comp...</td>\n",
       "      <td>Thierry Giamarchi</td>\n",
       "      <td>-1.0</td>\n",
       "      <td></td>\n",
       "      <td>http://books.google.com/books?id=1MwTDAAAQBAJ&amp;...</td>\n",
       "      <td>https://books.google.com/books/about/Quantum_P...</td>\n",
       "      <td>9.7802e+12</td>\n",
       "      <td>http://books.google.com/books/content?id=1MwTD...</td>\n",
       "      <td>quantum;physics</td>\n",
       "      <td>Quantum Physics in One Dimension Thierry Giama...</td>\n",
       "    </tr>\n",
       "    <tr>\n",
       "      <th>3</th>\n",
       "      <td>3</td>\n",
       "      <td>Compendium of Quantum Physics</td>\n",
       "      <td>Science</td>\n",
       "      <td>With contributions by leading quantum physicis...</td>\n",
       "      <td>Daniel Greenberger;Klaus Hentschel;Friedel Wei...</td>\n",
       "      <td>-1.0</td>\n",
       "      <td></td>\n",
       "      <td>https://play.google.com/store/books/details?id...</td>\n",
       "      <td>https://play.google.com/store/books/details?id...</td>\n",
       "      <td>9.78354e+12</td>\n",
       "      <td>http://books.google.com/books/content?id=ekyAV...</td>\n",
       "      <td>quantum;physics</td>\n",
       "      <td>Compendium of Quantum Physics Daniel Greenberg...</td>\n",
       "    </tr>\n",
       "    <tr>\n",
       "      <th>4</th>\n",
       "      <td>4</td>\n",
       "      <td>Quantum Physics and Theology</td>\n",
       "      <td>Religion</td>\n",
       "      <td>Three decades ago, federal policymakers - Repu...</td>\n",
       "      <td>J. C. Polkinghorne</td>\n",
       "      <td>5.0</td>\n",
       "      <td></td>\n",
       "      <td>https://play.google.com/store/books/details?id...</td>\n",
       "      <td>https://play.google.com/store/books/details?id...</td>\n",
       "      <td>9.7803e+12</td>\n",
       "      <td>http://books.google.com/books/content?id=13fzs...</td>\n",
       "      <td>quantum;physics</td>\n",
       "      <td>Quantum Physics and Theology J. C. Polkinghorn...</td>\n",
       "    </tr>\n",
       "  </tbody>\n",
       "</table>\n",
       "</div>"
      ],
      "text/plain": [
       "   Unnamed: 0                               title            category  \\\n",
       "0           0                     Quantum Physics             Science   \n",
       "1           1  An Introduction to Quantum Physics             Science   \n",
       "2           2    Quantum Physics in One Dimension  Literary Criticism   \n",
       "3           3       Compendium of Quantum Physics             Science   \n",
       "4           4        Quantum Physics and Theology            Religion   \n",
       "\n",
       "                                         description  \\\n",
       "0  \"In question & answer format, discusses the hi...   \n",
       "1  This modern textbook offers an introduction to...   \n",
       "2  This volume presents in a pedagogical yet comp...   \n",
       "3  With contributions by leading quantum physicis...   \n",
       "4  Three decades ago, federal policymakers - Repu...   \n",
       "\n",
       "                                              author  rating gbooks-link  \\\n",
       "0                                     Michael Raymer    -1.0               \n",
       "1                                 Stefanos Trachanas    -1.0               \n",
       "2                                  Thierry Giamarchi    -1.0               \n",
       "3  Daniel Greenberger;Klaus Hentschel;Friedel Wei...    -1.0               \n",
       "4                                 J. C. Polkinghorne     5.0               \n",
       "\n",
       "                                           info-link  \\\n",
       "0  http://books.google.com/books?id=XSbVDgAAQBAJ&...   \n",
       "1  http://books.google.com/books?id=G49FDwAAQBAJ&...   \n",
       "2  http://books.google.com/books?id=1MwTDAAAQBAJ&...   \n",
       "3  https://play.google.com/store/books/details?id...   \n",
       "4  https://play.google.com/store/books/details?id...   \n",
       "\n",
       "                                         volume-link         isbn  \\\n",
       "0  https://books.google.com/books/about/Quantum_P...  9.78019e+12   \n",
       "1  https://books.google.com/books/about/An_Introd...  9.78353e+12   \n",
       "2  https://books.google.com/books/about/Quantum_P...   9.7802e+12   \n",
       "3  https://play.google.com/store/books/details?id...  9.78354e+12   \n",
       "4  https://play.google.com/store/books/details?id...   9.7803e+12   \n",
       "\n",
       "                                               image              tag  \\\n",
       "0  http://books.google.com/books/content?id=XSbVD...  quantum;physics   \n",
       "1  http://books.google.com/books/content?id=G49FD...  quantum;physics   \n",
       "2  http://books.google.com/books/content?id=1MwTD...  quantum;physics   \n",
       "3  http://books.google.com/books/content?id=ekyAV...  quantum;physics   \n",
       "4  http://books.google.com/books/content?id=13fzs...  quantum;physics   \n",
       "\n",
       "                                                text  \n",
       "0  Quantum Physics Michael Raymer \"In question & ...  \n",
       "1  An Introduction to Quantum Physics Stefanos Tr...  \n",
       "2  Quantum Physics in One Dimension Thierry Giama...  \n",
       "3  Compendium of Quantum Physics Daniel Greenberg...  \n",
       "4  Quantum Physics and Theology J. C. Polkinghorn...  "
      ]
     },
     "execution_count": 178,
     "metadata": {},
     "output_type": "execute_result"
    }
   ],
   "source": [
    "input.head()"
   ]
  },
  {
   "cell_type": "code",
   "execution_count": 179,
   "metadata": {},
   "outputs": [
    {
     "data": {
      "text/plain": [
       "99"
      ]
     },
     "execution_count": 179,
     "metadata": {},
     "output_type": "execute_result"
    }
   ],
   "source": [
    "len(input['tag'].unique())"
   ]
  },
  {
   "cell_type": "code",
   "execution_count": 180,
   "metadata": {},
   "outputs": [],
   "source": [
    "label_list = input['tag'].unique()"
   ]
  },
  {
   "cell_type": "code",
   "execution_count": 181,
   "metadata": {},
   "outputs": [
    {
     "data": {
      "text/plain": [
       "array(['quantum;physics', 'relativity;physics', 'electricity;physics',\n",
       "       'mechanics;physics', 'architecture;physics', 'civil;physics',\n",
       "       'aeronautic;physics', 'optics;physics', 'waves;physics',\n",
       "       'electronics;physics', 'calculus;mathematics',\n",
       "       'abstract-algebra;mathematics', 'geometry;mathematics',\n",
       "       'coordinate-geometry;mathematics', 'topology;mathematics',\n",
       "       'measure-theory;mathematics', 'algebra;mathematics',\n",
       "       'combinatorics;mathematics', 'probability;mathematics',\n",
       "       'computational-math;mathematics', 'number-theory;mathematics',\n",
       "       'fiction;literature', 'non-fiction;literature',\n",
       "       'biography;literature', 'crime;literature', 'adventure;literature',\n",
       "       'childrens;literature', 'romance;literature',\n",
       "       'classics;literature', 'horror;literature', 'language;literature',\n",
       "       'comedy;literature', 'motivation-advice;self-help',\n",
       "       'meditation-peace;self-help', 'love;self-help', 'death;self-help',\n",
       "       'war;self-help', 'abuse;self-help',\n",
       "       'operating-systems;computer-science',\n",
       "       'networking;computer-science',\n",
       "       'programming-languages;computer-science',\n",
       "       'machine-learning;computer-science', 'algorithms;computer-science',\n",
       "       'quantum-computation;computer-science',\n",
       "       'complexity-theory;computer-science',\n",
       "       'graph-theory;computer-science', 'database;computer-science',\n",
       "       'middlegame;chess', 'modern-history;history', 'wars;history',\n",
       "       'european-history;history', 'asian-history;history',\n",
       "       'american-history;history', 'inorganic;chemistry',\n",
       "       'biochemistry;chemistry', 'quantum-chemistry;chemistry',\n",
       "       'surface-chemistry;chemistry', 'photochemistry;chemistry',\n",
       "       'environmental-chemistry;chemistry', 'geochemistry;chemistry',\n",
       "       'nuclear-chemistry;chemistry',\n",
       "       'organometallic-chemistry;chemistry', 'human-anatomy;biology',\n",
       "       'plants;biology', 'cell-biology;biology', 'homeopathy;medicine',\n",
       "       'allopathy;medicine', 'comedy;entertainment',\n",
       "       'movies;entertainment', 'brain teasers;entertainment',\n",
       "       'trivia;entertainment', 'art;entertainment',\n",
       "       'cooking;entertainment', 'sports;entertainment',\n",
       "       'governance;politics-society', 'women-rights;politics-society',\n",
       "       'lgbtq;politics-society', 'oppression-slavery;politics-society',\n",
       "       'independence-movements;politics-society',\n",
       "       'microeconomics;economics', 'macroeconomics;economics',\n",
       "       'business;economics', 'accounting;economics', 'constitutional;law',\n",
       "       'criminal;law', 'civil;law', 'upsc;exam-prep', 'jee;exam-prep',\n",
       "       'neet;exam-prep', 'sat;exam-prep', 'lsat;exam-prep',\n",
       "       'gre;exam-prep', 'gate;exam-prep', 'llb;exam-prep',\n",
       "       'cat;exam-prep', 'hinduism;religion', 'christanity;religion',\n",
       "       'confucianism;religion', 'judaism;religion'], dtype=object)"
      ]
     },
     "execution_count": 181,
     "metadata": {},
     "output_type": "execute_result"
    }
   ],
   "source": [
    "label_list"
   ]
  },
  {
   "cell_type": "markdown",
   "metadata": {},
   "source": [
    "### Visualization of number of books per tag"
   ]
  },
  {
   "cell_type": "code",
   "execution_count": 182,
   "metadata": {},
   "outputs": [
    {
     "data": {
      "text/plain": [
       "<matplotlib.axes._subplots.AxesSubplot at 0x7f2e1c6a4350>"
      ]
     },
     "execution_count": 182,
     "metadata": {},
     "output_type": "execute_result"
    },
    {
     "data": {
      "image/png": "[encoded data removed]",
      "text/plain": [
       "<Figure size 1800x720 with 1 Axes>"
      ]
     },
     "metadata": {
      "needs_background": "light"
     },
     "output_type": "display_data"
    }
   ],
   "source": [
    "plt.figure(figsize = (25,10))\n",
    "pd.value_counts(input['tag']).plot(kind=\"bar\")"
   ]
  },
  {
   "cell_type": "markdown",
   "metadata": {},
   "source": [
    "# Train-Val Split"
   ]
  },
  {
   "cell_type": "code",
   "execution_count": 183,
   "metadata": {},
   "outputs": [],
   "source": [
    "train, val =  train_test_split(input, test_size = 0.2, random_state = 100)"
   ]
  },
  {
   "cell_type": "code",
   "execution_count": 184,
   "metadata": {},
   "outputs": [
    {
     "data": {
      "text/plain": [
       "99"
      ]
     },
     "execution_count": 184,
     "metadata": {},
     "output_type": "execute_result"
    }
   ],
   "source": [
    "len(train['tag'].unique())"
   ]
  },
  {
   "cell_type": "code",
   "execution_count": 185,
   "metadata": {},
   "outputs": [
    {
     "data": {
      "text/plain": [
       "99"
      ]
     },
     "execution_count": 185,
     "metadata": {},
     "output_type": "execute_result"
    }
   ],
   "source": [
    "len(val['tag'].unique())"
   ]
  },
  {
   "cell_type": "code",
   "execution_count": 186,
   "metadata": {},
   "outputs": [
    {
     "data": {
      "text/plain": [
       "5560"
      ]
     },
     "execution_count": 186,
     "metadata": {},
     "output_type": "execute_result"
    }
   ],
   "source": [
    "len(train)"
   ]
  },
  {
   "cell_type": "code",
   "execution_count": 187,
   "metadata": {},
   "outputs": [
    {
     "data": {
      "text/plain": [
       "1391"
      ]
     },
     "execution_count": 187,
     "metadata": {},
     "output_type": "execute_result"
    }
   ],
   "source": [
    "len(val)"
   ]
  },
  {
   "cell_type": "code",
   "execution_count": 188,
   "metadata": {},
   "outputs": [
    {
     "data": {
      "text/html": [
       "<div>\n",
       "<style scoped>\n",
       "    .dataframe tbody tr th:only-of-type {\n",
       "        vertical-align: middle;\n",
       "    }\n",
       "\n",
       "    .dataframe tbody tr th {\n",
       "        vertical-align: top;\n",
       "    }\n",
       "\n",
       "    .dataframe thead th {\n",
       "        text-align: right;\n",
       "    }\n",
       "</style>\n",
       "<table border=\"1\" class=\"dataframe\">\n",
       "  <thead>\n",
       "    <tr style=\"text-align: right;\">\n",
       "      <th></th>\n",
       "      <th>Unnamed: 0</th>\n",
       "      <th>title</th>\n",
       "      <th>category</th>\n",
       "      <th>description</th>\n",
       "      <th>author</th>\n",
       "      <th>rating</th>\n",
       "      <th>gbooks-link</th>\n",
       "      <th>info-link</th>\n",
       "      <th>volume-link</th>\n",
       "      <th>isbn</th>\n",
       "      <th>image</th>\n",
       "      <th>tag</th>\n",
       "      <th>text</th>\n",
       "    </tr>\n",
       "  </thead>\n",
       "  <tbody>\n",
       "    <tr>\n",
       "      <th>5500</th>\n",
       "      <td>20</td>\n",
       "      <td>If the Buddha Dated</td>\n",
       "      <td>Family &amp; Relationships</td>\n",
       "      <td>Approaching the dating process as a means for ...</td>\n",
       "      <td>Charlotte Davis Kasl</td>\n",
       "      <td>4.5</td>\n",
       "      <td></td>\n",
       "      <td>http://books.google.com/books?id=2KqLxmoapV4C&amp;...</td>\n",
       "      <td>https://books.google.com/books/about/If_the_Bu...</td>\n",
       "      <td>9.78014e+12</td>\n",
       "      <td>http://books.google.com/books/content?id=2KqLx...</td>\n",
       "      <td>love;self-help</td>\n",
       "      <td>If the Buddha Dated Charlotte Davis Kasl Appro...</td>\n",
       "    </tr>\n",
       "    <tr>\n",
       "      <th>5117</th>\n",
       "      <td>37</td>\n",
       "      <td>You Can Feel Good Again</td>\n",
       "      <td>Self-Help</td>\n",
       "      <td>The words “don't sweat the small stuff” became...</td>\n",
       "      <td>Richard Carlson</td>\n",
       "      <td>-1.0</td>\n",
       "      <td></td>\n",
       "      <td>https://play.google.com/store/books/details?id...</td>\n",
       "      <td>https://play.google.com/store/books/details?id...</td>\n",
       "      <td>9.7811e+12</td>\n",
       "      <td>http://books.google.com/books/content?id=Hd50F...</td>\n",
       "      <td>meditation-peace;self-help</td>\n",
       "      <td>You Can Feel Good Again Richard Carlson The wo...</td>\n",
       "    </tr>\n",
       "    <tr>\n",
       "      <th>10300</th>\n",
       "      <td>60</td>\n",
       "      <td>Untimely Bollywood</td>\n",
       "      <td>Performing Arts</td>\n",
       "      <td>Known for its elaborate spectacle of music, da...</td>\n",
       "      <td>Amit S. Rai</td>\n",
       "      <td>4.0</td>\n",
       "      <td></td>\n",
       "      <td>https://play.google.com/store/books/details?id...</td>\n",
       "      <td>https://play.google.com/store/books/details?id...</td>\n",
       "      <td>9.78082e+12</td>\n",
       "      <td>http://books.google.com/books/content?id=6uQe_...</td>\n",
       "      <td>movies;entertainment</td>\n",
       "      <td>Untimely Bollywood Amit S. Rai Known for its e...</td>\n",
       "    </tr>\n",
       "    <tr>\n",
       "      <th>13771</th>\n",
       "      <td>11</td>\n",
       "      <td>Judaism</td>\n",
       "      <td>Juvenile Nonfiction</td>\n",
       "      <td>As one of the world's oldest still practiced r...</td>\n",
       "      <td>Michael Hessel-Mial</td>\n",
       "      <td>-1.0</td>\n",
       "      <td></td>\n",
       "      <td>https://play.google.com/store/books/details?id...</td>\n",
       "      <td>https://play.google.com/store/books/details?id...</td>\n",
       "      <td>9.78151e+12</td>\n",
       "      <td>http://books.google.com/books/content?id=FiWAD...</td>\n",
       "      <td>judaism;religion</td>\n",
       "      <td>Judaism Michael Hessel-Mial As one of the worl...</td>\n",
       "    </tr>\n",
       "    <tr>\n",
       "      <th>7161</th>\n",
       "      <td>361</td>\n",
       "      <td>Computer Science Illuminated</td>\n",
       "      <td>Computers</td>\n",
       "      <td>This text offers students on the dynamic and d...</td>\n",
       "      <td>Nell B. Dale;John Lewis</td>\n",
       "      <td>4.0</td>\n",
       "      <td></td>\n",
       "      <td>http://books.google.com/books?id=kGXRzbS3UO0C&amp;...</td>\n",
       "      <td>https://books.google.com/books/about/Computer_...</td>\n",
       "      <td>9.78076e+12</td>\n",
       "      <td>http://books.google.com/books/content?id=kGXRz...</td>\n",
       "      <td>networking;computer-science</td>\n",
       "      <td>Computer Science Illuminated Nell B. Dale;John...</td>\n",
       "    </tr>\n",
       "    <tr>\n",
       "      <th>13458</th>\n",
       "      <td>18</td>\n",
       "      <td>2 Practice Tests for the Olsat Grade 2 (3rd Gr...</td>\n",
       "      <td></td>\n",
       "      <td>This book contains two full-length OLSAT(R) Gr...</td>\n",
       "      <td>Gifted and Talented Test Preparation Team;Orig...</td>\n",
       "      <td>-1.0</td>\n",
       "      <td></td>\n",
       "      <td>http://books.google.com/books?id=kFrOwQEACAAJ&amp;...</td>\n",
       "      <td>https://books.google.com/books/about/2_Practic...</td>\n",
       "      <td>9.78195e+12</td>\n",
       "      <td>http://books.google.com/books/content?id=kFrOw...</td>\n",
       "      <td>gate;exam-prep</td>\n",
       "      <td>2 Practice Tests for the Olsat Grade 2 (3rd Gr...</td>\n",
       "    </tr>\n",
       "    <tr>\n",
       "      <th>11609</th>\n",
       "      <td>9</td>\n",
       "      <td>The Politics of India Since Independence</td>\n",
       "      <td>History</td>\n",
       "      <td>A comprehensive and up-to-date study of the ma...</td>\n",
       "      <td>Paul R. Brass</td>\n",
       "      <td>3.0</td>\n",
       "      <td></td>\n",
       "      <td>http://books.google.com/books?id=dtKe6XV8z7wC&amp;...</td>\n",
       "      <td>https://books.google.com/books/about/The_Polit...</td>\n",
       "      <td>9.78052e+12</td>\n",
       "      <td>http://books.google.com/books/content?id=dtKe6...</td>\n",
       "      <td>independence-movements;politics-society</td>\n",
       "      <td>The Politics of India Since Independence Paul ...</td>\n",
       "    </tr>\n",
       "    <tr>\n",
       "      <th>13624</th>\n",
       "      <td>24</td>\n",
       "      <td>Contemporary Hinduism</td>\n",
       "      <td>Reference</td>\n",
       "      <td>Looks at the history, rituals, customs, social...</td>\n",
       "      <td>Robin Rinehart</td>\n",
       "      <td>-1.0</td>\n",
       "      <td></td>\n",
       "      <td>https://play.google.com/store/books/details?id...</td>\n",
       "      <td>https://play.google.com/store/books/details?id...</td>\n",
       "      <td>9.78158e+12</td>\n",
       "      <td>http://books.google.com/books/content?id=hMPYn...</td>\n",
       "      <td>hinduism;religion</td>\n",
       "      <td>Contemporary Hinduism Robin Rinehart Looks at ...</td>\n",
       "    </tr>\n",
       "    <tr>\n",
       "      <th>756</th>\n",
       "      <td>236</td>\n",
       "      <td>As Physics Study Guide</td>\n",
       "      <td>Physics</td>\n",
       "      <td>Revise AS Physics gives complete study support...</td>\n",
       "      <td>Graham Booth, David Brodie</td>\n",
       "      <td>-1.0</td>\n",
       "      <td></td>\n",
       "      <td>http://books.google.com/books?id=Tu9zUND-920C&amp;...</td>\n",
       "      <td>https://books.google.com/books/about/As_Physic...</td>\n",
       "      <td>9.78184e+12</td>\n",
       "      <td>http://books.google.com/books/content?id=Tu9zU...</td>\n",
       "      <td>optics;physics</td>\n",
       "      <td>As Physics Study Guide Graham Booth, David Bro...</td>\n",
       "    </tr>\n",
       "    <tr>\n",
       "      <th>1510</th>\n",
       "      <td>30</td>\n",
       "      <td>Linear Algebra</td>\n",
       "      <td>Mathematics</td>\n",
       "      <td>In order not to intimidate students by a too a...</td>\n",
       "      <td>Arak M. Mathai;Hans J. Haubold</td>\n",
       "      <td>-1.0</td>\n",
       "      <td></td>\n",
       "      <td>https://play.google.com/store/books/details?id...</td>\n",
       "      <td>https://play.google.com/store/books/details?id...</td>\n",
       "      <td>9.78311e+12</td>\n",
       "      <td>http://books.google.com/books/content?id=tlA_D...</td>\n",
       "      <td>abstract-algebra;mathematics</td>\n",
       "      <td>Linear Algebra Arak M. Mathai;Hans J. Haubold ...</td>\n",
       "    </tr>\n",
       "  </tbody>\n",
       "</table>\n",
       "</div>"
      ],
      "text/plain": [
       "       Unnamed: 0                                              title  \\\n",
       "5500           20                                If the Buddha Dated   \n",
       "5117           37                            You Can Feel Good Again   \n",
       "10300          60                                 Untimely Bollywood   \n",
       "13771          11                                            Judaism   \n",
       "7161          361                       Computer Science Illuminated   \n",
       "13458          18  2 Practice Tests for the Olsat Grade 2 (3rd Gr...   \n",
       "11609           9           The Politics of India Since Independence   \n",
       "13624          24                              Contemporary Hinduism   \n",
       "756           236                             As Physics Study Guide   \n",
       "1510           30                                     Linear Algebra   \n",
       "\n",
       "                     category  \\\n",
       "5500   Family & Relationships   \n",
       "5117                Self-Help   \n",
       "10300         Performing Arts   \n",
       "13771     Juvenile Nonfiction   \n",
       "7161                Computers   \n",
       "13458                           \n",
       "11609                 History   \n",
       "13624               Reference   \n",
       "756                   Physics   \n",
       "1510              Mathematics   \n",
       "\n",
       "                                             description  \\\n",
       "5500   Approaching the dating process as a means for ...   \n",
       "5117   The words “don't sweat the small stuff” became...   \n",
       "10300  Known for its elaborate spectacle of music, da...   \n",
       "13771  As one of the world's oldest still practiced r...   \n",
       "7161   This text offers students on the dynamic and d...   \n",
       "13458  This book contains two full-length OLSAT(R) Gr...   \n",
       "11609  A comprehensive and up-to-date study of the ma...   \n",
       "13624  Looks at the history, rituals, customs, social...   \n",
       "756    Revise AS Physics gives complete study support...   \n",
       "1510   In order not to intimidate students by a too a...   \n",
       "\n",
       "                                                  author  rating gbooks-link  \\\n",
       "5500                                Charlotte Davis Kasl     4.5               \n",
       "5117                                     Richard Carlson    -1.0               \n",
       "10300                                        Amit S. Rai     4.0               \n",
       "13771                                Michael Hessel-Mial    -1.0               \n",
       "7161                             Nell B. Dale;John Lewis     4.0               \n",
       "13458  Gifted and Talented Test Preparation Team;Orig...    -1.0               \n",
       "11609                                      Paul R. Brass     3.0               \n",
       "13624                                     Robin Rinehart    -1.0               \n",
       "756                           Graham Booth, David Brodie    -1.0               \n",
       "1510                      Arak M. Mathai;Hans J. Haubold    -1.0               \n",
       "\n",
       "                                               info-link  \\\n",
       "5500   http://books.google.com/books?id=2KqLxmoapV4C&...   \n",
       "5117   https://play.google.com/store/books/details?id...   \n",
       "10300  https://play.google.com/store/books/details?id...   \n",
       "13771  https://play.google.com/store/books/details?id...   \n",
       "7161   http://books.google.com/books?id=kGXRzbS3UO0C&...   \n",
       "13458  http://books.google.com/books?id=kFrOwQEACAAJ&...   \n",
       "11609  http://books.google.com/books?id=dtKe6XV8z7wC&...   \n",
       "13624  https://play.google.com/store/books/details?id...   \n",
       "756    http://books.google.com/books?id=Tu9zUND-920C&...   \n",
       "1510   https://play.google.com/store/books/details?id...   \n",
       "\n",
       "                                             volume-link         isbn  \\\n",
       "5500   https://books.google.com/books/about/If_the_Bu...  9.78014e+12   \n",
       "5117   https://play.google.com/store/books/details?id...   9.7811e+12   \n",
       "10300  https://play.google.com/store/books/details?id...  9.78082e+12   \n",
       "13771  https://play.google.com/store/books/details?id...  9.78151e+12   \n",
       "7161   https://books.google.com/books/about/Computer_...  9.78076e+12   \n",
       "13458  https://books.google.com/books/about/2_Practic...  9.78195e+12   \n",
       "11609  https://books.google.com/books/about/The_Polit...  9.78052e+12   \n",
       "13624  https://play.google.com/store/books/details?id...  9.78158e+12   \n",
       "756    https://books.google.com/books/about/As_Physic...  9.78184e+12   \n",
       "1510   https://play.google.com/store/books/details?id...  9.78311e+12   \n",
       "\n",
       "                                                   image  \\\n",
       "5500   http://books.google.com/books/content?id=2KqLx...   \n",
       "5117   http://books.google.com/books/content?id=Hd50F...   \n",
       "10300  http://books.google.com/books/content?id=6uQe_...   \n",
       "13771  http://books.google.com/books/content?id=FiWAD...   \n",
       "7161   http://books.google.com/books/content?id=kGXRz...   \n",
       "13458  http://books.google.com/books/content?id=kFrOw...   \n",
       "11609  http://books.google.com/books/content?id=dtKe6...   \n",
       "13624  http://books.google.com/books/content?id=hMPYn...   \n",
       "756    http://books.google.com/books/content?id=Tu9zU...   \n",
       "1510   http://books.google.com/books/content?id=tlA_D...   \n",
       "\n",
       "                                           tag  \\\n",
       "5500                            love;self-help   \n",
       "5117                meditation-peace;self-help   \n",
       "10300                     movies;entertainment   \n",
       "13771                         judaism;religion   \n",
       "7161               networking;computer-science   \n",
       "13458                           gate;exam-prep   \n",
       "11609  independence-movements;politics-society   \n",
       "13624                        hinduism;religion   \n",
       "756                             optics;physics   \n",
       "1510              abstract-algebra;mathematics   \n",
       "\n",
       "                                                    text  \n",
       "5500   If the Buddha Dated Charlotte Davis Kasl Appro...  \n",
       "5117   You Can Feel Good Again Richard Carlson The wo...  \n",
       "10300  Untimely Bollywood Amit S. Rai Known for its e...  \n",
       "13771  Judaism Michael Hessel-Mial As one of the worl...  \n",
       "7161   Computer Science Illuminated Nell B. Dale;John...  \n",
       "13458  2 Practice Tests for the Olsat Grade 2 (3rd Gr...  \n",
       "11609  The Politics of India Since Independence Paul ...  \n",
       "13624  Contemporary Hinduism Robin Rinehart Looks at ...  \n",
       "756    As Physics Study Guide Graham Booth, David Bro...  \n",
       "1510   Linear Algebra Arak M. Mathai;Hans J. Haubold ...  "
      ]
     },
     "execution_count": 188,
     "metadata": {},
     "output_type": "execute_result"
    }
   ],
   "source": [
    "train.head(10)"
   ]
  },
  {
   "cell_type": "code",
   "execution_count": 189,
   "metadata": {},
   "outputs": [],
   "source": [
    "val_copy = val"
   ]
  },
  {
   "cell_type": "markdown",
   "metadata": {},
   "source": [
    "# Preprocess Data & Create Transformer"
   ]
  },
  {
   "cell_type": "code",
   "execution_count": 190,
   "metadata": {},
   "outputs": [],
   "source": [
    "MAX_LEN = 200\n",
    "BATCH_SIZE = 6"
   ]
  },
  {
   "cell_type": "code",
   "execution_count": 191,
   "metadata": {},
   "outputs": [],
   "source": [
    "train_text = train.text.tolist()\n",
    "val_text = val.text.tolist()"
   ]
  },
  {
   "cell_type": "code",
   "execution_count": 192,
   "metadata": {},
   "outputs": [],
   "source": [
    "train_tag = train.tag.tolist()\n",
    "val_tag = val.tag.tolist()"
   ]
  },
  {
   "cell_type": "code",
   "execution_count": 193,
   "metadata": {},
   "outputs": [
    {
     "name": "stderr",
     "output_type": "stream",
     "text": [
      "/opt/conda/lib/python3.7/site-packages/ktrain/text/preprocessor.py:399: UserWarning: The class_names argument is replacing the classes argument. Please update your code.\n",
      "  warnings.warn('The class_names argument is replacing the classes argument. Please update your code.')\n"
     ]
    },
    {
     "name": "stdout",
     "output_type": "stream",
     "text": [
      "preprocessing train...\n",
      "language: en\n",
      "train sequence lengths:\n",
      "\tmean : 131\n",
      "\t95percentile : 320\n",
      "\t99percentile : 443\n"
     ]
    },
    {
     "name": "stderr",
     "output_type": "stream",
     "text": [
      "/opt/conda/lib/python3.7/site-packages/ktrain/text/preprocessor.py:525: UserWarning: class_names argument was ignored, as they were extracted from string labels in dataset\n",
      "  if self.get_classes(): warnings.warn('class_names argument was ignored, as they were extracted from string labels in dataset')\n"
     ]
    },
    {
     "data": {
      "text/html": [],
      "text/plain": [
       "<IPython.core.display.HTML object>"
      ]
     },
     "metadata": {},
     "output_type": "display_data"
    },
    {
     "name": "stdout",
     "output_type": "stream",
     "text": [
      "Is Multi-Label? False\n",
      "preprocessing test...\n",
      "language: en\n",
      "test sequence lengths:\n",
      "\tmean : 139\n",
      "\t95percentile : 336\n",
      "\t99percentile : 427\n"
     ]
    },
    {
     "data": {
      "text/html": [],
      "text/plain": [
       "<IPython.core.display.HTML object>"
      ]
     },
     "metadata": {},
     "output_type": "display_data"
    }
   ],
   "source": [
    "MODEL_NAME = 'distilbert-base-uncased'\n",
    "t = text.Transformer(MODEL_NAME, maxlen=MAX_LEN, classes=label_list)\n",
    "trn = t.preprocess_train(train_text, train_tag)\n",
    "val = t.preprocess_test(val_text, val_tag)\n",
    "model = t.get_classifier()\n",
    "learner = ktrain.get_learner(model, train_data=trn, val_data=val, batch_size=BATCH_SIZE)"
   ]
  },
  {
   "cell_type": "markdown",
   "metadata": {},
   "source": [
    "# Train"
   ]
  },
  {
   "cell_type": "code",
   "execution_count": 194,
   "metadata": {},
   "outputs": [],
   "source": [
    "LR = 5e-5\n",
    "EPOCHS = 10"
   ]
  },
  {
   "cell_type": "code",
   "execution_count": 195,
   "metadata": {},
   "outputs": [
    {
     "name": "stdout",
     "output_type": "stream",
     "text": [
      "\n",
      "\n",
      "begin training using triangular learning rate policy with max lr of 5e-05...\n",
      "Train for 927 steps, validate for 44 steps\n",
      "Epoch 1/10\n",
      "927/927 [==============================] - 111s 120ms/step - loss: 3.1930 - accuracy: 0.2896 - val_loss: 2.1507 - val_accuracy: 0.4450\n",
      "Epoch 2/10\n",
      "927/927 [==============================] - 99s 107ms/step - loss: 1.6353 - accuracy: 0.5860 - val_loss: 1.4522 - val_accuracy: 0.6305\n",
      "Epoch 3/10\n",
      "927/927 [==============================] - 100s 108ms/step - loss: 1.0441 - accuracy: 0.7347 - val_loss: 1.1994 - val_accuracy: 0.6966\n",
      "Epoch 4/10\n",
      "927/927 [==============================] - 99s 107ms/step - loss: 0.7324 - accuracy: 0.8086 - val_loss: 1.1004 - val_accuracy: 0.7060\n",
      "Epoch 5/10\n",
      "927/927 [==============================] - 100s 108ms/step - loss: 0.5373 - accuracy: 0.8558 - val_loss: 1.1034 - val_accuracy: 0.7146\n",
      "Epoch 6/10\n",
      "927/927 [==============================] - 100s 108ms/step - loss: 0.3900 - accuracy: 0.8975 - val_loss: 1.1258 - val_accuracy: 0.7132\n",
      "Epoch 7/10\n",
      "927/927 [==============================] - 100s 108ms/step - loss: 0.2851 - accuracy: 0.9248 - val_loss: 1.1619 - val_accuracy: 0.7175\n",
      "Epoch 8/10\n",
      "927/927 [==============================] - 100s 108ms/step - loss: 0.1916 - accuracy: 0.9493 - val_loss: 1.2587 - val_accuracy: 0.7132\n",
      "Epoch 9/10\n",
      "927/927 [==============================] - 100s 108ms/step - loss: 0.1470 - accuracy: 0.9628 - val_loss: 1.2990 - val_accuracy: 0.7196\n",
      "Epoch 10/10\n",
      "927/927 [==============================] - 99s 107ms/step - loss: 0.1284 - accuracy: 0.9676 - val_loss: 1.3656 - val_accuracy: 0.7168\n"
     ]
    }
   ],
   "source": [
    "history = learner.autofit(LR, EPOCHS)"
   ]
  },
  {
   "cell_type": "markdown",
   "metadata": {},
   "source": [
    "# Plot model history"
   ]
  },
  {
   "cell_type": "markdown",
   "metadata": {},
   "source": [
    "## Plot Loss"
   ]
  },
  {
   "cell_type": "code",
   "execution_count": 196,
   "metadata": {},
   "outputs": [
    {
     "data": {
      "image/png": "[encoded data removed]",
      "text/plain": [
       "<Figure size 432x288 with 1 Axes>"
      ]
     },
     "metadata": {
      "needs_background": "light"
     },
     "output_type": "display_data"
    }
   ],
   "source": [
    "plt.plot(history.history['loss'])\n",
    "plt.plot(history.history['val_loss'])\n",
    "plt.title('model loss')\n",
    "plt.ylabel('loss')\n",
    "plt.xlabel('epoch')\n",
    "plt.legend(['train', 'val'], loc='upper left')\n",
    "plt.show()"
   ]
  },
  {
   "cell_type": "markdown",
   "metadata": {},
   "source": [
    "## Plot Accuracy"
   ]
  },
  {
   "cell_type": "code",
   "execution_count": 197,
   "metadata": {},
   "outputs": [
    {
     "data": {
      "image/png": "[encoded data removed]",
      "text/plain": [
       "<Figure size 432x288 with 1 Axes>"
      ]
     },
     "metadata": {
      "needs_background": "light"
     },
     "output_type": "display_data"
    }
   ],
   "source": [
    "plt.plot(history.history['accuracy'])\n",
    "plt.plot(history.history['val_accuracy'])\n",
    "plt.title('model accuracy')\n",
    "plt.ylabel('accuracy')\n",
    "plt.xlabel('epoch')\n",
    "plt.legend(['train', 'val'], loc='upper left')\n",
    "plt.show()"
   ]
  },
  {
   "cell_type": "markdown",
   "metadata": {},
   "source": [
    "# Confusion Matrix"
   ]
  },
  {
   "cell_type": "code",
   "execution_count": 198,
   "metadata": {},
   "outputs": [],
   "source": [
    "a = t.get_classes()"
   ]
  },
  {
   "cell_type": "code",
   "execution_count": 199,
   "metadata": {},
   "outputs": [
    {
     "name": "stdout",
     "output_type": "stream",
     "text": [
      "                                         precision    recall  f1-score   support\n",
      "\n",
      "           abstract-algebra;mathematics       0.78      0.81      0.79        26\n",
      "                        abuse;self-help       0.83      0.76      0.79        25\n",
      "                   accounting;economics       0.60      0.60      0.60         5\n",
      "                   adventure;literature       0.45      0.62      0.53         8\n",
      "                     aeronautic;physics       0.35      0.50      0.41        12\n",
      "                    algebra;mathematics       0.57      0.36      0.44        11\n",
      "            algorithms;computer-science       0.60      0.38      0.46        16\n",
      "                     allopathy;medicine       0.67      0.80      0.73        10\n",
      "               american-history;history       0.83      0.62      0.71         8\n",
      "                   architecture;physics       0.50      0.33      0.40         3\n",
      "                      art;entertainment       0.69      0.65      0.67        17\n",
      "                  asian-history;history       0.69      1.00      0.82         9\n",
      "                 biochemistry;chemistry       1.00      0.80      0.89        10\n",
      "                   biography;literature       0.47      0.50      0.48        16\n",
      "            brain teasers;entertainment       0.59      0.65      0.62        20\n",
      "                     business;economics       0.44      0.36      0.40        11\n",
      "                   calculus;mathematics       0.71      0.37      0.48        41\n",
      "                          cat;exam-prep       0.00      0.00      0.00         2\n",
      "                   cell-biology;biology       0.91      0.91      0.91        22\n",
      "                   childrens;literature       1.00      0.86      0.92        14\n",
      "                   christanity;religion       0.78      0.78      0.78         9\n",
      "                              civil;law       1.00      0.83      0.91         6\n",
      "                          civil;physics       1.00      0.80      0.89         5\n",
      "                    classics;literature       0.57      0.80      0.67         5\n",
      "              combinatorics;mathematics       0.52      0.58      0.55        19\n",
      "                   comedy;entertainment       0.29      0.33      0.31         6\n",
      "                      comedy;literature       0.75      0.75      0.75        12\n",
      "     complexity-theory;computer-science       0.50      0.18      0.27        11\n",
      "         computational-math;mathematics       0.88      0.78      0.82        18\n",
      "                  confucianism;religion       1.00      0.88      0.93         8\n",
      "                     constitutional;law       0.89      0.85      0.87        20\n",
      "                  cooking;entertainment       0.50      0.41      0.45        17\n",
      "        coordinate-geometry;mathematics       0.16      0.18      0.17        17\n",
      "                       crime;literature       0.53      0.62      0.57        13\n",
      "                           criminal;law       0.71      0.83      0.77         6\n",
      "              database;computer-science       0.62      0.69      0.65        26\n",
      "                        death;self-help       0.62      0.73      0.67        11\n",
      "                    electricity;physics       0.89      0.73      0.80        11\n",
      "                    electronics;physics       0.73      0.80      0.76        10\n",
      "      environmental-chemistry;chemistry       0.92      1.00      0.96        11\n",
      "               european-history;history       0.89      0.89      0.89         9\n",
      "                     fiction;literature       0.80      0.95      0.87        21\n",
      "                         gate;exam-prep       0.83      0.62      0.71         8\n",
      "                 geochemistry;chemistry       0.88      1.00      0.93         7\n",
      "                   geometry;mathematics       0.54      1.00      0.70        14\n",
      "            governance;politics-society       0.59      0.62      0.61        16\n",
      "          graph-theory;computer-science       0.67      0.72      0.69        25\n",
      "                          gre;exam-prep       0.73      1.00      0.84         8\n",
      "                      hinduism;religion       1.00      1.00      1.00         6\n",
      "                    homeopathy;medicine       0.83      1.00      0.91         5\n",
      "                      horror;literature       0.86      0.72      0.78        25\n",
      "                  human-anatomy;biology       0.70      0.88      0.78        16\n",
      "independence-movements;politics-society       0.75      0.60      0.67        10\n",
      "                    inorganic;chemistry       0.50      1.00      0.67         2\n",
      "                          jee;exam-prep       0.93      0.74      0.82        19\n",
      "                       judaism;religion       0.88      1.00      0.93         7\n",
      "                    language;literature       0.78      0.70      0.74        20\n",
      "                 lgbtq;politics-society       0.74      0.86      0.79        29\n",
      "                          llb;exam-prep       1.00      0.75      0.86         4\n",
      "                         love;self-help       0.73      0.67      0.70        12\n",
      "                         lsat;exam-prep       1.00      1.00      1.00        10\n",
      "      machine-learning;computer-science       1.00      0.94      0.97        17\n",
      "               macroeconomics;economics       0.71      0.83      0.77        12\n",
      "             measure-theory;mathematics       0.83      1.00      0.91         5\n",
      "                      mechanics;physics       0.80      0.67      0.73         6\n",
      "             meditation-peace;self-help       0.86      0.79      0.82        38\n",
      "               microeconomics;economics       0.76      0.86      0.81        37\n",
      "                       middlegame;chess       1.00      0.91      0.95        11\n",
      "                 modern-history;history       0.75      1.00      0.86         3\n",
      "            motivation-advice;self-help       0.50      0.75      0.60        12\n",
      "                   movies;entertainment       0.83      0.45      0.59        11\n",
      "                         neet;exam-prep       0.75      0.43      0.55         7\n",
      "            networking;computer-science       0.65      0.84      0.73        44\n",
      "                 non-fiction;literature       0.83      0.56      0.67         9\n",
      "            nuclear-chemistry;chemistry       1.00      1.00      1.00         7\n",
      "              number-theory;mathematics       0.71      0.68      0.69        53\n",
      "     operating-systems;computer-science       1.00      0.72      0.84        18\n",
      "    oppression-slavery;politics-society       0.40      0.40      0.40         5\n",
      "                         optics;physics       0.35      0.35      0.35        20\n",
      "     organometallic-chemistry;chemistry       0.88      1.00      0.93         7\n",
      "               photochemistry;chemistry       0.83      1.00      0.91         5\n",
      "                         plants;biology       1.00      0.89      0.94         9\n",
      "                probability;mathematics       0.92      0.86      0.89        14\n",
      " programming-languages;computer-science       0.69      0.85      0.76        39\n",
      "            quantum-chemistry;chemistry       0.88      1.00      0.93         7\n",
      "   quantum-computation;computer-science       0.75      0.71      0.73        21\n",
      "                        quantum;physics       0.50      1.00      0.67         3\n",
      "                     relativity;physics       0.86      1.00      0.92        12\n",
      "                     romance;literature       0.88      0.78      0.82        18\n",
      "                          sat;exam-prep       1.00      0.90      0.95        10\n",
      "                   sports;entertainment       0.78      0.52      0.62        27\n",
      "            surface-chemistry;chemistry       0.80      0.80      0.80         5\n",
      "                   topology;mathematics       0.30      0.38      0.33         8\n",
      "                   trivia;entertainment       1.00      0.80      0.89        10\n",
      "                         upsc;exam-prep       0.56      0.74      0.64        19\n",
      "                          war;self-help       0.76      0.54      0.63        35\n",
      "                           wars;history       0.56      1.00      0.71         5\n",
      "                          waves;physics       0.67      0.62      0.64        13\n",
      "          women-rights;politics-society       0.45      0.56      0.50         9\n",
      "\n",
      "                               accuracy                           0.72      1391\n",
      "                              macro avg       0.73      0.73      0.72      1391\n",
      "                           weighted avg       0.73      0.72      0.71      1391\n",
      "\n"
     ]
    },
    {
     "name": "stderr",
     "output_type": "stream",
     "text": [
      "/opt/conda/lib/python3.7/site-packages/sklearn/metrics/classification.py:1437: UndefinedMetricWarning: Precision and F-score are ill-defined and being set to 0.0 in labels with no predicted samples.\n",
      "  'precision', 'predicted', average, warn_for)\n"
     ]
    }
   ],
   "source": [
    "conf = learner.validate(class_names = a)"
   ]
  },
  {
   "cell_type": "code",
   "execution_count": 200,
   "metadata": {},
   "outputs": [
    {
     "data": {
      "text/plain": [
       "<matplotlib.axes._subplots.AxesSubplot at 0x7f2e1c9666d0>"
      ]
     },
     "execution_count": 200,
     "metadata": {},
     "output_type": "execute_result"
    },
    {
     "data": {
      "image/png": "[encoded data removed]",
      "text/plain": [
       "<Figure size 1440x1440 with 2 Axes>"
      ]
     },
     "metadata": {
      "needs_background": "light"
     },
     "output_type": "display_data"
    }
   ],
   "source": [
    "plt.figure(figsize = (20,20))\n",
    "sns.heatmap(conf)"
   ]
  },
  {
   "cell_type": "markdown",
   "metadata": {},
   "source": [
    "## Let's See where our model fails most in the validation set"
   ]
  },
  {
   "cell_type": "code",
   "execution_count": 201,
   "metadata": {},
   "outputs": [
    {
     "name": "stdout",
     "output_type": "stream",
     "text": [
      "----------\n",
      "id:830 | loss:15.98 | true:algebra;mathematics | pred:database;computer-science)\n",
      "\n",
      "----------\n",
      "id:471 | loss:12.74 | true:abuse;self-help | pred:cooking;entertainment)\n",
      "\n",
      "----------\n",
      "id:1081 | loss:11.73 | true:computational-math;mathematics | pred:human-anatomy;biology)\n",
      "\n",
      "----------\n",
      "id:149 | loss:11.6 | true:probability;mathematics | pred:combinatorics;mathematics)\n",
      "\n",
      "----------\n",
      "id:1042 | loss:11.28 | true:allopathy;medicine | pred:accounting;economics)\n",
      "\n",
      "----------\n",
      "id:1309 | loss:10.95 | true:abstract-algebra;mathematics | pred:number-theory;mathematics)\n",
      "\n",
      "----------\n",
      "id:1256 | loss:10.79 | true:calculus;mathematics | pred:algorithms;computer-science)\n",
      "\n",
      "----------\n",
      "id:177 | loss:10.7 | true:sports;entertainment | pred:women-rights;politics-society)\n",
      "\n",
      "----------\n",
      "id:1365 | loss:10.5 | true:governance;politics-society | pred:wars;history)\n",
      "\n",
      "----------\n",
      "id:860 | loss:10.17 | true:crime;literature | pred:brain teasers;entertainment)\n",
      "\n"
     ]
    }
   ],
   "source": [
    "learner.view_top_losses(n=10, preproc=t)"
   ]
  },
  {
   "cell_type": "markdown",
   "metadata": {},
   "source": [
    "# Predictions"
   ]
  },
  {
   "cell_type": "code",
   "execution_count": 202,
   "metadata": {},
   "outputs": [],
   "source": [
    "predictor = ktrain.get_predictor(learner.model, preproc=t)"
   ]
  },
  {
   "cell_type": "code",
   "execution_count": 203,
   "metadata": {},
   "outputs": [
    {
     "data": {
      "text/html": [],
      "text/plain": [
       "<IPython.core.display.HTML object>"
      ]
     },
     "metadata": {},
     "output_type": "display_data"
    },
    {
     "data": {
      "text/plain": [
       "'fiction;literature'"
      ]
     },
     "execution_count": 203,
     "metadata": {},
     "output_type": "execute_result"
    }
   ],
   "source": [
    "predictor.predict(\"harry potter\")"
   ]
  },
  {
   "cell_type": "markdown",
   "metadata": {},
   "source": [
    "# Explain prediction"
   ]
  },
  {
   "cell_type": "markdown",
   "metadata": {},
   "source": [
    "## Correct prediction"
   ]
  },
  {
   "cell_type": "code",
   "execution_count": 204,
   "metadata": {},
   "outputs": [],
   "source": [
    "check = val_copy.iloc[10]"
   ]
  },
  {
   "cell_type": "code",
   "execution_count": 205,
   "metadata": {},
   "outputs": [
    {
     "data": {
      "text/plain": [
       "Unnamed: 0                                                   119\n",
       "title                                            Earth Economics\n",
       "category                                    Business & Economics\n",
       "description    Publisher's description. Taking stock of emerg...\n",
       "author                                  Peter A. G. van Bergeijk\n",
       "rating                                                        -1\n",
       "gbooks-link                                                     \n",
       "info-link      https://play.google.com/store/books/details?id...\n",
       "volume-link    https://play.google.com/store/books/details?id...\n",
       "isbn                                                 9.78178e+12\n",
       "image          http://books.google.com/books/content?id=aQHqB...\n",
       "tag                                     microeconomics;economics\n",
       "text           Earth Economics Peter A. G. van Bergeijk Publi...\n",
       "Name: 11759, dtype: object"
      ]
     },
     "execution_count": 205,
     "metadata": {},
     "output_type": "execute_result"
    }
   ],
   "source": [
    "check"
   ]
  },
  {
   "cell_type": "markdown",
   "metadata": {},
   "source": [
    "### True tag"
   ]
  },
  {
   "cell_type": "code",
   "execution_count": 206,
   "metadata": {},
   "outputs": [
    {
     "data": {
      "text/plain": [
       "'microeconomics;economics'"
      ]
     },
     "execution_count": 206,
     "metadata": {},
     "output_type": "execute_result"
    }
   ],
   "source": [
    "check.tag"
   ]
  },
  {
   "cell_type": "markdown",
   "metadata": {},
   "source": [
    "### Predicted tag"
   ]
  },
  {
   "cell_type": "code",
   "execution_count": 207,
   "metadata": {},
   "outputs": [
    {
     "data": {
      "text/html": [],
      "text/plain": [
       "<IPython.core.display.HTML object>"
      ]
     },
     "metadata": {},
     "output_type": "display_data"
    },
    {
     "data": {
      "text/plain": [
       "'microeconomics;economics'"
      ]
     },
     "execution_count": 207,
     "metadata": {},
     "output_type": "execute_result"
    }
   ],
   "source": [
    "predictor.predict(check.text)"
   ]
  },
  {
   "cell_type": "markdown",
   "metadata": {},
   "source": [
    "### Explanation"
   ]
  },
  {
   "cell_type": "code",
   "execution_count": 208,
   "metadata": {},
   "outputs": [
    {
     "data": {
      "text/html": [],
      "text/plain": [
       "<IPython.core.display.HTML object>"
      ]
     },
     "metadata": {},
     "output_type": "display_data"
    },
    {
     "data": {
      "text/html": [],
      "text/plain": [
       "<IPython.core.display.HTML object>"
      ]
     },
     "metadata": {},
     "output_type": "display_data"
    },
    {
     "data": {
      "text/html": [
       "\n",
       "    <style>\n",
       "    table.eli5-weights tr:hover {\n",
       "        filter: brightness(85%);\n",
       "    }\n",
       "</style>\n",
       "\n",
       "\n",
       "\n",
       "    \n",
       "\n",
       "    \n",
       "\n",
       "    \n",
       "\n",
       "    \n",
       "\n",
       "    \n",
       "\n",
       "    \n",
       "\n",
       "\n",
       "    \n",
       "\n",
       "    \n",
       "\n",
       "    \n",
       "\n",
       "    \n",
       "        \n",
       "\n",
       "    \n",
       "\n",
       "        \n",
       "\n",
       "        \n",
       "    \n",
       "        \n",
       "        \n",
       "    \n",
       "        <p style=\"margin-bottom: 0.5em; margin-top: 0em\">\n",
       "            <b>\n",
       "    \n",
       "        y=microeconomics;economics\n",
       "    \n",
       "</b>\n",
       "\n",
       "    \n",
       "    (probability <b>0.905</b>, score <b>2.297</b>)\n",
       "\n",
       "top features\n",
       "        </p>\n",
       "    \n",
       "    <table class=\"eli5-weights\"\n",
       "           style=\"border-collapse: collapse; border: none; margin-top: 0em; table-layout: auto; margin-bottom: 2em;\">\n",
       "        <thead>\n",
       "        <tr style=\"border: none;\">\n",
       "            \n",
       "                <th style=\"padding: 0 1em 0 0.5em; text-align: right; border: none;\" title=\"Feature contribution already accounts for the feature value (for linear models, contribution = weight * feature value), and the sum of feature contributions is equal to the score or, for some classifiers, to the probability. Feature values are shown if &quot;show_feature_values&quot; is True.\">\n",
       "                    Contribution<sup>?</sup>\n",
       "                </th>\n",
       "            \n",
       "            <th style=\"padding: 0 0.5em 0 0.5em; text-align: left; border: none;\">Feature</th>\n",
       "            \n",
       "        </tr>\n",
       "        </thead>\n",
       "        <tbody>\n",
       "        \n",
       "            <tr style=\"background-color: hsl(120, 100.00%, 80.00%); border: none;\">\n",
       "    <td style=\"padding: 0 1em 0 0.5em; text-align: right; border: none;\">\n",
       "        +2.320\n",
       "    </td>\n",
       "    <td style=\"padding: 0 0.5em 0 0.5em; text-align: left; border: none;\">\n",
       "        Highlighted in text (sum)\n",
       "    </td>\n",
       "    \n",
       "</tr>\n",
       "        \n",
       "        \n",
       "\n",
       "        \n",
       "        \n",
       "            <tr style=\"background-color: hsl(0, 100.00%, 99.20%); border: none;\">\n",
       "    <td style=\"padding: 0 1em 0 0.5em; text-align: right; border: none;\">\n",
       "        -0.024\n",
       "    </td>\n",
       "    <td style=\"padding: 0 0.5em 0 0.5em; text-align: left; border: none;\">\n",
       "        &lt;BIAS&gt;\n",
       "    </td>\n",
       "    \n",
       "</tr>\n",
       "        \n",
       "\n",
       "        </tbody>\n",
       "    </table>\n",
       "\n",
       "    \n",
       "\n",
       "\n",
       "\n",
       "    <p style=\"margin-bottom: 2.5em; margin-top:-0.5em;\">\n",
       "        <span style=\"background-color: hsl(0, 100.00%, 96.39%); opacity: 0.81\" title=\"-0.085\">earth</span><span style=\"opacity: 0.80\"> </span><span style=\"background-color: hsl(120, 100.00%, 60.00%); opacity: 1.00\" title=\"2.627\">economics</span><span style=\"opacity: 0.80\"> </span><span style=\"background-color: hsl(120, 100.00%, 81.44%); opacity: 0.87\" title=\"0.877\">peter</span><span style=\"opacity: 0.80\"> </span><span style=\"background-color: hsl(0, 100.00%, 93.37%); opacity: 0.82\" title=\"-0.202\">a</span><span style=\"opacity: 0.80\">. </span><span style=\"background-color: hsl(0, 100.00%, 95.26%); opacity: 0.81\" title=\"-0.125\">g</span><span style=\"opacity: 0.80\">. </span><span style=\"background-color: hsl(0, 100.00%, 98.97%); opacity: 0.80\" title=\"-0.014\">van</span><span style=\"opacity: 0.80\"> </span><span style=\"background-color: hsl(0, 100.00%, 94.03%); opacity: 0.81\" title=\"-0.173\">bergeijk</span><span style=\"opacity: 0.80\"> </span><span style=\"background-color: hsl(120, 100.00%, 95.85%); opacity: 0.81\" title=\"0.103\">publisher</span><span style=\"opacity: 0.80\">&#x27;</span><span style=\"background-color: hsl(120, 100.00%, 95.70%); opacity: 0.81\" title=\"0.109\">s</span><span style=\"opacity: 0.80\"> </span><span style=\"background-color: hsl(120, 100.00%, 96.38%); opacity: 0.81\" title=\"0.085\">description</span><span style=\"opacity: 0.80\">. </span><span style=\"background-color: hsl(120, 100.00%, 96.23%); opacity: 0.81\" title=\"0.090\">taking</span><span style=\"opacity: 0.80\"> </span><span style=\"background-color: hsl(120, 100.00%, 95.58%); opacity: 0.81\" title=\"0.113\">stock</span><span style=\"opacity: 0.80\"> </span><span style=\"background-color: hsl(0, 100.00%, 92.36%); opacity: 0.82\" title=\"-0.247\">of</span><span style=\"opacity: 0.80\"> </span><span style=\"background-color: hsl(0, 100.00%, 97.31%); opacity: 0.80\" title=\"-0.055\">emerging</span><span style=\"opacity: 0.80\"> </span><span style=\"background-color: hsl(0, 100.00%, 89.52%); opacity: 0.83\" title=\"-0.388\">planet</span><span style=\"opacity: 0.80\"> </span><span style=\"background-color: hsl(0, 100.00%, 95.16%); opacity: 0.81\" title=\"-0.129\">data</span><span style=\"opacity: 0.80\"> </span><span style=\"background-color: hsl(120, 100.00%, 97.91%); opacity: 0.80\" title=\"0.039\">and</span><span style=\"opacity: 0.80\"> </span><span style=\"background-color: hsl(120, 100.00%, 95.52%); opacity: 0.81\" title=\"0.115\">analysing</span><span style=\"opacity: 0.80\"> policies </span><span style=\"background-color: hsl(120, 100.00%, 96.46%); opacity: 0.81\" title=\"0.082\">during</span><span style=\"opacity: 0.80\"> </span><span style=\"background-color: hsl(120, 100.00%, 92.61%); opacity: 0.82\" title=\"0.235\">the</span><span style=\"opacity: 0.80\"> </span><span style=\"background-color: hsl(0, 100.00%, 80.04%); opacity: 0.87\" title=\"-0.973\">global</span><span style=\"opacity: 0.80\"> </span><span style=\"background-color: hsl(0, 100.00%, 80.11%); opacity: 0.87\" title=\"-0.969\">crisis</span><span style=\"opacity: 0.80\">, </span><span style=\"background-color: hsl(120, 100.00%, 92.22%); opacity: 0.82\" title=\"0.253\">earth</span><span style=\"opacity: 0.80\"> </span><span style=\"background-color: hsl(120, 100.00%, 78.11%); opacity: 0.88\" title=\"1.111\">economics</span><span style=\"opacity: 0.80\"> </span><span style=\"background-color: hsl(120, 100.00%, 91.62%); opacity: 0.82\" title=\"0.282\">provides</span><span style=\"opacity: 0.80\"> </span><span style=\"background-color: hsl(120, 100.00%, 98.86%); opacity: 0.80\" title=\"0.016\">a</span><span style=\"opacity: 0.80\"> </span><span style=\"background-color: hsl(0, 100.00%, 94.61%); opacity: 0.81\" title=\"-0.150\">comprehensive</span><span style=\"opacity: 0.80\"> </span><span style=\"background-color: hsl(0, 100.00%, 97.28%); opacity: 0.80\" title=\"-0.056\">and</span><span style=\"opacity: 0.80\"> </span><span style=\"background-color: hsl(120, 100.00%, 94.38%); opacity: 0.81\" title=\"0.159\">accessible</span><span style=\"opacity: 0.80\"> </span><span style=\"background-color: hsl(0, 100.00%, 98.00%); opacity: 0.80\" title=\"-0.037\">introduction</span><span style=\"opacity: 0.80\"> </span><span style=\"background-color: hsl(0, 100.00%, 97.29%); opacity: 0.80\" title=\"-0.056\">to</span><span style=\"opacity: 0.80\"> </span><span style=\"background-color: hsl(0, 100.00%, 98.40%); opacity: 0.80\" title=\"-0.027\">basic</span><span style=\"opacity: 0.80\"> </span><span style=\"background-color: hsl(120, 100.00%, 89.78%); opacity: 0.83\" title=\"0.374\">macroeconomic</span><span style=\"opacity: 0.80\"> </span><span style=\"background-color: hsl(0, 100.00%, 96.63%); opacity: 0.81\" title=\"-0.077\">concepts</span><span style=\"opacity: 0.80\">, </span><span style=\"background-color: hsl(120, 100.00%, 98.05%); opacity: 0.80\" title=\"0.035\">methods</span><span style=\"opacity: 0.80\"> </span><span style=\"background-color: hsl(120, 100.00%, 97.15%); opacity: 0.80\" title=\"0.060\">and</span><span style=\"opacity: 0.80\"> </span><span style=\"background-color: hsl(120, 100.00%, 90.04%); opacity: 0.83\" title=\"0.360\">principles</span><span style=\"opacity: 0.80\"> </span><span style=\"background-color: hsl(120, 100.00%, 93.12%); opacity: 0.82\" title=\"0.213\">and</span><span style=\"opacity: 0.80\"> </span><span style=\"background-color: hsl(0, 100.00%, 94.77%); opacity: 0.81\" title=\"-0.144\">their</span><span style=\"opacity: 0.80\"> </span><span style=\"background-color: hsl(120, 100.00%, 95.19%); opacity: 0.81\" title=\"0.127\">application</span><span style=\"opacity: 0.80\"> </span><span style=\"background-color: hsl(120, 100.00%, 93.83%); opacity: 0.81\" title=\"0.182\">to</span><span style=\"opacity: 0.80\"> </span><span style=\"background-color: hsl(0, 100.00%, 97.16%); opacity: 0.80\" title=\"-0.060\">real</span><span style=\"opacity: 0.80\"> </span><span style=\"background-color: hsl(0, 100.00%, 96.43%); opacity: 0.81\" title=\"-0.083\">world</span><span style=\"opacity: 0.80\"> </span><span style=\"background-color: hsl(120, 100.00%, 95.92%); opacity: 0.81\" title=\"0.101\">data</span><span style=\"opacity: 0.80\">. </span><span style=\"background-color: hsl(0, 100.00%, 97.37%); opacity: 0.80\" title=\"-0.054\">written</span><span style=\"opacity: 0.80\"> </span><span style=\"background-color: hsl(120, 100.00%, 95.20%); opacity: 0.81\" title=\"0.127\">principally</span><span style=\"opacity: 0.80\"> </span><span style=\"background-color: hsl(0, 100.00%, 96.59%); opacity: 0.81\" title=\"-0.078\">for</span><span style=\"opacity: 0.80\"> </span><span style=\"background-color: hsl(0, 100.00%, 94.69%); opacity: 0.81\" title=\"-0.147\">students</span><span style=\"opacity: 0.80\"> </span><span style=\"background-color: hsl(120, 100.00%, 95.63%); opacity: 0.81\" title=\"0.111\">seeking</span><span style=\"opacity: 0.80\"> </span><span style=\"background-color: hsl(120, 100.00%, 91.96%); opacity: 0.82\" title=\"0.265\">an</span><span style=\"opacity: 0.80\"> </span><span style=\"background-color: hsl(120, 100.00%, 99.99%); opacity: 0.80\" title=\"0.000\">introduction</span><span style=\"opacity: 0.80\"> </span><span style=\"background-color: hsl(120, 100.00%, 95.79%); opacity: 0.81\" title=\"0.105\">to</span><span style=\"opacity: 0.80\"> </span><span style=\"background-color: hsl(120, 100.00%, 94.31%); opacity: 0.81\" title=\"0.162\">macroeconomics</span><span style=\"opacity: 0.80\">, </span><span style=\"background-color: hsl(0, 100.00%, 95.49%); opacity: 0.81\" title=\"-0.116\">this</span><span style=\"opacity: 0.80\"> </span><span style=\"background-color: hsl(0, 100.00%, 94.22%); opacity: 0.81\" title=\"-0.166\">book</span><span style=\"opacity: 0.80\"> </span><span style=\"background-color: hsl(0, 100.00%, 90.88%); opacity: 0.82\" title=\"-0.318\">offers</span><span style=\"opacity: 0.80\"> </span><span style=\"background-color: hsl(0, 100.00%, 92.85%); opacity: 0.82\" title=\"-0.225\">a</span><span style=\"opacity: 0.80\"> </span><span style=\"background-color: hsl(120, 100.00%, 98.92%); opacity: 0.80\" title=\"0.015\">completely</span><span style=\"opacity: 0.80\"> </span><span style=\"background-color: hsl(120, 100.00%, 93.87%); opacity: 0.81\" title=\"0.180\">new</span><span style=\"opacity: 0.80\"> </span><span style=\"background-color: hsl(120, 100.00%, 94.56%); opacity: 0.81\" title=\"0.152\">angle</span><span style=\"opacity: 0.80\"> </span><span style=\"background-color: hsl(0, 100.00%, 97.28%); opacity: 0.80\" title=\"-0.057\">to</span><span style=\"opacity: 0.80\"> </span><span style=\"background-color: hsl(0, 100.00%, 97.28%); opacity: 0.80\" title=\"-0.057\">policy</span><span style=\"opacity: 0.80\"> </span><span style=\"background-color: hsl(120, 100.00%, 95.32%); opacity: 0.81\" title=\"0.123\">with</span><span style=\"opacity: 0.80\"> </span><span style=\"background-color: hsl(120, 100.00%, 97.61%); opacity: 0.80\" title=\"0.047\">a</span><span style=\"opacity: 0.80\"> </span><span style=\"background-color: hsl(0, 100.00%, 94.37%); opacity: 0.81\" title=\"-0.160\">focus</span><span style=\"opacity: 0.80\"> </span><span style=\"background-color: hsl(0, 100.00%, 97.45%); opacity: 0.80\" title=\"-0.051\">on</span><span style=\"opacity: 0.80\"> </span><span style=\"background-color: hsl(0, 100.00%, 95.57%); opacity: 0.81\" title=\"-0.113\">the</span><span style=\"opacity: 0.80\"> </span><span style=\"background-color: hsl(0, 100.00%, 96.85%); opacity: 0.81\" title=\"-0.070\">truly</span><span style=\"opacity: 0.80\"> </span><span style=\"background-color: hsl(0, 100.00%, 88.89%); opacity: 0.83\" title=\"-0.422\">global</span><span style=\"opacity: 0.80\"> </span><span style=\"background-color: hsl(0, 100.00%, 93.04%); opacity: 0.82\" title=\"-0.216\">level</span><span style=\"opacity: 0.80\">. </span><span style=\"background-color: hsl(0, 100.00%, 95.12%); opacity: 0.81\" title=\"-0.130\">underpinned</span><span style=\"opacity: 0.80\"> </span><span style=\"background-color: hsl(0, 100.00%, 93.19%); opacity: 0.82\" title=\"-0.209\">by</span><span style=\"opacity: 0.80\"> </span><span style=\"background-color: hsl(0, 100.00%, 94.13%); opacity: 0.81\" title=\"-0.169\">empirical</span><span style=\"opacity: 0.80\"> </span><span style=\"background-color: hsl(0, 100.00%, 94.38%); opacity: 0.81\" title=\"-0.159\">orientation</span><span style=\"opacity: 0.80\"> </span><span style=\"background-color: hsl(0, 100.00%, 96.14%); opacity: 0.81\" title=\"-0.093\">of</span><span style=\"opacity: 0.80\"> </span><span style=\"background-color: hsl(0, 100.00%, 97.95%); opacity: 0.80\" title=\"-0.038\">state</span><span style=\"opacity: 0.80\">-</span><span style=\"background-color: hsl(120, 100.00%, 98.77%); opacity: 0.80\" title=\"0.018\">of</span><span style=\"opacity: 0.80\">-</span><span style=\"background-color: hsl(120, 100.00%, 94.96%); opacity: 0.81\" title=\"0.136\">the</span><span style=\"opacity: 0.80\">-</span><span style=\"background-color: hsl(120, 100.00%, 92.63%); opacity: 0.82\" title=\"0.234\">art</span><span style=\"opacity: 0.80\"> </span><span style=\"background-color: hsl(120, 100.00%, 94.24%); opacity: 0.81\" title=\"0.165\">data</span><span style=\"opacity: 0.80\">, </span><span style=\"background-color: hsl(0, 100.00%, 97.18%); opacity: 0.80\" title=\"-0.060\">it</span><span style=\"opacity: 0.80\"> </span><span style=\"background-color: hsl(120, 100.00%, 98.66%); opacity: 0.80\" title=\"0.020\">introduces</span><span style=\"opacity: 0.80\"> </span><span style=\"background-color: hsl(0, 100.00%, 98.02%); opacity: 0.80\" title=\"-0.036\">earth</span><span style=\"opacity: 0.80\"> </span><span style=\"background-color: hsl(120, 100.00%, 91.60%); opacity: 0.82\" title=\"0.283\">economics</span><span style=\"opacity: 0.80\"> </span><span style=\"background-color: hsl(0, 100.00%, 88.93%); opacity: 0.83\" title=\"-0.419\">as</span><span style=\"opacity: 0.80\"> </span><span style=\"background-color: hsl(120, 100.00%, 90.62%); opacity: 0.83\" title=\"0.331\">the</span><span style=\"opacity: 0.80\"> </span><span style=\"background-color: hsl(0, 100.00%, 96.64%); opacity: 0.81\" title=\"-0.076\">study</span><span style=\"opacity: 0.80\"> </span><span style=\"background-color: hsl(0, 100.00%, 96.88%); opacity: 0.81\" title=\"-0.069\">of</span><span style=\"opacity: 0.80\"> </span><span style=\"background-color: hsl(0, 100.00%, 95.88%); opacity: 0.81\" title=\"-0.102\">the</span><span style=\"opacity: 0.80\"> </span><span style=\"background-color: hsl(0, 100.00%, 84.66%); opacity: 0.85\" title=\"-0.668\">economy</span><span style=\"opacity: 0.80\"> </span><span style=\"background-color: hsl(120, 100.00%, 80.75%); opacity: 0.87\" title=\"0.924\">of</span><span style=\"opacity: 0.80\"> </span><span style=\"background-color: hsl(0, 100.00%, 97.30%); opacity: 0.80\" title=\"-0.056\">our</span><span style=\"opacity: 0.80\"> </span><span style=\"background-color: hsl(120, 100.00%, 96.92%); opacity: 0.81\" title=\"0.067\">planet</span><span style=\"opacity: 0.80\"> </span><span style=\"background-color: hsl(120, 100.00%, 92.77%); opacity: 0.82\" title=\"0.228\">from</span><span style=\"opacity: 0.80\"> </span><span style=\"background-color: hsl(120, 100.00%, 93.23%); opacity: 0.82\" title=\"0.208\">the</span><span style=\"opacity: 0.80\"> </span><span style=\"background-color: hsl(120, 100.00%, 96.51%); opacity: 0.81\" title=\"0.080\">perspective</span><span style=\"opacity: 0.80\"> </span><span style=\"background-color: hsl(120, 100.00%, 93.43%); opacity: 0.82\" title=\"0.199\">of</span><span style=\"opacity: 0.80\"> </span><span style=\"background-color: hsl(120, 100.00%, 97.23%); opacity: 0.80\" title=\"0.058\">an</span><span style=\"opacity: 0.80\"> </span><span style=\"background-color: hsl(0, 100.00%, 97.41%); opacity: 0.80\" title=\"-0.053\">autarkic</span><span style=\"opacity: 0.80\"> </span><span style=\"background-color: hsl(120, 100.00%, 96.95%); opacity: 0.81\" title=\"0.067\">system</span><span style=\"opacity: 0.80\"> (</span><span style=\"background-color: hsl(120, 100.00%, 90.68%); opacity: 0.82\" title=\"0.328\">a</span><span style=\"opacity: 0.80\"> &#x27;</span><span style=\"background-color: hsl(120, 100.00%, 98.23%); opacity: 0.80\" title=\"0.031\">closed</span><span style=\"opacity: 0.80\"> </span><span style=\"background-color: hsl(0, 100.00%, 77.99%); opacity: 0.89\" title=\"-1.119\">economy</span><span style=\"opacity: 0.80\">&#x27;), </span><span style=\"background-color: hsl(120, 100.00%, 96.32%); opacity: 0.81\" title=\"0.087\">focussing</span><span style=\"opacity: 0.80\"> </span><span style=\"background-color: hsl(0, 100.00%, 98.31%); opacity: 0.80\" title=\"-0.029\">on</span><span style=\"opacity: 0.80\"> policymaking </span><span style=\"background-color: hsl(120, 100.00%, 97.38%); opacity: 0.80\" title=\"0.053\">that</span><span style=\"opacity: 0.80\"> </span><span style=\"background-color: hsl(120, 100.00%, 97.53%); opacity: 0.80\" title=\"0.049\">improves</span><span style=\"opacity: 0.80\"> </span><span style=\"background-color: hsl(0, 100.00%, 88.95%); opacity: 0.83\" title=\"-0.418\">global</span><span style=\"opacity: 0.80\"> </span><span style=\"background-color: hsl(0, 100.00%, 99.63%); opacity: 0.80\" title=\"-0.003\">rather</span><span style=\"opacity: 0.80\"> </span><span style=\"background-color: hsl(120, 100.00%, 99.86%); opacity: 0.80\" title=\"0.001\">than</span><span style=\"opacity: 0.80\"> </span><span style=\"background-color: hsl(120, 100.00%, 93.50%); opacity: 0.81\" title=\"0.196\">national</span><span style=\"opacity: 0.80\"> </span><span style=\"background-color: hsl(0, 100.00%, 97.11%); opacity: 0.80\" title=\"-0.062\">welfare</span><span style=\"opacity: 0.80\">. </span><span style=\"background-color: hsl(0, 100.00%, 93.46%); opacity: 0.82\" title=\"-0.198\">key</span><span style=\"opacity: 0.80\"> </span><span style=\"background-color: hsl(0, 100.00%, 98.54%); opacity: 0.80\" title=\"-0.023\">features</span><span style=\"opacity: 0.80\"> </span><span style=\"background-color: hsl(120, 100.00%, 95.42%); opacity: 0.81\" title=\"0.119\">include</span><span style=\"opacity: 0.80\">: </span><span style=\"background-color: hsl(0, 100.00%, 93.75%); opacity: 0.81\" title=\"-0.185\">a</span><span style=\"opacity: 0.80\"> </span><span style=\"background-color: hsl(120, 100.00%, 99.00%); opacity: 0.80\" title=\"0.014\">discourse</span><span style=\"opacity: 0.80\"> </span><span style=\"background-color: hsl(120, 100.00%, 97.67%); opacity: 0.80\" title=\"0.045\">on</span><span style=\"opacity: 0.80\"> </span><span style=\"background-color: hsl(120, 100.00%, 96.21%); opacity: 0.81\" title=\"0.091\">issues</span><span style=\"opacity: 0.80\"> </span><span style=\"background-color: hsl(120, 100.00%, 96.41%); opacity: 0.81\" title=\"0.084\">fundamental</span><span style=\"opacity: 0.80\"> </span><span style=\"background-color: hsl(120, 100.00%, 99.81%); opacity: 0.80\" title=\"0.001\">to</span><span style=\"opacity: 0.80\"> </span><span style=\"background-color: hsl(0, 100.00%, 98.82%); opacity: 0.80\" title=\"-0.017\">the</span><span style=\"opacity: 0.80\"> </span><span style=\"background-color: hsl(120, 100.00%, 98.67%); opacity: 0.80\" title=\"0.020\">understanding</span><span style=\"opacity: 0.80\"> </span><span style=\"background-color: hsl(0, 100.00%, 94.53%); opacity: 0.81\" title=\"-0.153\">of</span><span style=\"opacity: 0.80\"> </span><span style=\"background-color: hsl(0, 100.00%, 96.82%); opacity: 0.81\" title=\"-0.071\">macroeconomics</span><span style=\"opacity: 0.80\">. </span><span style=\"background-color: hsl(0, 100.00%, 98.38%); opacity: 0.80\" title=\"-0.027\">an</span><span style=\"opacity: 0.80\"> </span><span style=\"background-color: hsl(120, 100.00%, 99.99%); opacity: 0.80\" title=\"0.000\">introduction</span><span style=\"opacity: 0.80\"> </span><span style=\"background-color: hsl(0, 100.00%, 96.63%); opacity: 0.81\" title=\"-0.077\">to</span><span style=\"opacity: 0.80\"> </span><span style=\"background-color: hsl(0, 100.00%, 98.52%); opacity: 0.80\" title=\"-0.024\">economists</span><span style=\"opacity: 0.80\">&#x27; </span><span style=\"background-color: hsl(0, 100.00%, 91.55%); opacity: 0.82\" title=\"-0.285\">tools</span><span style=\"opacity: 0.80\"> </span><span style=\"background-color: hsl(0, 100.00%, 94.78%); opacity: 0.81\" title=\"-0.143\">and</span><span style=\"opacity: 0.80\"> </span><span style=\"background-color: hsl(120, 100.00%, 94.07%); opacity: 0.81\" title=\"0.172\">concepts</span><span style=\"opacity: 0.80\">. </span><span style=\"background-color: hsl(0, 100.00%, 98.54%); opacity: 0.80\" title=\"-0.023\">non</span><span style=\"opacity: 0.80\">-</span><span style=\"background-color: hsl(0, 100.00%, 93.86%); opacity: 0.81\" title=\"-0.181\">economists</span><span style=\"opacity: 0.80\"> </span><span style=\"background-color: hsl(0, 100.00%, 93.65%); opacity: 0.81\" title=\"-0.189\">will</span><span style=\"opacity: 0.80\"> </span><span style=\"background-color: hsl(0, 100.00%, 95.24%); opacity: 0.81\" title=\"-0.125\">learn</span><span style=\"opacity: 0.80\"> </span><span style=\"background-color: hsl(0, 100.00%, 98.94%); opacity: 0.80\" title=\"-0.015\">how</span><span style=\"opacity: 0.80\"> </span><span style=\"background-color: hsl(120, 100.00%, 92.36%); opacity: 0.82\" title=\"0.247\">to</span><span style=\"opacity: 0.80\"> </span><span style=\"background-color: hsl(0, 100.00%, 91.89%); opacity: 0.82\" title=\"-0.269\">survive</span><span style=\"opacity: 0.80\"> </span><span style=\"background-color: hsl(0, 100.00%, 97.86%); opacity: 0.80\" title=\"-0.040\">in</span><span style=\"opacity: 0.80\"> </span><span style=\"background-color: hsl(0, 100.00%, 96.12%); opacity: 0.81\" title=\"-0.094\">a</span><span style=\"opacity: 0.80\"> </span><span style=\"background-color: hsl(120, 100.00%, 95.47%); opacity: 0.81\" title=\"0.117\">discussion</span><span style=\"opacity: 0.80\"> </span><span style=\"background-color: hsl(120, 100.00%, 94.01%); opacity: 0.81\" title=\"0.174\">with</span><span style=\"opacity: 0.80\"> </span><span style=\"background-color: hsl(120, 100.00%, 88.79%); opacity: 0.83\" title=\"0.427\">economists</span><span style=\"opacity: 0.80\">: </span><span style=\"background-color: hsl(120, 100.00%, 97.14%); opacity: 0.80\" title=\"0.061\">where</span><span style=\"opacity: 0.80\"> </span><span style=\"background-color: hsl(120, 100.00%, 92.97%); opacity: 0.82\" title=\"0.219\">to</span><span style=\"opacity: 0.80\"> </span><span style=\"background-color: hsl(0, 100.00%, 92.74%); opacity: 0.82\" title=\"-0.230\">ask</span><span style=\"opacity: 0.80\"> </span><span style=\"background-color: hsl(0, 100.00%, 92.87%); opacity: 0.82\" title=\"-0.224\">questions</span><span style=\"opacity: 0.80\">, </span><span style=\"background-color: hsl(120, 100.00%, 93.50%); opacity: 0.81\" title=\"0.196\">where</span><span style=\"opacity: 0.80\"> </span><span style=\"background-color: hsl(120, 100.00%, 93.14%); opacity: 0.82\" title=\"0.212\">to</span><span style=\"opacity: 0.80\"> </span><span style=\"background-color: hsl(120, 100.00%, 92.21%); opacity: 0.82\" title=\"0.254\">listen</span><span style=\"opacity: 0.80\">, </span><span style=\"background-color: hsl(0, 100.00%, 97.76%); opacity: 0.80\" title=\"-0.043\">where</span><span style=\"opacity: 0.80\"> </span><span style=\"background-color: hsl(120, 100.00%, 97.43%); opacity: 0.80\" title=\"0.052\">to</span><span style=\"opacity: 0.80\"> </span><span style=\"background-color: hsl(120, 100.00%, 93.67%); opacity: 0.81\" title=\"0.189\">skip</span><span style=\"opacity: 0.80\"> </span><span style=\"background-color: hsl(120, 100.00%, 95.81%); opacity: 0.81\" title=\"0.105\">and</span><span style=\"opacity: 0.80\"> </span><span style=\"background-color: hsl(120, 100.00%, 98.52%); opacity: 0.80\" title=\"0.024\">where</span><span style=\"opacity: 0.80\"> </span><span style=\"background-color: hsl(0, 100.00%, 95.96%); opacity: 0.81\" title=\"-0.099\">to</span><span style=\"opacity: 0.80\"> </span><span style=\"background-color: hsl(0, 100.00%, 90.98%); opacity: 0.82\" title=\"-0.313\">ignore</span><span style=\"opacity: 0.80\">. </span><span style=\"background-color: hsl(120, 100.00%, 95.58%); opacity: 0.81\" title=\"0.113\">presentation</span><span style=\"opacity: 0.80\"> </span><span style=\"background-color: hsl(120, 100.00%, 97.24%); opacity: 0.80\" title=\"0.058\">of</span><span style=\"opacity: 0.80\"> </span><span style=\"background-color: hsl(0, 100.00%, 94.84%); opacity: 0.81\" title=\"-0.141\">extensive</span><span style=\"opacity: 0.80\"> </span><span style=\"background-color: hsl(0, 100.00%, 93.00%); opacity: 0.82\" title=\"-0.218\">and</span><span style=\"opacity: 0.80\"> </span><span style=\"background-color: hsl(0, 100.00%, 95.32%); opacity: 0.81\" title=\"-0.122\">wide</span><span style=\"opacity: 0.80\">-</span><span style=\"background-color: hsl(0, 100.00%, 98.08%); opacity: 0.80\" title=\"-0.034\">ranging</span><span style=\"opacity: 0.80\"> </span><span style=\"background-color: hsl(120, 100.00%, 97.81%); opacity: 0.80\" title=\"0.041\">data</span><span style=\"opacity: 0.80\"> </span><span style=\"background-color: hsl(120, 100.00%, 95.72%); opacity: 0.81\" title=\"0.108\">in</span><span style=\"opacity: 0.80\"> </span><span style=\"background-color: hsl(0, 100.00%, 93.24%); opacity: 0.82\" title=\"-0.207\">a</span><span style=\"opacity: 0.80\"> </span><span style=\"background-color: hsl(0, 100.00%, 94.30%); opacity: 0.81\" title=\"-0.162\">consistent</span><span style=\"opacity: 0.80\"> </span><span style=\"background-color: hsl(120, 100.00%, 98.88%); opacity: 0.80\" title=\"0.016\">and</span><span style=\"opacity: 0.80\"> comprehensive </span><span style=\"background-color: hsl(0, 100.00%, 98.81%); opacity: 0.80\" title=\"-0.017\">framework</span><span style=\"opacity: 0.80\">.</span><span style=\"background-color: hsl(120, 100.00%, 96.80%); opacity: 0.81\" title=\"0.071\">in</span><span style=\"opacity: 0.80\">-</span><span style=\"background-color: hsl(120, 100.00%, 98.03%); opacity: 0.80\" title=\"0.036\">depth</span><span style=\"opacity: 0.80\"> </span><span style=\"background-color: hsl(120, 100.00%, 95.01%); opacity: 0.81\" title=\"0.134\">treatment</span><span style=\"opacity: 0.80\"> </span><span style=\"background-color: hsl(120, 100.00%, 89.95%); opacity: 0.83\" title=\"0.365\">of</span><span style=\"opacity: 0.80\"> </span><span style=\"background-color: hsl(120, 100.00%, 92.33%); opacity: 0.82\" title=\"0.248\">key</span><span style=\"opacity: 0.80\"> </span><span style=\"background-color: hsl(0, 100.00%, 94.94%); opacity: 0.81\" title=\"-0.137\">concepts</span><span style=\"opacity: 0.80\"> </span><span style=\"background-color: hsl(0, 100.00%, 98.36%); opacity: 0.80\" title=\"-0.027\">including</span><span style=\"opacity: 0.80\">: </span><span style=\"background-color: hsl(120, 100.00%, 98.13%); opacity: 0.80\" title=\"0.033\">aggregates</span><span style=\"opacity: 0.80\">, </span><span style=\"background-color: hsl(0, 100.00%, 95.14%); opacity: 0.81\" title=\"-0.129\">autarky</span><span style=\"opacity: 0.80\">, </span><span style=\"background-color: hsl(0, 100.00%, 94.99%); opacity: 0.81\" title=\"-0.135\">closed</span><span style=\"opacity: 0.80\"> </span><span style=\"background-color: hsl(0, 100.00%, 92.97%); opacity: 0.82\" title=\"-0.219\">economies</span><span style=\"opacity: 0.80\">, </span><span style=\"background-color: hsl(0, 100.00%, 95.27%); opacity: 0.81\" title=\"-0.125\">current</span><span style=\"opacity: 0.80\"> </span><span style=\"background-color: hsl(120, 100.00%, 98.70%); opacity: 0.80\" title=\"0.020\">accounts</span><span style=\"opacity: 0.80\">, </span><span style=\"background-color: hsl(0, 100.00%, 97.00%); opacity: 0.80\" title=\"-0.065\">earth</span><span style=\"opacity: 0.80\"> </span><span style=\"background-color: hsl(120, 100.00%, 90.02%); opacity: 0.83\" title=\"0.362\">economics</span><span style=\"opacity: 0.80\">, </span><span style=\"background-color: hsl(0, 100.00%, 86.91%); opacity: 0.84\" title=\"-0.533\">data</span><span style=\"opacity: 0.80\">, </span><span style=\"background-color: hsl(120, 100.00%, 95.33%); opacity: 0.81\" title=\"0.122\">macroeconomics</span><span style=\"opacity: 0.80\">, </span><span style=\"background-color: hsl(0, 100.00%, 92.80%); opacity: 0.82\" title=\"-0.227\">microeconomics</span><span style=\"opacity: 0.80\">, </span><span style=\"background-color: hsl(0, 100.00%, 91.01%); opacity: 0.82\" title=\"-0.312\">development</span><span style=\"opacity: 0.80\"> </span><span style=\"background-color: hsl(0, 100.00%, 93.66%); opacity: 0.81\" title=\"-0.189\">and</span><span style=\"opacity: 0.80\"> </span><span style=\"background-color: hsl(0, 100.00%, 90.89%); opacity: 0.82\" title=\"-0.317\">global</span><span style=\"opacity: 0.80\"> </span><span style=\"background-color: hsl(0, 100.00%, 96.52%); opacity: 0.81\" title=\"-0.080\">public</span><span style=\"opacity: 0.80\"> </span><span style=\"background-color: hsl(0, 100.00%, 95.98%); opacity: 0.81\" title=\"-0.099\">goods</span><span style=\"opacity: 0.80\">. </span><span style=\"background-color: hsl(120, 100.00%, 99.62%); opacity: 0.80\" title=\"0.003\">provision</span><span style=\"opacity: 0.80\"> </span><span style=\"background-color: hsl(120, 100.00%, 95.15%); opacity: 0.81\" title=\"0.129\">of</span><span style=\"opacity: 0.80\"> </span><span style=\"background-color: hsl(120, 100.00%, 92.78%); opacity: 0.82\" title=\"0.228\">a</span><span style=\"opacity: 0.80\"> </span><span style=\"background-color: hsl(120, 100.00%, 92.21%); opacity: 0.82\" title=\"0.254\">thorough</span><span style=\"opacity: 0.80\">, </span><span style=\"background-color: hsl(0, 100.00%, 97.00%); opacity: 0.80\" title=\"-0.065\">working</span><span style=\"opacity: 0.80\"> </span><span style=\"background-color: hsl(0, 100.00%, 97.40%); opacity: 0.80\" title=\"-0.053\">understanding</span><span style=\"opacity: 0.80\"> </span><span style=\"background-color: hsl(120, 100.00%, 98.18%); opacity: 0.80\" title=\"0.032\">of</span><span style=\"opacity: 0.80\"> </span><span style=\"background-color: hsl(120, 100.00%, 99.15%); opacity: 0.80\" title=\"0.011\">the</span><span style=\"opacity: 0.80\"> </span><span style=\"background-color: hsl(0, 100.00%, 94.45%); opacity: 0.81\" title=\"-0.156\">subject</span><span style=\"opacity: 0.80\"> </span><span style=\"background-color: hsl(0, 100.00%, 93.06%); opacity: 0.82\" title=\"-0.215\">matter</span><span style=\"opacity: 0.80\"> </span><span style=\"background-color: hsl(120, 100.00%, 95.09%); opacity: 0.81\" title=\"0.131\">via</span><span style=\"opacity: 0.80\"> </span><span style=\"background-color: hsl(0, 100.00%, 97.27%); opacity: 0.80\" title=\"-0.057\">exercises</span><span style=\"opacity: 0.80\"> </span><span style=\"background-color: hsl(0, 100.00%, 95.04%); opacity: 0.81\" title=\"-0.133\">set</span><span style=\"opacity: 0.80\"> </span><span style=\"background-color: hsl(120, 100.00%, 92.90%); opacity: 0.82\" title=\"0.222\">throughout</span><span style=\"opacity: 0.80\"> </span><span style=\"background-color: hsl(120, 100.00%, 91.28%); opacity: 0.82\" title=\"0.298\">the</span><span style=\"opacity: 0.80\"> </span><span style=\"background-color: hsl(120, 100.00%, 95.02%); opacity: 0.81\" title=\"0.134\">book</span><span style=\"opacity: 0.80\">, </span><span style=\"background-color: hsl(0, 100.00%, 94.60%); opacity: 0.81\" title=\"-0.150\">including</span><span style=\"opacity: 0.80\">: </span><span style=\"background-color: hsl(0, 100.00%, 97.56%); opacity: 0.80\" title=\"-0.048\">questions</span><span style=\"opacity: 0.80\"> </span><span style=\"background-color: hsl(120, 100.00%, 95.71%); opacity: 0.81\" title=\"0.108\">on</span><span style=\"opacity: 0.80\"> </span><span style=\"background-color: hsl(120, 100.00%, 93.56%); opacity: 0.81\" title=\"0.193\">the</span><span style=\"opacity: 0.80\"> </span><span style=\"background-color: hsl(120, 100.00%, 98.30%); opacity: 0.80\" title=\"0.029\">text</span><span style=\"opacity: 0.80\">, </span><span style=\"background-color: hsl(0, 100.00%, 94.28%); opacity: 0.81\" title=\"-0.163\">calculations</span><span style=\"opacity: 0.80\">, </span><span style=\"background-color: hsl(0, 100.00%, 99.75%); opacity: 0.80\" title=\"-0.002\">formulating</span><span style=\"opacity: 0.80\"> </span><span style=\"background-color: hsl(0, 100.00%, 94.17%); opacity: 0.81\" title=\"-0.168\">arguments</span><span style=\"opacity: 0.80\"> </span><span style=\"background-color: hsl(0, 100.00%, 98.02%); opacity: 0.80\" title=\"-0.036\">and</span><span style=\"opacity: 0.80\"> </span><span style=\"background-color: hsl(0, 100.00%, 96.00%); opacity: 0.81\" title=\"-0.098\">preparation</span><span style=\"opacity: 0.80\">, </span><span style=\"background-color: hsl(120, 100.00%, 95.92%); opacity: 0.81\" title=\"0.101\">analysis</span><span style=\"opacity: 0.80\"> </span><span style=\"background-color: hsl(0, 100.00%, 97.02%); opacity: 0.80\" title=\"-0.064\">and</span><span style=\"opacity: 0.80\"> </span><span style=\"background-color: hsl(120, 100.00%, 96.49%); opacity: 0.81\" title=\"0.081\">interpretation</span><span style=\"opacity: 0.80\"> </span><span style=\"background-color: hsl(120, 100.00%, 95.34%); opacity: 0.81\" title=\"0.122\">of</span><span style=\"opacity: 0.80\"> </span><span style=\"background-color: hsl(120, 100.00%, 95.21%); opacity: 0.81\" title=\"0.127\">data</span><span style=\"opacity: 0.80\"> </span><span style=\"background-color: hsl(120, 100.00%, 96.64%); opacity: 0.81\" title=\"0.076\">and</span><span style=\"opacity: 0.80\"> </span><span style=\"background-color: hsl(0, 100.00%, 97.70%); opacity: 0.80\" title=\"-0.044\">figures</span><span style=\"opacity: 0.80\">. see </span><span style=\"background-color: hsl(0, 100.00%, 97.64%); opacity: 0.80\" title=\"-0.046\">the</span><span style=\"opacity: 0.80\"> </span><span style=\"background-color: hsl(120, 100.00%, 94.50%); opacity: 0.81\" title=\"0.154\">companion</span><span style=\"opacity: 0.80\"> </span><span style=\"background-color: hsl(0, 100.00%, 98.96%); opacity: 0.80\" title=\"-0.014\">website</span><span style=\"opacity: 0.80\"> - </span><span style=\"background-color: hsl(0, 100.00%, 90.55%); opacity: 0.83\" title=\"-0.335\">www</span><span style=\"opacity: 0.80\">.</span><span style=\"background-color: hsl(0, 100.00%, 95.47%); opacity: 0.81\" title=\"-0.117\">eartheconomics</span><span style=\"opacity: 0.80\">.</span><span style=\"background-color: hsl(0, 100.00%, 93.91%); opacity: 0.81\" title=\"-0.179\">info</span><span style=\"opacity: 0.80\"> </span><span style=\"background-color: hsl(0, 100.00%, 95.26%); opacity: 0.81\" title=\"-0.125\">for</span><span style=\"opacity: 0.80\"> </span><span style=\"background-color: hsl(120, 100.00%, 91.61%); opacity: 0.82\" title=\"0.282\">updates</span><span style=\"opacity: 0.80\"> </span><span style=\"background-color: hsl(120, 100.00%, 97.55%); opacity: 0.80\" title=\"0.049\">and</span><span style=\"opacity: 0.80\"> </span><span style=\"background-color: hsl(120, 100.00%, 95.88%); opacity: 0.81\" title=\"0.102\">additional</span><span style=\"opacity: 0.80\"> </span><span style=\"background-color: hsl(120, 100.00%, 95.49%); opacity: 0.81\" title=\"0.116\">information</span><span style=\"opacity: 0.80\">.</span>\n",
       "    </p>\n",
       "\n",
       "\n",
       "    \n",
       "\n",
       "    \n",
       "\n",
       "    \n",
       "\n",
       "    \n",
       "\n",
       "\n",
       "    \n",
       "\n",
       "    \n",
       "\n",
       "    \n",
       "\n",
       "    \n",
       "\n",
       "    \n",
       "\n",
       "    \n",
       "\n",
       "\n",
       "    \n",
       "\n",
       "    \n",
       "\n",
       "    \n",
       "\n",
       "    \n",
       "\n",
       "    \n",
       "\n",
       "    \n",
       "\n",
       "\n",
       "\n"
      ],
      "text/plain": [
       "<IPython.core.display.HTML object>"
      ]
     },
     "execution_count": 208,
     "metadata": {},
     "output_type": "execute_result"
    }
   ],
   "source": [
    "predictor.explain(check.text)"
   ]
  },
  {
   "cell_type": "markdown",
   "metadata": {},
   "source": [
    "## Wrong prediction"
   ]
  },
  {
   "cell_type": "code",
   "execution_count": 210,
   "metadata": {},
   "outputs": [],
   "source": [
    "check = val_copy.iloc[830]"
   ]
  },
  {
   "cell_type": "code",
   "execution_count": 211,
   "metadata": {},
   "outputs": [
    {
     "data": {
      "text/plain": [
       "Unnamed: 0                                                    55\n",
       "title                              Ontology and the Semantic Web\n",
       "category                                               Computers\n",
       "description    Covers developments from philosophy, artificia...\n",
       "author                                          Robert M. Colomb\n",
       "rating                                                         1\n",
       "gbooks-link                                                     \n",
       "info-link      http://books.google.com/books?id=4He_zlXkgBMC&...\n",
       "volume-link    https://books.google.com/books/about/Ontology_...\n",
       "isbn                                                 9.78159e+12\n",
       "image          http://books.google.com/books/content?id=4He_z...\n",
       "tag                                          algebra;mathematics\n",
       "text           Ontology and the Semantic Web Robert M. Colomb...\n",
       "Name: 2375, dtype: object"
      ]
     },
     "execution_count": 211,
     "metadata": {},
     "output_type": "execute_result"
    }
   ],
   "source": [
    "check"
   ]
  },
  {
   "cell_type": "markdown",
   "metadata": {},
   "source": [
    "### True tag"
   ]
  },
  {
   "cell_type": "code",
   "execution_count": 212,
   "metadata": {},
   "outputs": [
    {
     "data": {
      "text/plain": [
       "'algebra;mathematics'"
      ]
     },
     "execution_count": 212,
     "metadata": {},
     "output_type": "execute_result"
    }
   ],
   "source": [
    "check.tag"
   ]
  },
  {
   "cell_type": "markdown",
   "metadata": {},
   "source": [
    "### Predicted tag"
   ]
  },
  {
   "cell_type": "code",
   "execution_count": 213,
   "metadata": {},
   "outputs": [
    {
     "data": {
      "text/html": [],
      "text/plain": [
       "<IPython.core.display.HTML object>"
      ]
     },
     "metadata": {},
     "output_type": "display_data"
    },
    {
     "data": {
      "text/plain": [
       "'database;computer-science'"
      ]
     },
     "execution_count": 213,
     "metadata": {},
     "output_type": "execute_result"
    }
   ],
   "source": [
    "predictor.predict(check.text)"
   ]
  },
  {
   "cell_type": "markdown",
   "metadata": {},
   "source": [
    "### Explanation"
   ]
  },
  {
   "cell_type": "code",
   "execution_count": 214,
   "metadata": {},
   "outputs": [
    {
     "data": {
      "text/html": [],
      "text/plain": [
       "<IPython.core.display.HTML object>"
      ]
     },
     "metadata": {},
     "output_type": "display_data"
    },
    {
     "data": {
      "text/html": [],
      "text/plain": [
       "<IPython.core.display.HTML object>"
      ]
     },
     "metadata": {},
     "output_type": "display_data"
    },
    {
     "data": {
      "text/html": [
       "\n",
       "    <style>\n",
       "    table.eli5-weights tr:hover {\n",
       "        filter: brightness(85%);\n",
       "    }\n",
       "</style>\n",
       "\n",
       "\n",
       "\n",
       "    \n",
       "\n",
       "    \n",
       "\n",
       "    \n",
       "\n",
       "    \n",
       "\n",
       "    \n",
       "\n",
       "    \n",
       "\n",
       "\n",
       "    \n",
       "\n",
       "    \n",
       "\n",
       "    \n",
       "\n",
       "    \n",
       "        \n",
       "\n",
       "    \n",
       "\n",
       "        \n",
       "\n",
       "        \n",
       "    \n",
       "        \n",
       "        \n",
       "    \n",
       "        <p style=\"margin-bottom: 0.5em; margin-top: 0em\">\n",
       "            <b>\n",
       "    \n",
       "        y=database;computer-science\n",
       "    \n",
       "</b>\n",
       "\n",
       "    \n",
       "    (probability <b>0.979</b>, score <b>3.804</b>)\n",
       "\n",
       "top features\n",
       "        </p>\n",
       "    \n",
       "    <table class=\"eli5-weights\"\n",
       "           style=\"border-collapse: collapse; border: none; margin-top: 0em; table-layout: auto; margin-bottom: 2em;\">\n",
       "        <thead>\n",
       "        <tr style=\"border: none;\">\n",
       "            \n",
       "                <th style=\"padding: 0 1em 0 0.5em; text-align: right; border: none;\" title=\"Feature contribution already accounts for the feature value (for linear models, contribution = weight * feature value), and the sum of feature contributions is equal to the score or, for some classifiers, to the probability. Feature values are shown if &quot;show_feature_values&quot; is True.\">\n",
       "                    Contribution<sup>?</sup>\n",
       "                </th>\n",
       "            \n",
       "            <th style=\"padding: 0 0.5em 0 0.5em; text-align: left; border: none;\">Feature</th>\n",
       "            \n",
       "        </tr>\n",
       "        </thead>\n",
       "        <tbody>\n",
       "        \n",
       "            <tr style=\"background-color: hsl(120, 100.00%, 80.00%); border: none;\">\n",
       "    <td style=\"padding: 0 1em 0 0.5em; text-align: right; border: none;\">\n",
       "        +4.519\n",
       "    </td>\n",
       "    <td style=\"padding: 0 0.5em 0 0.5em; text-align: left; border: none;\">\n",
       "        Highlighted in text (sum)\n",
       "    </td>\n",
       "    \n",
       "</tr>\n",
       "        \n",
       "        \n",
       "\n",
       "        \n",
       "        \n",
       "            <tr style=\"background-color: hsl(0, 100.00%, 94.50%); border: none;\">\n",
       "    <td style=\"padding: 0 1em 0 0.5em; text-align: right; border: none;\">\n",
       "        -0.714\n",
       "    </td>\n",
       "    <td style=\"padding: 0 0.5em 0 0.5em; text-align: left; border: none;\">\n",
       "        &lt;BIAS&gt;\n",
       "    </td>\n",
       "    \n",
       "</tr>\n",
       "        \n",
       "\n",
       "        </tbody>\n",
       "    </table>\n",
       "\n",
       "    \n",
       "\n",
       "\n",
       "\n",
       "    <p style=\"margin-bottom: 2.5em; margin-top:-0.5em;\">\n",
       "        <span style=\"background-color: hsl(120, 100.00%, 86.78%); opacity: 0.84\" title=\"0.751\">ontology</span><span style=\"opacity: 0.80\"> </span><span style=\"background-color: hsl(120, 100.00%, 93.79%); opacity: 0.81\" title=\"0.256\">and</span><span style=\"opacity: 0.80\"> </span><span style=\"background-color: hsl(0, 100.00%, 93.31%); opacity: 0.82\" title=\"-0.284\">the</span><span style=\"opacity: 0.80\"> </span><span style=\"background-color: hsl(120, 100.00%, 75.51%); opacity: 0.90\" title=\"1.813\">semantic</span><span style=\"opacity: 0.80\"> </span><span style=\"background-color: hsl(120, 100.00%, 60.00%); opacity: 1.00\" title=\"3.655\">web</span><span style=\"opacity: 0.80\"> </span><span style=\"background-color: hsl(120, 100.00%, 91.20%); opacity: 0.82\" title=\"0.420\">robert</span><span style=\"opacity: 0.80\"> </span><span style=\"background-color: hsl(0, 100.00%, 91.23%); opacity: 0.82\" title=\"-0.418\">m</span><span style=\"opacity: 0.80\">. </span><span style=\"background-color: hsl(0, 100.00%, 97.76%); opacity: 0.80\" title=\"-0.060\">colomb</span><span style=\"opacity: 0.80\"> </span><span style=\"background-color: hsl(0, 100.00%, 96.99%); opacity: 0.80\" title=\"-0.091\">covers</span><span style=\"opacity: 0.80\"> </span><span style=\"background-color: hsl(0, 100.00%, 98.20%); opacity: 0.80\" title=\"-0.044\">developments</span><span style=\"opacity: 0.80\"> </span><span style=\"background-color: hsl(0, 100.00%, 96.37%); opacity: 0.81\" title=\"-0.118\">from</span><span style=\"opacity: 0.80\"> </span><span style=\"background-color: hsl(0, 100.00%, 97.76%); opacity: 0.80\" title=\"-0.060\">philosophy</span><span style=\"opacity: 0.80\">, </span><span style=\"background-color: hsl(0, 100.00%, 76.26%); opacity: 0.89\" title=\"-1.734\">artificial</span><span style=\"opacity: 0.80\"> </span><span style=\"background-color: hsl(0, 100.00%, 70.88%); opacity: 0.93\" title=\"-2.323\">intelligence</span><span style=\"opacity: 0.80\"> </span><span style=\"background-color: hsl(120, 100.00%, 93.42%); opacity: 0.82\" title=\"0.277\">and</span><span style=\"opacity: 0.80\"> </span><span style=\"background-color: hsl(120, 100.00%, 91.04%); opacity: 0.82\" title=\"0.431\">information</span><span style=\"opacity: 0.80\"> </span><span style=\"background-color: hsl(120, 100.00%, 93.08%); opacity: 0.82\" title=\"0.298\">systems</span><span style=\"opacity: 0.80\"> </span><span style=\"background-color: hsl(0, 100.00%, 96.07%); opacity: 0.81\" title=\"-0.133\">to</span><span style=\"opacity: 0.80\"> </span><span style=\"background-color: hsl(0, 100.00%, 93.83%); opacity: 0.81\" title=\"-0.253\">formulate</span><span style=\"opacity: 0.80\"> </span><span style=\"background-color: hsl(0, 100.00%, 97.36%); opacity: 0.80\" title=\"-0.075\">a</span><span style=\"opacity: 0.80\"> </span><span style=\"background-color: hsl(120, 100.00%, 98.17%); opacity: 0.80\" title=\"0.045\">collection</span><span style=\"opacity: 0.80\"> </span><span style=\"background-color: hsl(120, 100.00%, 92.67%); opacity: 0.82\" title=\"0.324\">of</span><span style=\"opacity: 0.80\"> </span><span style=\"background-color: hsl(120, 100.00%, 86.51%); opacity: 0.84\" title=\"0.774\">functional</span><span style=\"opacity: 0.80\"> </span><span style=\"background-color: hsl(120, 100.00%, 97.11%); opacity: 0.80\" title=\"0.086\">requirements</span><span style=\"opacity: 0.80\"> </span><span style=\"background-color: hsl(120, 100.00%, 97.63%); opacity: 0.80\" title=\"0.065\">for</span><span style=\"opacity: 0.80\"> </span><span style=\"background-color: hsl(120, 100.00%, 88.85%); opacity: 0.83\" title=\"0.589\">ontology</span><span style=\"opacity: 0.80\"> </span><span style=\"background-color: hsl(120, 100.00%, 91.03%); opacity: 0.82\" title=\"0.432\">development</span><span style=\"opacity: 0.80\">. </span><span style=\"background-color: hsl(120, 100.00%, 97.26%); opacity: 0.80\" title=\"0.079\">this</span><span style=\"opacity: 0.80\"> </span><span style=\"background-color: hsl(0, 100.00%, 97.04%); opacity: 0.80\" title=\"-0.089\">book</span><span style=\"opacity: 0.80\"> </span><span style=\"background-color: hsl(120, 100.00%, 98.65%); opacity: 0.80\" title=\"0.029\">looks</span><span style=\"opacity: 0.80\"> </span><span style=\"background-color: hsl(0, 100.00%, 94.50%); opacity: 0.81\" title=\"-0.215\">at</span><span style=\"opacity: 0.80\"> several </span><span style=\"background-color: hsl(120, 100.00%, 95.49%); opacity: 0.81\" title=\"0.162\">ontology</span><span style=\"opacity: 0.80\"> </span><span style=\"background-color: hsl(0, 100.00%, 96.05%); opacity: 0.81\" title=\"-0.134\">representation</span><span style=\"opacity: 0.80\"> </span><span style=\"background-color: hsl(120, 100.00%, 93.84%); opacity: 0.81\" title=\"0.253\">languages</span><span style=\"opacity: 0.80\"> </span><span style=\"background-color: hsl(120, 100.00%, 95.43%); opacity: 0.81\" title=\"0.165\">to</span><span style=\"opacity: 0.80\"> </span><span style=\"background-color: hsl(0, 100.00%, 96.35%); opacity: 0.81\" title=\"-0.120\">show</span><span style=\"opacity: 0.80\"> </span><span style=\"background-color: hsl(0, 100.00%, 92.73%); opacity: 0.82\" title=\"-0.320\">how</span><span style=\"opacity: 0.80\"> </span><span style=\"background-color: hsl(120, 100.00%, 98.17%); opacity: 0.80\" title=\"0.045\">they</span><span style=\"opacity: 0.80\"> </span><span style=\"background-color: hsl(120, 100.00%, 94.23%); opacity: 0.81\" title=\"0.230\">support</span><span style=\"opacity: 0.80\"> </span><span style=\"background-color: hsl(0, 100.00%, 96.06%); opacity: 0.81\" title=\"-0.134\">the</span><span style=\"opacity: 0.80\"> </span><span style=\"background-color: hsl(120, 100.00%, 88.70%); opacity: 0.83\" title=\"0.600\">functional</span><span style=\"opacity: 0.80\"> </span><span style=\"background-color: hsl(120, 100.00%, 94.66%); opacity: 0.81\" title=\"0.206\">requirements</span><span style=\"opacity: 0.80\">, </span><span style=\"background-color: hsl(120, 100.00%, 96.65%); opacity: 0.81\" title=\"0.106\">what</span><span style=\"opacity: 0.80\"> </span><span style=\"background-color: hsl(0, 100.00%, 96.49%); opacity: 0.81\" title=\"-0.113\">deficiencies</span><span style=\"opacity: 0.80\"> </span><span style=\"background-color: hsl(120, 100.00%, 99.77%); opacity: 0.80\" title=\"0.002\">there</span><span style=\"opacity: 0.80\"> </span><span style=\"background-color: hsl(120, 100.00%, 94.42%); opacity: 0.81\" title=\"0.219\">are</span><span style=\"opacity: 0.80\">, </span><span style=\"background-color: hsl(120, 100.00%, 94.56%); opacity: 0.81\" title=\"0.212\">and</span><span style=\"opacity: 0.80\"> </span><span style=\"background-color: hsl(120, 100.00%, 96.34%); opacity: 0.81\" title=\"0.120\">how</span><span style=\"opacity: 0.80\"> </span><span style=\"background-color: hsl(0, 100.00%, 97.15%); opacity: 0.80\" title=\"-0.084\">they</span><span style=\"opacity: 0.80\"> </span><span style=\"background-color: hsl(0, 100.00%, 96.72%); opacity: 0.81\" title=\"-0.103\">relate</span><span style=\"opacity: 0.80\"> </span><span style=\"background-color: hsl(0, 100.00%, 94.35%); opacity: 0.81\" title=\"-0.223\">to</span><span style=\"opacity: 0.80\"> </span><span style=\"background-color: hsl(120, 100.00%, 98.32%); opacity: 0.80\" title=\"0.039\">each</span><span style=\"opacity: 0.80\"> </span><span style=\"background-color: hsl(120, 100.00%, 96.81%); opacity: 0.81\" title=\"0.099\">other</span><span style=\"opacity: 0.80\">.</span>\n",
       "    </p>\n",
       "\n",
       "\n",
       "    \n",
       "\n",
       "    \n",
       "\n",
       "    \n",
       "\n",
       "    \n",
       "\n",
       "\n",
       "    \n",
       "\n",
       "    \n",
       "\n",
       "    \n",
       "\n",
       "    \n",
       "\n",
       "    \n",
       "\n",
       "    \n",
       "\n",
       "\n",
       "    \n",
       "\n",
       "    \n",
       "\n",
       "    \n",
       "\n",
       "    \n",
       "\n",
       "    \n",
       "\n",
       "    \n",
       "\n",
       "\n",
       "\n"
      ],
      "text/plain": [
       "<IPython.core.display.HTML object>"
      ]
     },
     "execution_count": 214,
     "metadata": {},
     "output_type": "execute_result"
    }
   ],
   "source": [
    "predictor.explain(check.text)"
   ]
  },
  {
   "cell_type": "markdown",
   "metadata": {},
   "source": [
    "# Save Model"
   ]
  },
  {
   "cell_type": "code",
   "execution_count": 216,
   "metadata": {},
   "outputs": [],
   "source": [
    "predictor.save('model')"
   ]
  }
 ],
 "metadata": {
  "kernelspec": {
   "display_name": "Python 3",
   "language": "python",
   "name": "python3"
  },
  "language_info": {
   "codemirror_mode": {
    "name": "ipython",
    "version": 3
   },
   "file_extension": ".py",
   "mimetype": "text/x-python",
   "name": "python",
   "nbconvert_exporter": "python",
   "pygments_lexer": "ipython3",
   "version": "3.6.9"
  }
 },
 "nbformat": 4,
 "nbformat_minor": 4
}
