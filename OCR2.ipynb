{
 "cells": [
  {
   "cell_type": "code",
   "execution_count": 1,
   "metadata": {},
   "outputs": [],
   "source": [
    "import cv2\n",
    "import copy\n",
    "import pytesseract\n",
    "import tempfile\n",
    "from pytesseract import Output"
   ]
  },
  {
   "cell_type": "markdown",
   "metadata": {},
   "source": [
    "* see parameters of pytesseract like for hindi language\n",
    "* accuracy"
   ]
  },
  {
   "cell_type": "markdown",
   "metadata": {},
   "source": [
    "# Input Image"
   ]
  },
  {
   "cell_type": "code",
   "execution_count": 2,
   "metadata": {},
   "outputs": [],
   "source": [
    "img_path = 'images.jpeg'"
   ]
  },
  {
   "cell_type": "code",
   "execution_count": 3,
   "metadata": {},
   "outputs": [],
   "source": [
    "# read image\n",
    "im = cv2.imread(img_path)\n",
    "im = cv2.resize(im,(800,900))\n",
    "org = cv2.imread(img_path)\n",
    "org = cv2.resize(im,(800,900))"
   ]
  },
  {
   "cell_type": "markdown",
   "metadata": {},
   "source": [
    "# Image Preprocessing"
   ]
  },
  {
   "cell_type": "code",
   "execution_count": 4,
   "metadata": {},
   "outputs": [],
   "source": [
    "# gray scale\n",
    "def gray(img):\n",
    "    img = cv2.cvtColor(img, cv2.COLOR_BGR2GRAY)\n",
    "    cv2.imwrite(r\"./preprocess/img_gray.png\",img)\n",
    "    return img\n",
    "\n",
    "# blur\n",
    "def blur(img) :\n",
    "    img_blur = cv2.GaussianBlur(img,(5,5),0)\n",
    "    cv2.imwrite(r\"./preprocess/img_blur.png\",img)    \n",
    "    return img_blur\n",
    "\n",
    "# threshold\n",
    "def threshold(img):\n",
    "    #pixels with value below 100 are turned black (0) and those with higher value are turned white (255)\n",
    "    img = cv2.threshold(img, 100, 255, cv2.THRESH_OTSU | cv2.THRESH_BINARY)[1]    \n",
    "    cv2.imwrite(r\"./preprocess/img_threshold.png\",img)\n",
    "    return img"
   ]
  },
  {
   "cell_type": "code",
   "execution_count": 5,
   "metadata": {},
   "outputs": [],
   "source": [
    "def show_image(img):\n",
    "    cv2.imshow('img', img)\n",
    "    cv2.waitKey(0)\n",
    "    cv2.destroyAllWindows()         "
   ]
  },
  {
   "cell_type": "code",
   "execution_count": 6,
   "metadata": {},
   "outputs": [],
   "source": [
    "im = gray(im)\n",
    "im = blur(im)\n",
    "im = threshold(im)\n",
    "# contours, _ = cv2.findContours(im_thresh, cv2.RETR_EXTERNAL, cv2.CHAIN_APPROX_NONE) "
   ]
  },
  {
   "cell_type": "code",
   "execution_count": 7,
   "metadata": {},
   "outputs": [],
   "source": [
    "# show_image(im)"
   ]
  },
  {
   "cell_type": "markdown",
   "metadata": {},
   "source": [
    "# Merge Bounding Boxes"
   ]
  },
  {
   "cell_type": "code",
   "execution_count": 8,
   "metadata": {},
   "outputs": [],
   "source": [
    "#Distance definition  between text to be merge\n",
    "dist_limit = 50\n",
    "\n",
    "#Generate two text boxes a larger one that covers them\n",
    "def merge_boxes(box1, box2):\n",
    "    return [min(box1[0], box2[0]), \n",
    "         min(box1[1], box2[1]), \n",
    "         max(box1[2], box2[2]),\n",
    "         max(box1[3], box2[3])]\n",
    "\n",
    "def check(point_x,point_y,mat):\n",
    "    mat_ymin, mat_xmin, mat_ymax, mat_xmax = mat\n",
    "    if(point_x >= mat_xmin and point_x <= mat_xmax):\n",
    "        if(point_y >= mat_ymin and point_y <= mat_ymax):\n",
    "            return True\n",
    "    return False\n",
    "\n",
    "def check_overlap(mat1,mat2):\n",
    "    mat1_ymin, mat1_xmin, mat1_ymax, mat1_xmax = mat1\n",
    "    mat2_ymin, mat2_xmin, mat2_ymax, mat2_xmax = mat2\n",
    "    flag1 = check(mat1_xmin,mat1_ymin,mat2) or check(mat1_xmax,mat1_ymax,mat2) or check(mat1_xmin,mat1_ymax,mat2) or check(mat1_xmax,mat1_ymin,mat2)\n",
    "    flag2 = check(mat2_xmin,mat2_ymin,mat1) or check(mat2_xmax,mat2_ymax,mat1) or check(mat2_xmin,mat2_ymax,mat1) or check(mat2_xmax,mat2_ymin,mat1)\n",
    "    return flag1 or flag2\n",
    "\n",
    "#Computer a Matrix similarity of distances of the text and object\n",
    "def calc_sim(text, obj):\n",
    "    # text: ymin, xmin, ymax, xmax\n",
    "    # obj: ymin, xmin, ymax, xmax\n",
    "    text_ymin, text_xmin, text_ymax, text_xmax = text\n",
    "    obj_ymin, obj_xmin, obj_ymax, obj_xmax = obj\n",
    "\n",
    "    x_dist = min(abs(text_xmin-obj_xmin), abs(text_xmin-obj_xmax), abs(text_xmax-obj_xmin), abs(text_xmax-obj_xmax))\n",
    "    y_dist = min(abs(text_ymin-obj_ymin), abs(text_ymin-obj_ymax), abs(text_ymax-obj_ymin), abs(text_ymax-obj_ymax))\n",
    "\n",
    "    dist = x_dist + y_dist\n",
    "#     print(x_dist,y_dist)\n",
    "    if(dist <= dist_limit):\n",
    "        return True\n",
    "    return check_overlap(text,obj)\n",
    "\n",
    "#Principal algorithm for merge text \n",
    "def merge_algo(texts, texts_boxes):\n",
    "    for i, (text_1, text_box_1) in enumerate(zip(texts, texts_boxes)):\n",
    "        for j, (text_2, text_box_2) in enumerate(zip(texts, texts_boxes)):\n",
    "            if j <= i:\n",
    "                continue\n",
    "            # Create a new box if a distances is less than disctance limit defined \n",
    "            if calc_sim(text_box_1, text_box_2):\n",
    "            # Create a new box  \n",
    "                new_box = merge_boxes(text_box_1, text_box_2)            \n",
    "             # Create a new text string \n",
    "                new_text = text_1 + ' ' + text_2\n",
    "                print(new_text)\n",
    "                texts[i] = new_text\n",
    "                #delete previous text \n",
    "                del texts[j]\n",
    "                texts_boxes[i] = new_box\n",
    "                #delete previous text boxes\n",
    "                del texts_boxes[j]\n",
    "                #return a new boxes and new text string that are close\n",
    "                return True, texts, texts_boxes\n",
    "\n",
    "    return False, texts, texts_boxes\n",
    "\n",
    "\n",
    "def merge(texts,texts_boxes):\n",
    "    #Copy of the text and object arrays\n",
    "    texts_copied = copy.deepcopy(texts)\n",
    "    texts_boxes_copied = copy.deepcopy(texts_boxes)\n",
    "    need_to_merge = True\n",
    "    #Merge full text \n",
    "    while need_to_merge:\n",
    "        need_to_merge, texts_copied, texts_boxes_copied = merge_algo(texts_copied, texts_boxes_copied)\n",
    "    return texts_copied,texts_boxes_copied"
   ]
  },
  {
   "cell_type": "markdown",
   "metadata": {},
   "source": [
    "# OCR"
   ]
  },
  {
   "cell_type": "code",
   "execution_count": 9,
   "metadata": {},
   "outputs": [],
   "source": [
    "def simple_ocr(img):\n",
    "    d = pytesseract.image_to_data(img, output_type=Output.DICT)\n",
    "    org_cpy = copy.deepcopy(org)\n",
    "    print(d)\n",
    "    n_boxes = len(d['text'])\n",
    "    for i in range(n_boxes):\n",
    "        if(d['text'][i] == '' or d['text'][i].isspace()):\n",
    "            continue\n",
    "        if int(d['conf'][i]) > 0:\n",
    "            (x, y, w, h) = (d['left'][i], d['top'][i], d['width'][i], d['height'][i])\n",
    "            img = cv2.rectangle(org_cpy, (x, y), (x + w, y + h), (0, 255, 0), 2)\n",
    "\n",
    "    cv2.imshow('img', img)\n",
    "    cv2.waitKey(0)\n",
    "    cv2.destroyAllWindows()         "
   ]
  },
  {
   "cell_type": "code",
   "execution_count": 10,
   "metadata": {},
   "outputs": [],
   "source": [
    "def ocr(img):\n",
    "    d = pytesseract.image_to_data(img, output_type=Output.DICT)\n",
    "    n_boxes = len(d['text'])\n",
    "    texts = []\n",
    "    texts_boxes = []\n",
    "        \n",
    "    for i in range(n_boxes):\n",
    "        if(d['text'][i] == '' or d['text'][i].isspace()):\n",
    "            continue\n",
    "        if int(d['conf'][i]) > 60:\n",
    "            (x, y, w, h) = (d['left'][i], d['top'][i], d['width'][i], d['height'][i])\n",
    "            cord = [y,x,y+h,x+w]\n",
    "            texts.append(d['text'][i])\n",
    "            texts_boxes.append(cord)\n",
    "              \n",
    "    new_texts,new_texts_boxes = merge(texts,texts_boxes)\n",
    "#     print(new_texts)\n",
    "#     print(new_texts_boxes)\n",
    "    return new_texts,new_texts_boxes"
   ]
  },
  {
   "cell_type": "code",
   "execution_count": 11,
   "metadata": {},
   "outputs": [],
   "source": [
    "def plot(text,text_boxes):\n",
    "    n_boxes = len(text)\n",
    "    org_cpy = copy.deepcopy(org)\n",
    "    flag = 0\n",
    "    for i in range(n_boxes):\n",
    "        (y1, x1, y2, x2) = text_boxes[i]\n",
    "        print(text[i])\n",
    "        print(text_boxes[i])\n",
    "        flag = 1\n",
    "        img = cv2.rectangle(org_cpy, (x1, y1), (x2, y2), (0, 255, 0), 2)\n",
    "    \n",
    "    if flag == 1:\n",
    "        cv2.imshow('img', img)\n",
    "        cv2.waitKey(0)\n",
    "        cv2.destroyAllWindows()         "
   ]
  },
  {
   "cell_type": "code",
   "execution_count": null,
   "metadata": {},
   "outputs": [],
   "source": [
    "# simple_ocr(im)"
   ]
  },
  {
   "cell_type": "code",
   "execution_count": 13,
   "metadata": {},
   "outputs": [],
   "source": [
    "texts,texts_boxes = ocr(im)"
   ]
  },
  {
   "cell_type": "code",
   "execution_count": 14,
   "metadata": {},
   "outputs": [],
   "source": [
    "plot(texts,texts_boxes)"
   ]
  },
  {
   "cell_type": "code",
   "execution_count": null,
   "metadata": {},
   "outputs": [],
   "source": []
  }
 ],
 "metadata": {
  "kernelspec": {
   "display_name": "Python 3",
   "language": "python",
   "name": "python3"
  },
  "language_info": {
   "codemirror_mode": {
    "name": "ipython",
    "version": 3
   },
   "file_extension": ".py",
   "mimetype": "text/x-python",
   "name": "python",
   "nbconvert_exporter": "python",
   "pygments_lexer": "ipython3",
   "version": "3.6.9"
  }
 },
 "nbformat": 4,
 "nbformat_minor": 4
}
