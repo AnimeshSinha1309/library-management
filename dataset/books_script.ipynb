{
 "cells": [
  {
   "cell_type": "markdown",
   "metadata": {},
   "source": [
    "# Fetch books using google api"
   ]
  },
  {
   "cell_type": "code",
   "execution_count": 14,
   "metadata": {},
   "outputs": [],
   "source": [
    "import requests\n",
    "import json\n",
    "import os"
   ]
  },
  {
   "cell_type": "code",
   "execution_count": 15,
   "metadata": {},
   "outputs": [
    {
     "data": {
      "text/plain": [
       "['Computers & Technology',\n",
       " 'Business & Investing',\n",
       " 'Art, Music & Photography',\n",
       " 'Science & Math',\n",
       " 'Literature & Fiction',\n",
       " 'Comics & Graphics Novels']"
      ]
     },
     "execution_count": 15,
     "metadata": {},
     "output_type": "execute_result"
    }
   ],
   "source": [
    "api = 'https://www.googleapis.com/books/v1/volumes'\n",
    "base_folder = './topics'\n",
    "os.listdir(base_folder)"
   ]
  },
  {
   "cell_type": "code",
   "execution_count": 16,
   "metadata": {},
   "outputs": [],
   "source": [
    "folder = base_folder + '/Computers & Technology'\n",
    "catg = ['Apple', 'CAD', 'Certification', 'Computer Science', 'Databases', 'Desktop Publishing', 'E-Commerce', 'Graphic Design', 'Internet & Social Media', 'Microsoft', 'Networking', 'Operating System', 'Phones & Tablets', 'Programming', 'Software', 'Video Games', 'Web Design', 'Web Development']"
   ]
  },
  {
   "cell_type": "code",
   "execution_count": 17,
   "metadata": {},
   "outputs": [],
   "source": [
    "def fetch(subject, file, q=0, folder=folder, loop=3):\n",
    "    arr = []\n",
    "    api = 'https://www.googleapis.com/books/v1/volumes'\n",
    "    for l in range(loop):\n",
    "        if not q:\n",
    "            url = api + '?q=subject:' + subject + '&langRestrict=en&startIndex=' + str(l * 40) + '&maxResults=40'\n",
    "        else:\n",
    "            url = api + '?q=' + subject + '&langRestrict=en&startIndex=' + str(l * 40) + '&maxResults=40'\n",
    "        res = requests.get(url).json()\n",
    "        if not res['totalItems']:\n",
    "            break\n",
    "        arr += res['items']\n",
    "        if len(res['items']) < 40:\n",
    "            break\n",
    "    if len(arr):\n",
    "        print(len(arr))\n",
    "        with open(folder + '/' + file + '.json', 'w') as f:\n",
    "            json.dump(arr, f)"
   ]
  },
  {
   "cell_type": "code",
   "execution_count": 18,
   "metadata": {},
   "outputs": [
    {
     "name": "stdout",
     "output_type": "stream",
     "text": [
      "Web Development\n"
     ]
    }
   ],
   "source": [
    "file = catg[17]\n",
    "print(file)\n",
    "subject = file + '+computers'"
   ]
  },
  {
   "cell_type": "code",
   "execution_count": 19,
   "metadata": {
    "scrolled": true
   },
   "outputs": [
    {
     "name": "stdout",
     "output_type": "stream",
     "text": [
      "3284\n",
      "title:Multimedia Web Design and Development\n",
      "category: ['Computers']\n",
      "description: This book/DVD package introduces the necessary steps and stages of planning a modern multimedia Web site. It includes both the design and development aspects for novices and a complete plan to get you\n",
      "\n",
      "title:Human Computer Interaction Research in Web Design and Evaluation\n",
      "category: ['Computers']\n",
      "description: \"This is a comprehensive book on Human Computer Interaction and Web design focusing on various areas of research including theories, analysis, design and evaluation. It is not a book on web programmin\n",
      "\n",
      "title:PHP and MySQL Web Development\n",
      "category: ['Computers']\n",
      "description: Explains how to access and create MySQL databases through PHP scripting, including authentication, network connectivity, session management, and content customization.\n",
      "\n",
      "title:Node.js Web Development\n",
      "category: ['Computers']\n",
      "description: Create real-time server-side applications with this practical, step-by-step guide About This Book Learn about server-side JavaScript with Node.js and Node modules through the most up-to-date book on N\n",
      "\n",
      "title:User-centered Web Development\n",
      "category: ['Computers']\n",
      "description: Frequently, Web sites are designed without considering the needs of the users. as a result, The Web site often fails to fulfill its intended purpose. User-Centered Web Development guides readers throu\n",
      "\n",
      "title:Learn Web Development with Python\n",
      "category: ['Computers']\n",
      "description: A comprehensive guide to Python programming for web development using the most popular Python web framework - Django Key Features Learn the fundamentals of programming with Python and building web app\n",
      "\n",
      "title:Flask Web Development\n",
      "category: ['Computers']\n",
      "description: Take full creative control of your web applications with Flask, the Python-based microframework. With the second edition of this hands-on book, you’ll learn the framework from the ground up by develop\n",
      "\n",
      "title:Java Web Development Illuminated\n",
      "category: ['Computers']\n",
      "description: This text introduces students to the concepts of building Web-distributed applications and helps develop the necessary skills through numerous examples, projects, case studies and hands-on examples.\n",
      "\n",
      "title:Dynamic Web Development\n",
      "category: ['Technology & Engineering']\n",
      "description: This book presents a theoretical as well as practical approach to the Dynamic Web Development. It is intended to provide the readers not only with a good understanding of all the components of ASP pro\n",
      "\n",
      "title:Web Development with Go\n",
      "category: ['Computers']\n",
      "description: Take a deep dive into web development using the Go programming language to build web apps and RESTful services to create reliable and efficient software. Web Development with Go provides Go language f\n",
      "\n",
      "title:Learning Web Design\n",
      "category: ['Computers']\n",
      "description: Do you want to build web pages, but have no previous experience? This friendly guide is the perfect place to start. You’ll begin at square one, learning how the Web and web pages work, and then steadi\n",
      "\n",
      "title:Learning Web Design\n",
      "category: ['Computers']\n",
      "description: Do you want to build web pages but have no prior experience? This friendly guide is the perfect place to start. You’ll begin at square one, learning how the web and web pages work, and then steadily b\n",
      "\n",
      "title:Cross-Disciplinary Advances in Human Computer Interaction: User Modeling, Social Computing, and Adaptive Interfaces\n",
      "category: ['Business & Economics']\n",
      "description: \"This book develops new models and methodologies for describing user behavior, analyzing their needs and expectations and thus successfully designing user friendly systems\"--Provided by publisher.\n",
      "\n",
      "title:Getting a Web Development Job For Dummies\n",
      "category: ['Computers']\n",
      "description: Craving a career in web dev? Chart your path with this helpful guide Getting a Web Development Job For Dummies provides a roadmap to one of the \"hot jobs\" in the booming world of tech. The web develop\n",
      "\n",
      "title:MEAN Web Development\n",
      "category: ['Computers']\n",
      "description: If you are a web or a full-stack JavaScript developer who is interested in learning how to build modern web applications using the MEAN stack, this book is for you.\n",
      "\n",
      "title:Advanced Web Development with React\n",
      "category: ['Computers']\n",
      "description: Level up your React and Next.js skills with advanced concepts about SSR and PWA DESCRIPTION The book starts by introducing the reader to React, what it is and why you need a library like React to work\n",
      "\n",
      "title:KnockoutJS Web Development\n",
      "category: ['Computers']\n",
      "description: This book is for web developers and designers who work with HTML and JavaScript to help them manage data and interactivity with data using KnockoutJS. Knowledge about jQuery will be useful but is not \n",
      "\n",
      "title:Web Development with Clojure\n",
      "category: ['Computers']\n",
      "description: Today, developers are increasingly adopting Clojure as a web-development platform. See for yourself what makes Clojure so desirable, as you create a series of web apps of growing complexity, exploring\n",
      "\n",
      "title:JavaScript for Modern Web Development\n",
      "category: ['Computers']\n",
      "description: Beginner to Expert in Web development with JavaScript: From HTML to React-Redux KEY FEATURES - Acquire web development skills to build independent applications - Understand the basics of HTML, CSS, Ja\n",
      "\n",
      "title:Handbook of Human Factors in Web Design, Second Edition\n",
      "category: ['Technology & Engineering']\n",
      "description: The Handbook of Human Factors in Web Design covers basic human factors issues relating to screen design, input devices, and information organization and processing, as well as addresses newer features\n",
      "\n",
      "title:Full Stack Web Development with Raspberry Pi 3\n",
      "category: ['Computers']\n",
      "description: Discover how to build full stack web applications with the Raspberry Pi 3 About This Book Leverage JavaScript, HTML5, and Cloud APIs to create visual representations and interactive web pages. Learn t\n",
      "\n",
      "title:Web Coding & Development All-in-One For Dummies\n",
      "category: ['Computers']\n",
      "description: Speak the languages that power the web With more high-paying web development jobs opening every day, people with coding and web/app building skills are having no problems finding employment. If you’re\n",
      "\n",
      "title:Beginning PHP, Apache, MySQL Web Development\n",
      "category: ['Computers']\n",
      "description: What is this book about? PHP, Apache, and MySQL are the three key open source technologies that form the basis for most active Web servers. This book takes you step-by-step through understanding each \n",
      "\n",
      "title:Web Design and Development with Google Apps Script\n",
      "category: ['Computers']\n",
      "description: \"Web Design and Development with Google Apps Script\" consists of step-by-step guides on how to configure and develop websites and applications with Google Apps Script. These websites do not require tr\n",
      "\n",
      "title:Web Development with Node and Express\n",
      "category: ['Computers']\n",
      "description: Learn how to build dynamic web applications with Express, a key component of the Node/JavaScript development stack. In this hands-on guide, author Ethan Brown teaches you the fundamentals through the \n",
      "\n",
      "title:Web Technologies: A Computer Science Perspective\n",
      "\n",
      "title:Web Development with ReasonML\n",
      "category: ['Computers']\n",
      "description: ReasonML is a new, type-safe, functional language that compiles to efficient, readable JavaScript. ReasonML interoperates with existing JavaScript libraries and works especially well with React, one o\n",
      "\n",
      "title:Web Development with JavaScript and Ajax Illuminated\n",
      "category: ['Computers']\n",
      "description: Web Development with JavaScript and Ajax Illuminated provides readers with the cutting-edge techniques needed for web development in Web 2.0. It is ideal for the undergraduate student delving into the\n",
      "\n",
      "title:Internet & Web Design\n",
      "\n",
      "title:Dynamic Web Programming and HTML5\n",
      "category: ['Computers']\n",
      "description: With organizations and individuals increasingly dependent on the Web, the need for competent, well-trained Web developers and maintainers is growing. Helping readers master Web development, Dynamic We\n",
      "\n",
      "title:Functional Web Development with Elixir, OTP, and Phoenix\n",
      "category: ['Computers']\n",
      "description: Elixir and Phoenix are generating tremendous excitement as an unbeatable platform for building modern web applications. For decades OTP has helped developers create incredibly robust, scalable applica\n",
      "\n",
      "title:Agile Web Development with Rails 5\n",
      "category: ['Computers']\n",
      "description: Rails 5 and Ruby 2.2 bring many improvements, including new APIs and substantial performance enhancements, and the fifth edition of this award-winning classic is now updated! If you're new to Rails, y\n",
      "\n",
      "title:Sustainable Web Ecosystem Design\n",
      "category: ['Computers']\n",
      "description: This book is about the process of creating web-based systems (i.e., websites, content, etc.) that consider each of the parts, the modules, the organisms – binary or otherwise – that make up a balanced\n",
      "\n",
      "title:Web Development with Angular and Bootstrap\n",
      "category: ['Computers']\n",
      "description: Combine the power of Angular, Bootstrap 4, FlexLayout, and Angular Material Design to build elegant user interfaces Key Features Learn to combine Angular 6 with Bootstrap 4 to design highly intuitive \n",
      "\n",
      "title:ASP.NET and VB.NET Web Programming\n",
      "\n",
      "title:Agile Web Development with Rails 6\n",
      "category: ['Computers']\n",
      "description: Learn Rails the way the Rails core team recommends it, along with the tens of thousands of developers who have used this broad, far-reaching tutorial and reference. If you're new to Rails, you'll get \n",
      "\n",
      "title:Web Development with Django Cookbook\n",
      "category: ['Computers']\n",
      "description: If you have created websites with Django, but you want to sharpen your knowledge and learn some good approaches for how to treat different aspects of web development, you should definitely read this b\n",
      "\n",
      "title:Introduction to Web Development Using HTML 5\n",
      "category: ['Computers']\n",
      "description: The HTML 5 Web Development book provides a hands-on experience that allows first-time Web-site developers to create their first Web pages and experienced developers to quickly master HTML 5. The book \n",
      "\n",
      "title:PHP 6 Fast & Easy Web Development\n",
      "category: ['Computers']\n",
      "description: Learn to create Web pages quickly and easily with PHP—no prior programming experience required! PHP 6 Fast & Easy Web Development provides a step-by-step, learn-by-example path to learning through eas\n",
      "\n",
      "title:Advanced JavaScript\n",
      "category: ['Computers']\n",
      "description: Gain a deeper understanding of JavaScript and apply it to build small applications in backend, frontend, and mobile frameworks. Key Features Explore the new ES6 syntax, the event loop, and asynchronou\n",
      "\n"
     ]
    }
   ],
   "source": [
    "# url = 'https://www.googleapis.com/books/v1/volumes?q=subject:' +subject + '&langRestrict=en&maxResults=40'\n",
    "url = 'https://www.googleapis.com/books/v1/volumes?q=' +subject + '&langRestrict=en&maxResults=40'\n",
    "res = requests.get(url).json()\n",
    "print(res['totalItems'])\n",
    "if res['totalItems']:\n",
    "    res = res['items']\n",
    "    for i in range(0, min(40, len(res))):\n",
    "        print('title:' + res[i]['volumeInfo']['title'])\n",
    "        if 'categories' in res[i]['volumeInfo']:\n",
    "            print('category: ' + str(res[i]['volumeInfo']['categories']))\n",
    "        if 'description' in res[i]['volumeInfo']:\n",
    "            print('description: ' + res[i]['volumeInfo']['description'][:200])\n",
    "        print()"
   ]
  },
  {
   "cell_type": "markdown",
   "metadata": {},
   "source": [
    "## Fetch Function"
   ]
  },
  {
   "cell_type": "code",
   "execution_count": 196,
   "metadata": {},
   "outputs": [
    {
     "name": "stdout",
     "output_type": "stream",
     "text": [
      "120\n"
     ]
    }
   ],
   "source": [
    "fetch(subject, file, q=0, loop=3)"
   ]
  },
  {
   "cell_type": "markdown",
   "metadata": {},
   "source": [
    "## Fetching Manually"
   ]
  },
  {
   "cell_type": "code",
   "execution_count": 186,
   "metadata": {},
   "outputs": [
    {
     "data": {
      "text/plain": [
       "17"
      ]
     },
     "execution_count": 186,
     "metadata": {},
     "output_type": "execute_result"
    }
   ],
   "source": [
    "arr = []\n",
    "url = api + '?q=subject:' + subject + '&langRestrict=en&startIndex=0&maxResults=40'\n",
    "# url = api + '?q=' + subject + '&langRestrict=en&startIndex=0&maxResults=40'\n",
    "res = requests.get(url).json()\n",
    "arr += res['items']\n",
    "len(arr)"
   ]
  },
  {
   "cell_type": "code",
   "execution_count": 189,
   "metadata": {},
   "outputs": [
    {
     "data": {
      "text/plain": [
       "97"
      ]
     },
     "execution_count": 189,
     "metadata": {},
     "output_type": "execute_result"
    }
   ],
   "source": [
    "# url = api + '?q=subject:' + subject + '&langRestrict=en&startIndex=40&maxResults=40'\n",
    "url = api + '?q=' + subject + '&langRestrict=en&startIndex=40&maxResults=40'\n",
    "res = requests.get(url).json()\n",
    "arr += res['items']\n",
    "len(arr)"
   ]
  },
  {
   "cell_type": "code",
   "execution_count": 116,
   "metadata": {},
   "outputs": [
    {
     "data": {
      "text/plain": [
       "120"
      ]
     },
     "execution_count": 116,
     "metadata": {},
     "output_type": "execute_result"
    }
   ],
   "source": [
    "# url = api + '?q=subject:' + subject + '&langRestrict=en&startIndex=80&maxResults=40'\n",
    "url = api + '?q=' + subject + '&langRestrict=en&startIndex=80&maxResults=40'\n",
    "res = requests.get(url).json()\n",
    "arr += res['items']\n",
    "len(arr)"
   ]
  },
  {
   "cell_type": "code",
   "execution_count": 190,
   "metadata": {},
   "outputs": [],
   "source": [
    "with open(folder + '/' + file + '.json', 'w') as f:\n",
    "    json.dump(arr, f)"
   ]
  },
  {
   "cell_type": "markdown",
   "metadata": {},
   "source": [
    "# Json to CSV"
   ]
  },
  {
   "cell_type": "code",
   "execution_count": 7,
   "metadata": {},
   "outputs": [],
   "source": [
    "import os\n",
    "import json\n",
    "import csv\n",
    "\n",
    "base_folder = './topics'\n",
    "book_list = []\n",
    "\n",
    "label = 0\n",
    "\n",
    "for folder in os.listdir(base_folder):\n",
    "    folder_path = os.path.join(base_folder, folder)\n",
    "    for file in os.listdir(folder_path):\n",
    "        file_path = os.path.join(folder_path, file)\n",
    "        with open(file_path) as f:\n",
    "            books = json.load(f)\n",
    "            for book in books:\n",
    "                book = book['volumeInfo']\n",
    "                title = book['title'] if 'title' in book else \"\"\n",
    "                description = book['description'] if 'description' in book else \"\"\n",
    "                if 'authors' in book:\n",
    "                    authors = ''\n",
    "                    for author in book['authors']:\n",
    "                        authors += author + \", \"\n",
    "                    authors = authors.strip(', ')\n",
    "                else:\n",
    "                    authors = ''\n",
    "                text = title + \" \" + authors + \" \" + description\n",
    "                text = text.strip(' ')\n",
    "                book_list.append({'label': label, 'category': folder, 'subcategory': file.split('.')[0], 'text': text })\n",
    "        label += 1\n",
    "\n",
    "with open('book_dataset.csv', 'w') as f:\n",
    "    w = csv.DictWriter(f, book_list[0].keys())\n",
    "    w.writeheader()\n",
    "    w.writerows(book_list)"
   ]
  },
  {
   "cell_type": "code",
   "execution_count": null,
   "metadata": {},
   "outputs": [],
   "source": []
  }
 ],
 "metadata": {
  "kernelspec": {
   "display_name": "Python (cvit)",
   "language": "python",
   "name": "cvit"
  },
  "language_info": {
   "codemirror_mode": {
    "name": "ipython",
    "version": 3
   },
   "file_extension": ".py",
   "mimetype": "text/x-python",
   "name": "python",
   "nbconvert_exporter": "python",
   "pygments_lexer": "ipython3",
   "version": "3.7.7"
  }
 },
 "nbformat": 4,
 "nbformat_minor": 4
}
