{
 "cells": [
  {
   "cell_type": "markdown",
   "metadata": {},
   "source": [
    "# Fetch books using google api"
   ]
  },
  {
   "cell_type": "code",
   "execution_count": 1,
   "metadata": {},
   "outputs": [],
   "source": [
    "import requests\n",
    "import json\n",
    "import os"
   ]
  },
  {
   "cell_type": "code",
   "execution_count": 84,
   "metadata": {},
   "outputs": [
    {
     "data": {
      "text/plain": [
       "['Business & Investing',\n",
       " 'Crafts & Hobbies',\n",
       " 'Art, Music & Photography',\n",
       " 'Home & Garden',\n",
       " 'True Crime',\n",
       " 'History',\n",
       " 'Computers & Technology',\n",
       " 'Travel',\n",
       " 'Kids',\n",
       " 'Biographies & Memoirs',\n",
       " 'Horror',\n",
       " 'Biology',\n",
       " 'Comics & Graphics Novels']"
      ]
     },
     "execution_count": 84,
     "metadata": {},
     "output_type": "execute_result"
    }
   ],
   "source": [
    "api = 'https://www.googleapis.com/books/v1/volumes'\n",
    "base_folder = './topics'\n",
    "os.listdir(base_folder)"
   ]
  },
  {
   "cell_type": "code",
   "execution_count": 113,
   "metadata": {},
   "outputs": [],
   "source": [
    "dir = 'Teen'\n",
    "folder = base_folder + '/' + dir\n",
    "if dir not in os.listdir(base_folder):\n",
    "    os.mkdir(folder) \n",
    "catg = ['Fantasy','Fiction','Hobbies','Horror','Romance','Sci-Fi','Social Issues','Mystery & Thriller']"
   ]
  },
  {
   "cell_type": "code",
   "execution_count": 24,
   "metadata": {},
   "outputs": [],
   "source": [
    "def fetch(subject, file, q=0, folder=folder, loop=3):\n",
    "    arr = []\n",
    "    api = 'https://www.googleapis.com/books/v1/volumes'\n",
    "    for l in range(loop):\n",
    "        if not q:\n",
    "            url = api + '?q=subject:' + subject + '&langRestrict=en&startIndex=' + str(l * 40) + '&maxResults=40'\n",
    "        else:\n",
    "            url = api + '?q=' + subject + '&langRestrict=en&startIndex=' + str(l * 40) + '&maxResults=40'\n",
    "        res = requests.get(url).json()\n",
    "        if not res['totalItems']:\n",
    "            break\n",
    "        arr += res['items']\n",
    "        if len(res['items']) < 40:\n",
    "            break\n",
    "    if len(arr):\n",
    "        print(len(arr))\n",
    "        with open(folder + '/' + file + '.json', 'w') as f:\n",
    "            json.dump(arr, f)"
   ]
  },
  {
   "cell_type": "code",
   "execution_count": 128,
   "metadata": {},
   "outputs": [
    {
     "name": "stdout",
     "output_type": "stream",
     "text": [
      "Hobbies\n"
     ]
    }
   ],
   "source": [
    "file = catg[2]\n",
    "print(file)\n",
    "subject = file"
   ]
  },
  {
   "cell_type": "code",
   "execution_count": 129,
   "metadata": {
    "scrolled": true
   },
   "outputs": [
    {
     "name": "stdout",
     "output_type": "stream",
     "text": [
      "3442\n",
      "title:Hobbies\n",
      "category: ['Social Science']\n",
      "description: Whether it's needlepoint or woodworking, collecting stamps or dolls, everyone has a hobby, or is told they need one. But why do we fill our leisure time with the activities we do? And what do our hobb\n",
      "\n",
      "title:Historical Hobbies for the Pharmacist\n",
      "category: ['Drug packaging industry']\n",
      "\n",
      "title:Hobbies\n",
      "category: ['Collectors and collecting']\n",
      "\n",
      "title:Hobbies Through Children's Books and Activities\n",
      "category: ['Crafts & Hobbies']\n",
      "description: This book offers reading and activity suggestions for introducing students to hobbies and potential career interests. Each of 30 chapters focuses on a different hobby, including bird-watching, canine \n",
      "\n",
      "title:America's Oddest Hobbies\n",
      "category: ['Juvenile Nonfiction']\n",
      "description: Leisure time is for people do anything they want, but sometimes their interests are really freaky. While some people like to read books and others play board games with their families, many hobbies ar\n",
      "\n",
      "title:Hobbies For Retirees\n",
      "category: ['Crafts & Hobbies']\n",
      "description: Make your retirement years a time of relaxation and enjoyment. Gardening, a hobby that interests many retirees can be made even more interesting by planting by the phases of the moon. It seems to be a\n",
      "\n",
      "title:Bunnies and Their Hobbies\n",
      "category: ['Juvenile Fiction']\n",
      "description: After a long day at work, bunnies come home, change their clothes, eat dinner, and do the dishes. Then it's time for bunnies and their hobbies. Young children will gleefully recognize the unlikely sim\n",
      "\n",
      "title:Money for Hobbies\n",
      "category: ['Juvenile Nonfiction']\n",
      "description: Money Matters! In this math-based title young readers are introduced to Emily and follow her decisions about spending and saving Money for Hobbies. Concepts such as price, quantity, quality, and value\n",
      "\n",
      "title:Hobbies and Activities for Children\n",
      "category: ['Juvenile Nonfiction']\n",
      "description: Have you ever tried to keep a couple of children busy during school vacation or on weekends when they’re in the “I’m bored” mode? What ever you might suggest is shot down, and they just get under your\n",
      "\n",
      "title:The Good Husband's Guide to Balancing Hobbies and Marriage\n",
      "description: Avid hunter Steve Chapman (\"A\" \"Look at Life from a Deer Stand--\"200,000 copies sold) enthusiastically pursues a lifelong hobby while remaining passionate about his wife and home. Knowing the perils o\n",
      "\n",
      "title:Your Book Of Hobbies\n",
      "\n",
      "title:Sports & Hobbies Word Search\n",
      "category: ['Juvenile Nonfiction']\n",
      "description: Did you know that baseball was invented around 1865? That ice hockey has been referred to as the fastest team sport on Earth? That you can learn all about different sports while enjoying the challenge\n",
      "\n",
      "title:Woodworking Cabinetry (REA's Hobbies Crafts Series)\n",
      "\n",
      "title:Leathercraft Weaving (REA's Hobbies Crafts Series)\n",
      "\n",
      "title:Jewelry Making and Other Easy Past Time Craft Hobbies (incl Parachord)\n",
      "category: ['Crafts & Hobbies']\n",
      "description: What are the benefits of jewelry making Jewelry making is a lovely way to pass the time, and it is also a good choice when you want to foster a sense of creativity within yourself. People have worn je\n",
      "\n",
      "title:Hobbies for Everybody\n",
      "category: ['Collectors and collecting']\n",
      "\n",
      "title:The Book of Hobbies Or a Guide to Happiness\n",
      "category: ['Crafts & Hobbies']\n",
      "description: 1924. Contents: Mount Your Hobby; Collecting Prints; Radio; Philately; Angling; Book Collecting; China and Porcelain; Antique Furniture; A Word About Golf; Fireside Hobbies; Hobbyist's Workshop; Photo\n",
      "\n",
      "title:Astronomy as a Hobby\n",
      "category: ['Crafts & Hobbies']\n",
      "description: Besides the excitement of astronomy, another reason it makes a great hobby is that it’s easy and cheap to get started. Unlike skiing, for example, all you must just start enjoying astronomy is the nig\n",
      "\n",
      "title:Comprehensive Reading & Writing in English XII\n",
      "\n",
      "title:Every Boy's Book of Hobbies\n",
      "category: ['Crafts & Hobbies']\n",
      "description: Originally published in the early 1900s, this book evokes memories of the halcyon time of boyhood in an era where a boy's hobby played a large part in the development of his character. 'A man or a boy\n",
      "\n",
      "title:The Book of Nature Hobbies\n",
      "category: ['Hobbies']\n",
      "\n",
      "title:Norman Smith’s Hobbies\n",
      "category: ['Fiction']\n",
      "description: Who is Norman Smith and why on earth are we reading about his latest impulsive hobby? Why is he under investigation? Are the characters he interacts with real people or merely figments of the author’s\n",
      "\n",
      "title:Every Girl's Book of Hobbies\n",
      "category: ['Amusements']\n",
      "\n",
      "title:The Book of Hobbies\n",
      "category: ['Amusements']\n",
      "\n",
      "title:Every Boy's Book of Hobbies\n",
      "category: ['Amusements']\n",
      "\n",
      "title:The Golden Book of Crafts and Hobbies\n",
      "category: ['Handicraft']\n",
      "description: A book containing many projects for boys and girls. It is well illustrated with clear drawings.\n",
      "\n",
      "title:How to Sell Toys and Hobbies on EBay\n",
      "category: ['Business & Economics']\n",
      "description: Make a bundle selling toys Set yourself apart in a catgory with nearly a million items for sale with this insider's guide to turning dolls into dollars. Attract both buyers who collect toys and those \n",
      "\n",
      "title:Hobbies For Men\n",
      "description: Revised for 2019. Now with 108 hobbies for manly men. GREAT GIFT UNDER 10 DOLLARS With black and white pictures in the print edition and reduced price A hobby gives a man freedom to pursue his passion\n",
      "\n",
      "title:Refuse to Choose!\n",
      "category: ['Self-Help']\n",
      "description: Don't know what to do with your life? Drawn to so many things that you can't choose just one? New York Times best-selling author Barbara Sher has the answer--do EVERYTHING! With her popular career cou\n",
      "\n",
      "title:Hobbies Small Wood Projects\n",
      "category: ['Crafts & Hobbies']\n",
      "description: DIY: carpentry & woodworking.\n",
      "\n",
      "title:The Big Book of Hobby Ideas\n",
      "description: Need a new hobby? Looking for a hobby that's more than something to \"pass the time,\" but rather a potential pathway to find your passion and higher purpose in life? The Big Book of Hobby Ideas: Hundre\n",
      "\n",
      "title:Hobbies Annual\n",
      "category: ['Crafts & Hobbies']\n",
      "description: From 1895, 'Hobbies Weekly' brought much-needed practical advice and inspiration to bespectacled boys in V-neck pullovers, young ladies in sensible shoes and their pipe-smoking parents (of both sexes)\n",
      "\n",
      "title:Happy Hobbies and Other Stories\n",
      "category: [\"Children's stories\"]\n",
      "description: Felicity Wishes has lots of adventures and three fantastic friends to share them with This book includes three stories: 'Dreamy Drawings', 'Happy Hobbies' and 'Magical Makeover'.\n",
      "\n",
      "title:Haunts and Hobbies of an Indian Official\n",
      "category: ['Animals']\n",
      "\n",
      "title:Choosing Your Retirement Hobby\n",
      "category: ['Aged']\n",
      "\n",
      "title:Hotel Hobbies\n",
      "category: ['Humor']\n",
      "description: Don't endure another boring hotel stay again! Everything you need to know to keep yourself amused without running up an embarrassingly expensive cable bill or getting arrested can be found in this boo\n",
      "\n",
      "title:Everybody's Book of Hobbies\n",
      "category: ['Crafts & Hobbies']\n",
      "description: “Everybody's Book of Hobbies” contains information on almost every conceivable hobby, providing descriptions, suggestions, instructions, and more for each treated. From basket weaving to bee keeping, \n",
      "\n",
      "title:Handicrafts and Hobbies for Pleasure and Profit\n",
      "description: Additional Contributors Include Gordon K. Zern, Isabelle Stevenson, Frederick Drimmer And Others.\n",
      "\n",
      "title:The Australian Boys Book of Crafts, Pets, Sports and Hobbies\n",
      "category: ['Hobbies']\n",
      "\n",
      "title:Reader's Digest Crafts & Hobbies\n",
      "category: ['Crafts & Hobbies']\n",
      "description: An introduction to over forty crafts, with easy-to-understand instructions providing novices with professional help in creating inventive objects\n",
      "\n"
     ]
    }
   ],
   "source": [
    "# url = 'https://www.googleapis.com/books/v1/volumes?q=subject:' +subject + '&langRestrict=en&maxResults=40'\n",
    "url = 'https://www.googleapis.com/books/v1/volumes?q=' +subject + '&langRestrict=en&maxResults=40'\n",
    "res = requests.get(url).json()\n",
    "print(res['totalItems'])\n",
    "if res['totalItems']:\n",
    "    res = res['items']\n",
    "    for i in range(0, min(40, len(res))):\n",
    "        print('title:' + res[i]['volumeInfo']['title'])\n",
    "        if 'categories' in res[i]['volumeInfo']:\n",
    "            print('category: ' + str(res[i]['volumeInfo']['categories']))\n",
    "        if 'description' in res[i]['volumeInfo']:\n",
    "            print('description: ' + res[i]['volumeInfo']['description'][:200])\n",
    "        print()"
   ]
  },
  {
   "cell_type": "markdown",
   "metadata": {},
   "source": [
    "## Fetch Function"
   ]
  },
  {
   "cell_type": "code",
   "execution_count": 41,
   "metadata": {},
   "outputs": [
    {
     "name": "stdout",
     "output_type": "stream",
     "text": [
      "12\n"
     ]
    }
   ],
   "source": [
    "fetch(subject, file, q=0, loop=3)"
   ]
  },
  {
   "cell_type": "markdown",
   "metadata": {},
   "source": [
    "## Fetching Manually"
   ]
  },
  {
   "cell_type": "code",
   "execution_count": 130,
   "metadata": {},
   "outputs": [
    {
     "data": {
      "text/plain": [
       "40"
      ]
     },
     "execution_count": 130,
     "metadata": {},
     "output_type": "execute_result"
    }
   ],
   "source": [
    "arr = []\n",
    "# url = api + '?q=subject:' + subject + '&langRestrict=en&startIndex=0&maxResults=40'\n",
    "url = api + '?q=' + subject + '&langRestrict=en&startIndex=0&maxResults=40'\n",
    "res = requests.get(url).json()\n",
    "arr += res['items']\n",
    "len(arr)"
   ]
  },
  {
   "cell_type": "code",
   "execution_count": 131,
   "metadata": {},
   "outputs": [
    {
     "data": {
      "text/plain": [
       "80"
      ]
     },
     "execution_count": 131,
     "metadata": {},
     "output_type": "execute_result"
    }
   ],
   "source": [
    "# url = api + '?q=subject:' + subject + '&langRestrict=en&startIndex=40&maxResults=40'\n",
    "url = api + '?q=' + subject + '&langRestrict=en&startIndex=40&maxResults=40'\n",
    "res = requests.get(url).json()\n",
    "arr += res['items']\n",
    "len(arr)"
   ]
  },
  {
   "cell_type": "code",
   "execution_count": 132,
   "metadata": {},
   "outputs": [
    {
     "data": {
      "text/plain": [
       "120"
      ]
     },
     "execution_count": 132,
     "metadata": {},
     "output_type": "execute_result"
    }
   ],
   "source": [
    "# url = api + '?q=subject:' + subject + '&langRestrict=en&startIndex=80&maxResults=40'\n",
    "url = api + '?q=' + subject + '&langRestrict=en&startIndex=80&maxResults=40'\n",
    "res = requests.get(url).json()\n",
    "arr += res['items']\n",
    "len(arr)"
   ]
  },
  {
   "cell_type": "code",
   "execution_count": 133,
   "metadata": {},
   "outputs": [],
   "source": [
    "with open(folder + '/' + file + '.json', 'w') as f:\n",
    "    json.dump(arr, f)"
   ]
  },
  {
   "cell_type": "markdown",
   "metadata": {},
   "source": [
    "# Json to CSV"
   ]
  },
  {
   "cell_type": "code",
   "execution_count": 7,
   "metadata": {},
   "outputs": [],
   "source": [
    "import os\n",
    "import json\n",
    "import csv\n",
    "\n",
    "base_folder = './topics'\n",
    "book_list = []\n",
    "\n",
    "label = 0\n",
    "\n",
    "for folder in os.listdir(base_folder):\n",
    "    folder_path = os.path.join(base_folder, folder)\n",
    "    for file in os.listdir(folder_path):\n",
    "        file_path = os.path.join(folder_path, file)\n",
    "        with open(file_path) as f:\n",
    "            books = json.load(f)\n",
    "            for book in books:\n",
    "                book = book['volumeInfo']\n",
    "                title = book['title'] if 'title' in book else \"\"\n",
    "                description = book['description'] if 'description' in book else \"\"\n",
    "                if 'authors' in book:\n",
    "                    authors = ''\n",
    "                    for author in book['authors']:\n",
    "                        authors += author + \", \"\n",
    "                    authors = authors.strip(', ')\n",
    "                else:\n",
    "                    authors = ''\n",
    "                text = title + \" \" + authors + \" \" + description\n",
    "                text = text.strip(' ')\n",
    "                book_list.append({'label': label, 'category': folder + ' ' + file.split('.')[0], 'text': text })\n",
    "        label += 1\n",
    "\n",
    "with open('book_dataset.csv', 'w') as f:\n",
    "    w = csv.DictWriter(f, book_list[0].keys())\n",
    "    w.writeheader()\n",
    "    w.writerows(book_list)"
   ]
  },
  {
   "cell_type": "code",
   "execution_count": null,
   "metadata": {},
   "outputs": [],
   "source": []
  }
 ],
 "metadata": {
  "kernelspec": {
   "display_name": "Python 3",
   "language": "python",
   "name": "python3"
  },
  "language_info": {
   "codemirror_mode": {
    "name": "ipython",
    "version": 3
   },
   "file_extension": ".py",
   "mimetype": "text/x-python",
   "name": "python",
   "nbconvert_exporter": "python",
   "pygments_lexer": "ipython3",
   "version": "3.6.9"
  }
 },
 "nbformat": 4,
 "nbformat_minor": 4
}
