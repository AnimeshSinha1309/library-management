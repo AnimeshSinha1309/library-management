{
 "cells": [
  {
   "cell_type": "markdown",
   "metadata": {},
   "source": [
    "# Fetch books using google api"
   ]
  },
  {
   "cell_type": "code",
   "execution_count": 173,
   "metadata": {},
   "outputs": [],
   "source": [
    "import requests\n",
    "import json\n",
    "import os"
   ]
  },
  {
   "cell_type": "code",
   "execution_count": 84,
   "metadata": {},
   "outputs": [
    {
     "data": {
      "text/plain": [
       "['Business & Investing',\n",
       " 'Crafts & Hobbies',\n",
       " 'Art, Music & Photography',\n",
       " 'Home & Garden',\n",
       " 'True Crime',\n",
       " 'History',\n",
       " 'Computers & Technology',\n",
       " 'Travel',\n",
       " 'Kids',\n",
       " 'Biographies & Memoirs',\n",
       " 'Horror',\n",
       " 'Biology',\n",
       " 'Comics & Graphics Novels']"
      ]
     },
     "execution_count": 84,
     "metadata": {},
     "output_type": "execute_result"
    }
   ],
   "source": [
    "api = 'https://www.googleapis.com/books/v1/volumes'\n",
    "base_folder = './topics'\n",
    "os.listdir(base_folder)"
   ]
  },
  {
   "cell_type": "code",
   "execution_count": 175,
   "metadata": {},
   "outputs": [],
   "source": [
    "dir = 'Sports & Outdoors'\n",
    "folder = base_folder + '/' + dir\n",
    "if dir not in os.listdir(base_folder):\n",
    "    os.mkdir(folder) \n",
    "catg = ['BasketBall','Camping','Football','Golf','Hockey','Olympics','Soccer','Martial Arts','Boating','Baseball']"
   ]
  },
  {
   "cell_type": "code",
   "execution_count": 24,
   "metadata": {},
   "outputs": [],
   "source": [
    "def fetch(subject, file, q=0, folder=folder, loop=3):\n",
    "    arr = []\n",
    "    api = 'https://www.googleapis.com/books/v1/volumes'\n",
    "    for l in range(loop):\n",
    "        if not q:\n",
    "            url = api + '?q=subject:' + subject + '&langRestrict=en&startIndex=' + str(l * 40) + '&maxResults=40'\n",
    "        else:\n",
    "            url = api + '?q=' + subject + '&langRestrict=en&startIndex=' + str(l * 40) + '&maxResults=40'\n",
    "        res = requests.get(url).json()\n",
    "        if not res['totalItems']:\n",
    "            break\n",
    "        arr += res['items']\n",
    "        if len(res['items']) < 40:\n",
    "            break\n",
    "    if len(arr):\n",
    "        print(len(arr))\n",
    "        with open(folder + '/' + file + '.json', 'w') as f:\n",
    "            json.dump(arr, f)"
   ]
  },
  {
   "cell_type": "code",
   "execution_count": 233,
   "metadata": {},
   "outputs": [
    {
     "name": "stdout",
     "output_type": "stream",
     "text": [
      "Boating\n"
     ]
    }
   ],
   "source": [
    "file = catg[8]\n",
    "print(file)\n",
    "subject = file"
   ]
  },
  {
   "cell_type": "code",
   "execution_count": 234,
   "metadata": {
    "scrolled": true
   },
   "outputs": [
    {
     "name": "stdout",
     "output_type": "stream",
     "text": [
      "1968\n",
      "title:Boating\n",
      "\n",
      "title:Boating Life\n",
      "\n",
      "title:Boating\n",
      "\n",
      "title:Boating\n",
      "category: ['Boats and boating']\n",
      "\n",
      "title:Boat-Building and Boating\n",
      "category: ['Sports & Recreation']\n",
      "description: This practical handbook is perfect for beginners with minimal skills in the art of boat-building. It's also a valuable guide for scouts, campers, and outdoors enthusiasts. From simple rafts to powered\n",
      "\n",
      "title:Atlantic Boating Almanacs\n",
      "category: ['Reference']\n",
      "description: The Atlantic Boating Almanac consists of five regional volumes, the Pacific Boating Almanac consists of three volumes, and there is one volume that covers the Gulf of Mexico (there are seven in all in\n",
      "\n",
      "title:A Boaters Guide to Boating\n",
      "category: ['Boats and boating']\n",
      "\n",
      "title:Boating\n",
      "\n",
      "title:Sailing with Scoundrels and Kings\n",
      "category: ['Sports & Recreation']\n",
      "description: Hop aboard for a wild sail across the oceans of the world with John Jourdane. This book chronicles 45 years of John's life sailing with oceans of the world. Travel from sailing sabots in California to\n",
      "\n",
      "title:Boating\n",
      "category: ['Juvenile Nonfiction']\n",
      "description: Examines various recreational uses of boats, including kayaking, canoeing, sailing, and whitewater rafting, and stresses the importance of water rules and safety.\n",
      "\n",
      "title:Mexico Boating Guide\n",
      "category: ['Boats and boating']\n",
      "description: This book and its text, charts, illustrations and photos are to be used for planning and reference purposes only. They are specifically not to be used for navigation. The text has been prepared, based\n",
      "\n",
      "title:Recreational Boating\n",
      "category: ['Boats and boating']\n",
      "\n",
      "title:Yellowstone National Park Boating Regulations\n",
      "category: ['Boats and boating']\n",
      "\n",
      "title:Boating for Beginners\n",
      "category: [\"Noah's ark\"]\n",
      "description: \"Do you understand the meaning of life?\" asked Gloria. She knew that everyone sought this mysterious meaning because it was in all the magazines. Every month there was an article on how to be fulfille\n",
      "\n",
      "title:Disability Access Guidelines for Recreational Boating Facilities\n",
      "category: ['Aquatic sports facilities']\n",
      "\n",
      "title:Recreational Boating Safety\n",
      "category: ['Boating accidents']\n",
      "\n",
      "title:Boating Almanac 1993\n",
      "\n",
      "title:Recreational Boating Safety\n",
      "category: ['Boating accidents']\n",
      "\n",
      "title:The Best of Fishing, Hunting, Camping, and Boating in Missouri\n",
      "category: ['Sports & Recreation']\n",
      "description: An avid outdoorsman shares his expert advice on four outdoor nature activities available in Missouri, providing practical tips and entertaining anecdotes about his favorite pastimes--fishing, hunting,\n",
      "\n",
      "title:Boater's Pocket Reference\n",
      "category: ['Boats and boating']\n",
      "description: 800 pages, 435 illustrations, 94 photographs, index. Handy, fact-filled new boating guide offers, how-to-do-it information and reference facts, figures, formulas, graphs, and tables about boating in a\n",
      "\n",
      "title:ABCs of California Boating Law\n",
      "category: ['Boats and boating']\n",
      "\n",
      "title:The Land of the Dragon\n",
      "category: ['Castles']\n",
      "\n",
      "title:The Compleat Cruiser\n",
      "category: ['Sports & Recreation']\n",
      "description: Famed yacht designer and author L. Francis Herreshoff takes us on family style cruises in American waters, during which all sorts of boats and boating skills are explained while they are used. He tell\n",
      "\n",
      "title:Reflection on America's Great Loop\n",
      "category: ['Travel']\n",
      "description: Adventure is not just for the young! Though \"I own a boat!\" was the opening phrase to their courtship and eventual married life, little did \"Baby Boomer\" couple, George and Pat Hospodar, know then tha\n",
      "\n",
      "title:Boating\n",
      "\n",
      "title:Boating\n",
      "\n",
      "title:Chapman Boating Etiquette\n",
      "category: ['Sports & Recreation']\n",
      "description: An updated rule book for boaters of all levels discusses proper harbor, dockside, radio, and race course etiquette and includes chapters on guests, boat maintenance, yacht clubs, and daily shipboard r\n",
      "\n",
      "title:Boating\n",
      "\n",
      "title:Boating\n",
      "\n",
      "title:Boating\n",
      "\n",
      "title:Boating\n",
      "category: ['Juvenile Nonfiction']\n",
      "description: Easy-to-read text, full-color photos, and captivating graphics introduce the sport of boating. Topics include boating activities, types of boats, safety, rules, and etiquette. Basic boat parts are dis\n",
      "\n",
      "title:Boating\n",
      "category: ['Transportation']\n",
      "description: In diesem einzigartigen Werk, welches 1888 erstmalig erschien, sind alle wichtigen und notwendigen Informationen enthalten, die ein Segler und Seemann wissen muss. Auch heute noch handelt es sich bei \n",
      "\n",
      "title:Boating Skills and Seamanship, 14th Edition\n",
      "category: ['Reference']\n",
      "description: Provides a guide to boating, including such topics as knot tying, using charts, radio communications, equipping a powerboat, and engine maintenance.\n",
      "\n",
      "title:Boating Skills and Seamanship (EBOOK)\n",
      "category: ['Sports & Recreation']\n",
      "description: Learn the essentials of seamanship from one of the world’s premier boating organizations Developed and refined through 35 years of Coast Guard Auxiliary training courses, Boating Skills and Seamanship\n",
      "\n",
      "title:Boating Safety\n",
      "\n",
      "title:Report of the Interim Boating Committee, Submitted to the 1959 Legislature\n",
      "category: ['Boats and boating']\n",
      "\n",
      "title:Assessing Effects on Water Quality by Boating Activity. --\n",
      "category: ['Boats and boating']\n",
      "\n",
      "title:Luncheon of the Boating Party\n",
      "category: ['Fiction']\n",
      "description: From the bestelling author of GIRL IN HYACINTH BLUE, \"A vivid exploration of one of the most beloved Renoir paintings in the world, done with a flourish worthy of Renoir himself\" (USA Today) With her \n",
      "\n",
      "title:Green Boating\n",
      "category: ['Business & Economics']\n",
      "description: The coastal and archipelago areas in the Baltic Sea are popular destinations for a number of tourists. An important group of tourists is boaters, who visit the coastal areas during a short summer peri\n",
      "\n",
      "title:Pacific Boating Almanac 2004\n",
      "category: ['Sports & Recreation']\n",
      "\n"
     ]
    }
   ],
   "source": [
    "# url = 'https://www.googleapis.com/books/v1/volumes?q=subject:' +subject + '&langRestrict=en&maxResults=40'\n",
    "url = 'https://www.googleapis.com/books/v1/volumes?q=' +subject + '&langRestrict=en&maxResults=40'\n",
    "res = requests.get(url).json()\n",
    "print(res['totalItems'])\n",
    "if res['totalItems']:\n",
    "    res = res['items']\n",
    "    for i in range(0, min(40, len(res))):\n",
    "        print('title:' + res[i]['volumeInfo']['title'])\n",
    "        if 'categories' in res[i]['volumeInfo']:\n",
    "            print('category: ' + str(res[i]['volumeInfo']['categories']))\n",
    "        if 'description' in res[i]['volumeInfo']:\n",
    "            print('description: ' + res[i]['volumeInfo']['description'][:200])\n",
    "        print()"
   ]
  },
  {
   "cell_type": "markdown",
   "metadata": {},
   "source": [
    "## Fetch Function"
   ]
  },
  {
   "cell_type": "code",
   "execution_count": 187,
   "metadata": {},
   "outputs": [
    {
     "name": "stdout",
     "output_type": "stream",
     "text": [
      "120\n"
     ]
    }
   ],
   "source": [
    "fetch(subject, file, q=0, loop=3)"
   ]
  },
  {
   "cell_type": "markdown",
   "metadata": {},
   "source": [
    "## Fetching Manually"
   ]
  },
  {
   "cell_type": "code",
   "execution_count": 229,
   "metadata": {},
   "outputs": [
    {
     "data": {
      "text/plain": [
       "40"
      ]
     },
     "execution_count": 229,
     "metadata": {},
     "output_type": "execute_result"
    }
   ],
   "source": [
    "arr = []\n",
    "# url = api + '?q=subject:' + subject + '&langRestrict=en&startIndex=0&maxResults=40'\n",
    "url = api + '?q=' + subject + '&langRestrict=en&startIndex=0&maxResults=40'\n",
    "res = requests.get(url).json()\n",
    "arr += res['items']\n",
    "len(arr)"
   ]
  },
  {
   "cell_type": "code",
   "execution_count": 230,
   "metadata": {},
   "outputs": [
    {
     "data": {
      "text/plain": [
       "80"
      ]
     },
     "execution_count": 230,
     "metadata": {},
     "output_type": "execute_result"
    }
   ],
   "source": [
    "# url = api + '?q=subject:' + subject + '&langRestrict=en&startIndex=40&maxResults=40'\n",
    "url = api + '?q=' + subject + '&langRestrict=en&startIndex=40&maxResults=40'\n",
    "res = requests.get(url).json()\n",
    "arr += res['items']\n",
    "len(arr)"
   ]
  },
  {
   "cell_type": "code",
   "execution_count": 231,
   "metadata": {},
   "outputs": [
    {
     "data": {
      "text/plain": [
       "120"
      ]
     },
     "execution_count": 231,
     "metadata": {},
     "output_type": "execute_result"
    }
   ],
   "source": [
    "# url = api + '?q=subject:' + subject + '&langRestrict=en&startIndex=80&maxResults=40'\n",
    "url = api + '?q=' + subject + '&langRestrict=en&startIndex=80&maxResults=40'\n",
    "res = requests.get(url).json()\n",
    "arr += res['items']\n",
    "len(arr)"
   ]
  },
  {
   "cell_type": "code",
   "execution_count": 232,
   "metadata": {},
   "outputs": [],
   "source": [
    "with open(folder + '/' + file + '.json', 'w') as f:\n",
    "    json.dump(arr, f)"
   ]
  },
  {
   "cell_type": "markdown",
   "metadata": {},
   "source": [
    "# Json to CSV"
   ]
  },
  {
   "cell_type": "code",
   "execution_count": 7,
   "metadata": {},
   "outputs": [],
   "source": [
    "import os\n",
    "import json\n",
    "import csv\n",
    "\n",
    "base_folder = './topics'\n",
    "book_list = []\n",
    "\n",
    "label = 0\n",
    "\n",
    "for folder in os.listdir(base_folder):\n",
    "    folder_path = os.path.join(base_folder, folder)\n",
    "    for file in os.listdir(folder_path):\n",
    "        file_path = os.path.join(folder_path, file)\n",
    "        with open(file_path) as f:\n",
    "            books = json.load(f)\n",
    "            for book in books:\n",
    "                book = book['volumeInfo']\n",
    "                title = book['title'] if 'title' in book else \"\"\n",
    "                description = book['description'] if 'description' in book else \"\"\n",
    "                if 'authors' in book:\n",
    "                    authors = ''\n",
    "                    for author in book['authors']:\n",
    "                        authors += author + \", \"\n",
    "                    authors = authors.strip(', ')\n",
    "                else:\n",
    "                    authors = ''\n",
    "                text = title + \" \" + authors + \" \" + description\n",
    "                text = text.strip(' ')\n",
    "                book_list.append({'label': label, 'category': folder + ' ' + file.split('.')[0], 'text': text })\n",
    "        label += 1\n",
    "\n",
    "with open('book_dataset.csv', 'w') as f:\n",
    "    w = csv.DictWriter(f, book_list[0].keys())\n",
    "    w.writeheader()\n",
    "    w.writerows(book_list)"
   ]
  },
  {
   "cell_type": "code",
   "execution_count": null,
   "metadata": {},
   "outputs": [],
   "source": []
  }
 ],
 "metadata": {
  "kernelspec": {
   "display_name": "Python 3",
   "language": "python",
   "name": "python3"
  },
  "language_info": {
   "codemirror_mode": {
    "name": "ipython",
    "version": 3
   },
   "file_extension": ".py",
   "mimetype": "text/x-python",
   "name": "python",
   "nbconvert_exporter": "python",
   "pygments_lexer": "ipython3",
   "version": "3.6.9"
  }
 },
 "nbformat": 4,
 "nbformat_minor": 4
}
