{
 "cells": [
  {
   "cell_type": "markdown",
   "metadata": {},
   "source": [
    "# Fetch books using google api"
   ]
  },
  {
   "cell_type": "code",
   "execution_count": 1,
   "metadata": {},
   "outputs": [],
   "source": [
    "import requests\n",
    "import json\n",
    "import os"
   ]
  },
  {
   "cell_type": "code",
   "execution_count": 2,
   "metadata": {},
   "outputs": [
    {
     "data": {
      "text/plain": [
       "['Computers & Technology',\n",
       " 'Business & Investing',\n",
       " 'Art, Music & Photography',\n",
       " 'Science & Math',\n",
       " 'Literature & Fiction',\n",
       " 'Comics & Graphics Novels']"
      ]
     },
     "execution_count": 2,
     "metadata": {},
     "output_type": "execute_result"
    }
   ],
   "source": [
    "api = 'https://www.googleapis.com/books/v1/volumes'\n",
    "base_folder = './topics'\n",
    "os.listdir(base_folder)"
   ]
  },
  {
   "cell_type": "code",
   "execution_count": 10,
   "metadata": {},
   "outputs": [],
   "source": [
    "dir = 'Biographies & Memoirs'\n",
    "folder = base_folder + '/' + dir\n",
    "if dir not in os.listdir(base_folder):\n",
    "    os.mkdir(folder) \n",
    "catg = ['Ethnic & Cultural', 'Europe', 'Historical', 'Leaders & Notable People', 'Military', 'Modern', 'Sports', 'United States', 'Women']"
   ]
  },
  {
   "cell_type": "code",
   "execution_count": 4,
   "metadata": {},
   "outputs": [],
   "source": [
    "def fetch(subject, file, q=0, folder=folder, loop=3):\n",
    "    arr = []\n",
    "    api = 'https://www.googleapis.com/books/v1/volumes'\n",
    "    for l in range(loop):\n",
    "        if not q:\n",
    "            url = api + '?q=subject:' + subject + '&langRestrict=en&startIndex=' + str(l * 40) + '&maxResults=40'\n",
    "        else:\n",
    "            url = api + '?q=' + subject + '&langRestrict=en&startIndex=' + str(l * 40) + '&maxResults=40'\n",
    "        res = requests.get(url).json()\n",
    "        if not res['totalItems']:\n",
    "            break\n",
    "        arr += res['items']\n",
    "        if len(res['items']) < 40:\n",
    "            break\n",
    "    if len(arr):\n",
    "        print(len(arr))\n",
    "        with open(folder + '/' + file + '.json', 'w') as f:\n",
    "            json.dump(arr, f)"
   ]
  },
  {
   "cell_type": "code",
   "execution_count": 15,
   "metadata": {},
   "outputs": [
    {
     "name": "stdout",
     "output_type": "stream",
     "text": [
      "Ethnic & Cultural\n"
     ]
    }
   ],
   "source": [
    "file = catg[0]\n",
    "print(file)\n",
    "subject = file + '+biographies+memoirs'"
   ]
  },
  {
   "cell_type": "code",
   "execution_count": 16,
   "metadata": {
    "scrolled": true
   },
   "outputs": [
    {
     "name": "stdout",
     "output_type": "stream",
     "text": [
      "2789\n",
      "title:EthniCity\n",
      "category: ['Social Science']\n",
      "description: Many urban areas in the developed world are ethnically diverse. They often compete for housing, employment, educational resources and political representation; may suffer residential segregation; but \n",
      "\n",
      "title:The International Spread of Ethnic Conflict\n",
      "category: ['Political Science']\n",
      "description: This work focuses on how, why and when ethnic conflicts either diffuse by precipitating similar conflicts elsewhere or escalate by bringing in outside parties and how such transnational ethnic conflic\n",
      "\n",
      "title:Ethnic Conflict and International Security\n",
      "category: ['Political Science']\n",
      "description: 8. Ethnic conflict and refugees, by Kathleen Newland\n",
      "\n",
      "title:Inter-ethnic and Religious Conflict Resolution in Nigeria\n",
      "category: ['History']\n",
      "description: Since 1982, Nigeria has experienced more than ten large scale ethnic or religious riots in its major cities. These violent clashes have wreaked economic, political, and social havoc; caused an enormou\n",
      "\n",
      "title:Ethnic Conflict\n",
      "category: ['Political Science']\n",
      "description: Why does ethnic conflict remain one of the major security challenges in today's world? Can we avoid another Rwanda in the future? How was it possible to prevent a significant escalation of violence in\n",
      "\n",
      "title:Multi-ethnic Britain 2000+\n",
      "category: ['Art']\n",
      "description: Multi-Ethnic Britain 2000+ provides an encompassing survey of artistic responses to the changes in the British cultural climate in the early years of the 21st century. It traces topical reactions to n\n",
      "\n",
      "title:Ethnic and Regional Foodways in the United States\n",
      "category: ['Social Science']\n",
      "description: \" . . . provides valuable information for the specialist in American studies, and for the anthropologist or folklorist focusing on food use, and may also be of interest to the general reading audience\n",
      "\n",
      "title:Ethnic Groups of Europe\n",
      "category: ['Reference']\n",
      "description: This comprehensive survey of ethnic groups of Europe reveals the dynamic process of ethnic identity and the relationship of ethnic groups to modern states. * Includes an introduction describing the co\n",
      "\n",
      "title:Ethnic Studies\n",
      "category: ['Social Science']\n",
      "description: Defines the field of ethnic studies and explores its methodologies.\n",
      "\n",
      "title:Ethnic Chinese in Contemporary Indonesia\n",
      "category: ['Social Science']\n",
      "description: The Chinese in Indonesia have played an important role in Indonesian society before and after the fall of Soeharto. This book provides comprehensive and up-to-date information by examining them in det\n",
      "\n",
      "title:Handbook of Research on Ethnic Minority Entrepreneurship\n",
      "category: ['Social Science']\n",
      "description: Professor Dana and his colleagues have carefully and successfully put together a collection of chapters on ethnic minority entrepreneurship from all parts of the world. The book comprises eight parts \n",
      "\n",
      "title:Undercurrents of Ethnic Conflicts in Kenya\n",
      "category: ['History']\n",
      "description: This book provides graphic and scholarly perspectives of ethnic conflict in kenya where ethnocentrism has grown with time and where both ethnic and administrative units are coterminous. As the country\n",
      "\n",
      "title:Ethnic Identity\n",
      "category: ['Social Science']\n",
      "description: In this thought-provoking reader of mostly new chapters, an international group of scholars link ethnicity to language, nationalism, localism, religion, and other issues in various crucial areas aroun\n",
      "\n",
      "title:The Rise and Fall of the Ethnic Revival\n",
      "category: ['Language and culture']\n",
      "description: CONTRIBUTIONS TO THE SOCIOLOGY OF LANGUAGE brings to students, researchers and practitioners in all of the social and language-related sciences carefully selected book-length publications dealing with\n",
      "\n",
      "title:The Ethnic Revival\n",
      "category: ['Social Science']\n",
      "description: Explores the ethnic separatisms and 'neo-nationalisms' that threatened to undermine the fragile stability of the world order in the early 1980s.\n",
      "\n",
      "title:International Law and Ethnic Conflict\n",
      "category: ['Law']\n",
      "description: Contents.\n",
      "\n",
      "title:Facing Ethnic Conflicts\n",
      "category: ['Political Science']\n",
      "description: This volume offers a major tour de force in bringing together for the first time key scholars, journalists, and policymakers from a variety of discipline perspectives to fully explore the wide range o\n",
      "\n",
      "title:Ethnic Identity\n",
      "category: ['Psychology']\n",
      "description: This book provides broad coverage of the various research approaches that have been used to study the development of ethnic identity in children and adolescents and the transmission of ethnic identity\n",
      "\n",
      "title:Family Therapy with Ethnic Minorities\n",
      "category: ['Psychology']\n",
      "description: Praise for First Edtion `There are many good things about the perspective taken in this book... an ambitious and creative effort. Provides a starting point on the road to building an alternative thera\n",
      "\n",
      "title:Institutions and Ethnic Politics in Africa\n",
      "category: ['Political Science']\n",
      "description: This book presents a theory to account for why and when politics revolves around one axis of social cleavage instead of another. It does so by examining the case of Zambia, where people identify thems\n",
      "\n",
      "title:Alcohol Use Among U. S. Ethnic Minorities\n",
      "description: Graphs, tables and maps.\n",
      "\n",
      "title:Racial and Ethnic Competition\n",
      "category: ['Social Science']\n",
      "\n",
      "title:Handbook of the Sociology of Racial and Ethnic Relations\n",
      "category: ['Social Science']\n",
      "description: The study of racial and ethnic relations has become one of the most written about aspects in sociology and sociological research. In both North America and Europe, many \"traditional\" cultures are feel\n",
      "\n",
      "title:Ethnic Conflicts in Southeast Asia\n",
      "category: ['Social Science']\n",
      "description: Potentially destabilizing ethnic conflicts continue to challenge nation-states worldwide: The countries of Southeast Asia are no exception. Globalization, population movements and historical and polit\n",
      "\n",
      "title:Perspectives on Contemporary Ethnic Conflict\n",
      "category: ['History']\n",
      "description: The existing traditions of inquiry into ethnic conflict can be classified into four categories: essentialism, instrumentalism, constructivism, and institutionalism. All four traditions have a distingu\n",
      "\n",
      "title:Racial and Ethnic Economic Inequality\n",
      "category: ['Social Science']\n",
      "description: In a world where racial tensions and racial and ethnic inequality seem to be increasing, it is instructive to look back over the decade of the 1990s to examine what academic researchers have had to sa\n",
      "\n",
      "title:Ethnic Groups and Population Changes in Twentieth-Century Central-Eastern Europe\n",
      "category: ['Social Science']\n",
      "description: This unique reference traces the changing borders and ethnic balances that characterized the history of Eastern Europe during the twentieth century. After a preliminary overview, the book divides East\n",
      "\n",
      "title:Why Ethnic Parties Succeed\n",
      "category: ['Political Science']\n",
      "description: Offers a theory on the performance of ethnic political parties as a distinct phenomenon.\n",
      "\n",
      "title:Ethnic Conflict in Sri Lanka and Role of Indian Peace Keeping Force (IPKF)\n",
      "category: ['Sri Lanka']\n",
      "\n",
      "title:Ethnic Constructs in Antiquity\n",
      "category: ['Social Science']\n",
      "description: A bold and original examination of the relationships between ethnicity and political power in the ancient world.\n",
      "\n",
      "title:Contemporary Ethnic Geographies in America\n",
      "category: ['Social Science']\n",
      "description: Ethnic diversity has marked the United States from its inception and is now experiencing watershed changes in its social, cultural, and ethnic/racial geographies. Considering the impact of these trans\n",
      "\n",
      "title:Ethnic Options\n",
      "category: ['History']\n",
      "description: \"Mary Waters' admirable study of Americans' ethnic choices produces a rich social-scientific yield. Its theoretical interest derives from the American irony that while ethnicity is 'supposed to be' as\n",
      "\n",
      "title:The Anthropology of Ethnicity\n",
      "category: ['Social Science']\n",
      "\n",
      "title:Drug Use Among Racial/Ethnic Minorities\n",
      "category: ['Psychology']\n",
      "description: Provides an understanding of the nature of drug use among minorities by summarizing data on this issue. The data came from several large and small-scale epidemiological studies that collect and analyz\n",
      "\n",
      "title:Carrots, Sticks, and Ethnic Conflict\n",
      "category: ['Business & Economics']\n",
      "description: DIVInvestigates whether international development assistance helps or aggravates ethnic strife /div\n",
      "\n",
      "title:The Dynamics of Ethnic Competition and Conflict\n",
      "category: ['Social Science']\n",
      "description: This study of ethnic violence in the United States from 1877 to 1914 reveals that not all ethnic groups were equally likely to be victims of violence; the author seeks the reasons for this historical \n",
      "\n",
      "title:Ethnic Groups in Conflict, Updated Edition With a New Preface\n",
      "category: ['Social Science']\n",
      "description: Drawing material from dozens of divided societies, Donald L. Horowitz constructs his theory of ethnic conflict, relating ethnic affiliations to kinship and intergroup relations to the fear of dominati\n",
      "\n",
      "title:Ethnic Chicago\n",
      "category: ['History']\n",
      "description: Describes the social structure, values, and lifestyles of Chicago ethnic groups, discusses America's cultural pluralism, and offers profiles of individuals who played an important part in Chicago's hi\n",
      "\n",
      "title:Challenging Ethnic Citizenship\n",
      "category: ['Political Science']\n",
      "description: Includes statistics.\n",
      "\n",
      "title:Complex Ethnic Households in America\n",
      "category: ['Social Science']\n",
      "description: This lively interdisciplinary book on 'complex households' in six U.S. ethnic groups uniquely combines rich ethnographic description conveying the 'sights and smells' of fieldwork with theory-linked o\n",
      "\n"
     ]
    }
   ],
   "source": [
    "# url = 'https://www.googleapis.com/books/v1/volumes?q=subject:' +subject + '&langRestrict=en&maxResults=40'\n",
    "url = 'https://www.googleapis.com/books/v1/volumes?q=' +subject + '&langRestrict=en&maxResults=40'\n",
    "res = requests.get(url).json()\n",
    "print(res['totalItems'])\n",
    "if res['totalItems']:\n",
    "    res = res['items']\n",
    "    for i in range(0, min(40, len(res))):\n",
    "        print('title:' + res[i]['volumeInfo']['title'])\n",
    "        if 'categories' in res[i]['volumeInfo']:\n",
    "            print('category: ' + str(res[i]['volumeInfo']['categories']))\n",
    "        if 'description' in res[i]['volumeInfo']:\n",
    "            print('description: ' + res[i]['volumeInfo']['description'][:200])\n",
    "        print()"
   ]
  },
  {
   "cell_type": "markdown",
   "metadata": {},
   "source": [
    "## Fetch Function"
   ]
  },
  {
   "cell_type": "code",
   "execution_count": 196,
   "metadata": {},
   "outputs": [
    {
     "name": "stdout",
     "output_type": "stream",
     "text": [
      "120\n"
     ]
    }
   ],
   "source": [
    "fetch(subject, file, q=0, loop=3)"
   ]
  },
  {
   "cell_type": "markdown",
   "metadata": {},
   "source": [
    "## Fetching Manually"
   ]
  },
  {
   "cell_type": "code",
   "execution_count": 186,
   "metadata": {},
   "outputs": [
    {
     "data": {
      "text/plain": [
       "17"
      ]
     },
     "execution_count": 186,
     "metadata": {},
     "output_type": "execute_result"
    }
   ],
   "source": [
    "arr = []\n",
    "url = api + '?q=subject:' + subject + '&langRestrict=en&startIndex=0&maxResults=40'\n",
    "# url = api + '?q=' + subject + '&langRestrict=en&startIndex=0&maxResults=40'\n",
    "res = requests.get(url).json()\n",
    "arr += res['items']\n",
    "len(arr)"
   ]
  },
  {
   "cell_type": "code",
   "execution_count": 189,
   "metadata": {},
   "outputs": [
    {
     "data": {
      "text/plain": [
       "97"
      ]
     },
     "execution_count": 189,
     "metadata": {},
     "output_type": "execute_result"
    }
   ],
   "source": [
    "# url = api + '?q=subject:' + subject + '&langRestrict=en&startIndex=40&maxResults=40'\n",
    "url = api + '?q=' + subject + '&langRestrict=en&startIndex=40&maxResults=40'\n",
    "res = requests.get(url).json()\n",
    "arr += res['items']\n",
    "len(arr)"
   ]
  },
  {
   "cell_type": "code",
   "execution_count": 116,
   "metadata": {},
   "outputs": [
    {
     "data": {
      "text/plain": [
       "120"
      ]
     },
     "execution_count": 116,
     "metadata": {},
     "output_type": "execute_result"
    }
   ],
   "source": [
    "# url = api + '?q=subject:' + subject + '&langRestrict=en&startIndex=80&maxResults=40'\n",
    "url = api + '?q=' + subject + '&langRestrict=en&startIndex=80&maxResults=40'\n",
    "res = requests.get(url).json()\n",
    "arr += res['items']\n",
    "len(arr)"
   ]
  },
  {
   "cell_type": "code",
   "execution_count": 190,
   "metadata": {},
   "outputs": [],
   "source": [
    "with open(folder + '/' + file + '.json', 'w') as f:\n",
    "    json.dump(arr, f)"
   ]
  },
  {
   "cell_type": "markdown",
   "metadata": {},
   "source": [
    "# Json to CSV"
   ]
  },
  {
   "cell_type": "code",
   "execution_count": 7,
   "metadata": {},
   "outputs": [],
   "source": [
    "import os\n",
    "import json\n",
    "import csv\n",
    "\n",
    "base_folder = './topics'\n",
    "book_list = []\n",
    "\n",
    "label = 0\n",
    "\n",
    "for folder in os.listdir(base_folder):\n",
    "    folder_path = os.path.join(base_folder, folder)\n",
    "    for file in os.listdir(folder_path):\n",
    "        file_path = os.path.join(folder_path, file)\n",
    "        with open(file_path) as f:\n",
    "            books = json.load(f)\n",
    "            for book in books:\n",
    "                book = book['volumeInfo']\n",
    "                title = book['title'] if 'title' in book else \"\"\n",
    "                description = book['description'] if 'description' in book else \"\"\n",
    "                if 'authors' in book:\n",
    "                    authors = ''\n",
    "                    for author in book['authors']:\n",
    "                        authors += author + \", \"\n",
    "                    authors = authors.strip(', ')\n",
    "                else:\n",
    "                    authors = ''\n",
    "                text = title + \" \" + authors + \" \" + description\n",
    "                text = text.strip(' ')\n",
    "                book_list.append({'label': label, 'category': folder + ' ' + file.split('.')[0], 'text': text })\n",
    "        label += 1\n",
    "\n",
    "with open('book_dataset.csv', 'w') as f:\n",
    "    w = csv.DictWriter(f, book_list[0].keys())\n",
    "    w.writeheader()\n",
    "    w.writerows(book_list)"
   ]
  },
  {
   "cell_type": "code",
   "execution_count": null,
   "metadata": {},
   "outputs": [],
   "source": []
  }
 ],
 "metadata": {
  "kernelspec": {
   "display_name": "Python (cvit)",
   "language": "python",
   "name": "cvit"
  },
  "language_info": {
   "codemirror_mode": {
    "name": "ipython",
    "version": 3
   },
   "file_extension": ".py",
   "mimetype": "text/x-python",
   "name": "python",
   "nbconvert_exporter": "python",
   "pygments_lexer": "ipython3",
   "version": "3.7.7"
  }
 },
 "nbformat": 4,
 "nbformat_minor": 4
}
